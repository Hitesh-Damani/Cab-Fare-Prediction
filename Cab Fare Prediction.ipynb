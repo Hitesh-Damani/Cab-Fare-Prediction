{
 "cells": [
  {
   "cell_type": "markdown",
   "metadata": {},
   "source": [
    "# Cab Fare Prediction"
   ]
  },
  {
   "cell_type": "markdown",
   "metadata": {},
   "source": [
    "#### Data Science project can be broken down into below workflow:\n",
    "\n",
    "#### 1.Prepare Problem a) Load libraries b) Load dataset\n",
    "#### 2.Summarize Data a) Descriptive statistics b) Data visualizations\n",
    "#### 3.Prepare Data a) Data Cleaning b) Feature Selection c) Data Transforms\n",
    "#### 4.Evaluate Algorithms a) Split-out validation dataset b) Test options and evaluation metric c) Spot Check Algorithms d) Compare Algorithms\n",
    "#### 5.Improve Accuracy a) Algorithm Tuning b) Ensembles\n",
    "#### 6.Finalize Model a) Predictions on validation dataset b) Create standalone model on entire training dataset c) Save model for later use"
   ]
  },
  {
   "cell_type": "markdown",
   "metadata": {},
   "source": [
    "### Importing the relevant libraries"
   ]
  },
  {
   "cell_type": "code",
   "execution_count": 1,
   "metadata": {},
   "outputs": [],
   "source": [
    "import numpy as np\n",
    "import os\n",
    "import pandas as pd\n",
    "import matplotlib.pyplot as plt\n",
    "%matplotlib inline\n",
    "import seaborn as sns\n",
    "sns.set\n",
    "import scipy.stats as stats\n",
    "import warnings\n",
    "warnings.filterwarnings('ignore')\n",
    "\n",
    "#Library for calculating distance when longitude and latitudes are given\n",
    "from geopy.distance import geodesic\n",
    "from geopy.distance import great_circle\n",
    "\n",
    "#Library for Chi-Square test\n",
    "from scipy.stats import chi2_contingency\n",
    "\n",
    "#Statsmodels library\n",
    "import statsmodels.api as sm\n",
    "from statsmodels.formula.api import ols\n",
    "\n",
    "#Library for ANOVA test\n",
    "from patsy import dmatrices\n",
    "\n",
    "#Library for checking Multicollinearity\n",
    "from statsmodels.stats.outliers_influence import variance_inflation_factor\n",
    "\n",
    "#Library for splitting the data into train andd test dataset\n",
    "from sklearn.model_selection import train_test_split\n",
    "\n",
    "#Library for Standardized the data\n",
    "from sklearn.preprocessing import StandardScaler\n",
    "\n",
    "#Libraries for various types of Error Metrics\n",
    "from sklearn import metrics\n",
    "from sklearn.metrics import mean_squared_error\n",
    "from sklearn.metrics import mean_absolute_error\n",
    "from sklearn.metrics import mean_squared_log_error\n",
    "\n",
    "#library for Linear Regression\n",
    "from sklearn.linear_model import LinearRegression,Ridge,Lasso\n",
    "\n",
    "# Library for Hyperparameters Tuning\n",
    "from sklearn.model_selection import GridSearchCV\n",
    "from sklearn.model_selection import RandomizedSearchCV\n",
    "\n",
    "#Library for k-fold cross validation\n",
    "from sklearn.model_selection import cross_val_score\n",
    "\n",
    "#Library for Decision Tree\n",
    "from sklearn.tree import DecisionTreeRegressor\n",
    "\n",
    "#Library for Random Forest\n",
    "from sklearn.ensemble import RandomForestRegressor\n",
    "\n",
    "# Library for Ensemble method:XG Boost\n",
    "from xgboost import XGBRegressor\n",
    "import xgboost as xgb"
   ]
  },
  {
   "cell_type": "markdown",
   "metadata": {},
   "source": [
    "### Setting the working directory"
   ]
  },
  {
   "cell_type": "code",
   "execution_count": 2,
   "metadata": {},
   "outputs": [
    {
     "data": {
      "text/plain": [
       "'E:\\\\Edwisor Project\\\\Cab Fare Prediction'"
      ]
     },
     "execution_count": 2,
     "metadata": {},
     "output_type": "execute_result"
    }
   ],
   "source": [
    "os.chdir('E:/Edwisor Project/Cab Fare Prediction')\n",
    "os.getcwd()"
   ]
  },
  {
   "cell_type": "markdown",
   "metadata": {},
   "source": [
    "### Loading the train and test dataset"
   ]
  },
  {
   "cell_type": "code",
   "execution_count": 3,
   "metadata": {},
   "outputs": [],
   "source": [
    "train=pd.read_csv('train.csv')"
   ]
  },
  {
   "cell_type": "code",
   "execution_count": 4,
   "metadata": {},
   "outputs": [],
   "source": [
    "test=pd.read_csv('test.csv')"
   ]
  },
  {
   "cell_type": "code",
   "execution_count": 5,
   "metadata": {},
   "outputs": [
    {
     "data": {
      "text/html": [
       "<div>\n",
       "<style scoped>\n",
       "    .dataframe tbody tr th:only-of-type {\n",
       "        vertical-align: middle;\n",
       "    }\n",
       "\n",
       "    .dataframe tbody tr th {\n",
       "        vertical-align: top;\n",
       "    }\n",
       "\n",
       "    .dataframe thead th {\n",
       "        text-align: right;\n",
       "    }\n",
       "</style>\n",
       "<table border=\"1\" class=\"dataframe\">\n",
       "  <thead>\n",
       "    <tr style=\"text-align: right;\">\n",
       "      <th></th>\n",
       "      <th>fare_amount</th>\n",
       "      <th>pickup_datetime</th>\n",
       "      <th>pickup_longitude</th>\n",
       "      <th>pickup_latitude</th>\n",
       "      <th>dropoff_longitude</th>\n",
       "      <th>dropoff_latitude</th>\n",
       "      <th>passenger_count</th>\n",
       "    </tr>\n",
       "  </thead>\n",
       "  <tbody>\n",
       "    <tr>\n",
       "      <td>0</td>\n",
       "      <td>4.5</td>\n",
       "      <td>2009-06-15 17:26:21 UTC</td>\n",
       "      <td>-73.844311</td>\n",
       "      <td>40.721319</td>\n",
       "      <td>-73.841610</td>\n",
       "      <td>40.712278</td>\n",
       "      <td>1.0</td>\n",
       "    </tr>\n",
       "    <tr>\n",
       "      <td>1</td>\n",
       "      <td>16.9</td>\n",
       "      <td>2010-01-05 16:52:16 UTC</td>\n",
       "      <td>-74.016048</td>\n",
       "      <td>40.711303</td>\n",
       "      <td>-73.979268</td>\n",
       "      <td>40.782004</td>\n",
       "      <td>1.0</td>\n",
       "    </tr>\n",
       "    <tr>\n",
       "      <td>2</td>\n",
       "      <td>5.7</td>\n",
       "      <td>2011-08-18 00:35:00 UTC</td>\n",
       "      <td>-73.982738</td>\n",
       "      <td>40.761270</td>\n",
       "      <td>-73.991242</td>\n",
       "      <td>40.750562</td>\n",
       "      <td>2.0</td>\n",
       "    </tr>\n",
       "    <tr>\n",
       "      <td>3</td>\n",
       "      <td>7.7</td>\n",
       "      <td>2012-04-21 04:30:42 UTC</td>\n",
       "      <td>-73.987130</td>\n",
       "      <td>40.733143</td>\n",
       "      <td>-73.991567</td>\n",
       "      <td>40.758092</td>\n",
       "      <td>1.0</td>\n",
       "    </tr>\n",
       "    <tr>\n",
       "      <td>4</td>\n",
       "      <td>5.3</td>\n",
       "      <td>2010-03-09 07:51:00 UTC</td>\n",
       "      <td>-73.968095</td>\n",
       "      <td>40.768008</td>\n",
       "      <td>-73.956655</td>\n",
       "      <td>40.783762</td>\n",
       "      <td>1.0</td>\n",
       "    </tr>\n",
       "  </tbody>\n",
       "</table>\n",
       "</div>"
      ],
      "text/plain": [
       "  fare_amount          pickup_datetime  pickup_longitude  pickup_latitude  \\\n",
       "0         4.5  2009-06-15 17:26:21 UTC        -73.844311        40.721319   \n",
       "1        16.9  2010-01-05 16:52:16 UTC        -74.016048        40.711303   \n",
       "2         5.7  2011-08-18 00:35:00 UTC        -73.982738        40.761270   \n",
       "3         7.7  2012-04-21 04:30:42 UTC        -73.987130        40.733143   \n",
       "4         5.3  2010-03-09 07:51:00 UTC        -73.968095        40.768008   \n",
       "\n",
       "   dropoff_longitude  dropoff_latitude  passenger_count  \n",
       "0         -73.841610         40.712278              1.0  \n",
       "1         -73.979268         40.782004              1.0  \n",
       "2         -73.991242         40.750562              2.0  \n",
       "3         -73.991567         40.758092              1.0  \n",
       "4         -73.956655         40.783762              1.0  "
      ]
     },
     "execution_count": 5,
     "metadata": {},
     "output_type": "execute_result"
    }
   ],
   "source": [
    "train.head(5)"
   ]
  },
  {
   "cell_type": "code",
   "execution_count": 6,
   "metadata": {},
   "outputs": [
    {
     "data": {
      "text/html": [
       "<div>\n",
       "<style scoped>\n",
       "    .dataframe tbody tr th:only-of-type {\n",
       "        vertical-align: middle;\n",
       "    }\n",
       "\n",
       "    .dataframe tbody tr th {\n",
       "        vertical-align: top;\n",
       "    }\n",
       "\n",
       "    .dataframe thead th {\n",
       "        text-align: right;\n",
       "    }\n",
       "</style>\n",
       "<table border=\"1\" class=\"dataframe\">\n",
       "  <thead>\n",
       "    <tr style=\"text-align: right;\">\n",
       "      <th></th>\n",
       "      <th>pickup_datetime</th>\n",
       "      <th>pickup_longitude</th>\n",
       "      <th>pickup_latitude</th>\n",
       "      <th>dropoff_longitude</th>\n",
       "      <th>dropoff_latitude</th>\n",
       "      <th>passenger_count</th>\n",
       "    </tr>\n",
       "  </thead>\n",
       "  <tbody>\n",
       "    <tr>\n",
       "      <td>0</td>\n",
       "      <td>2015-01-27 13:08:24 UTC</td>\n",
       "      <td>-73.973320</td>\n",
       "      <td>40.763805</td>\n",
       "      <td>-73.981430</td>\n",
       "      <td>40.743835</td>\n",
       "      <td>1</td>\n",
       "    </tr>\n",
       "    <tr>\n",
       "      <td>1</td>\n",
       "      <td>2015-01-27 13:08:24 UTC</td>\n",
       "      <td>-73.986862</td>\n",
       "      <td>40.719383</td>\n",
       "      <td>-73.998886</td>\n",
       "      <td>40.739201</td>\n",
       "      <td>1</td>\n",
       "    </tr>\n",
       "    <tr>\n",
       "      <td>2</td>\n",
       "      <td>2011-10-08 11:53:44 UTC</td>\n",
       "      <td>-73.982524</td>\n",
       "      <td>40.751260</td>\n",
       "      <td>-73.979654</td>\n",
       "      <td>40.746139</td>\n",
       "      <td>1</td>\n",
       "    </tr>\n",
       "    <tr>\n",
       "      <td>3</td>\n",
       "      <td>2012-12-01 21:12:12 UTC</td>\n",
       "      <td>-73.981160</td>\n",
       "      <td>40.767807</td>\n",
       "      <td>-73.990448</td>\n",
       "      <td>40.751635</td>\n",
       "      <td>1</td>\n",
       "    </tr>\n",
       "    <tr>\n",
       "      <td>4</td>\n",
       "      <td>2012-12-01 21:12:12 UTC</td>\n",
       "      <td>-73.966046</td>\n",
       "      <td>40.789775</td>\n",
       "      <td>-73.988565</td>\n",
       "      <td>40.744427</td>\n",
       "      <td>1</td>\n",
       "    </tr>\n",
       "  </tbody>\n",
       "</table>\n",
       "</div>"
      ],
      "text/plain": [
       "           pickup_datetime  pickup_longitude  pickup_latitude  \\\n",
       "0  2015-01-27 13:08:24 UTC        -73.973320        40.763805   \n",
       "1  2015-01-27 13:08:24 UTC        -73.986862        40.719383   \n",
       "2  2011-10-08 11:53:44 UTC        -73.982524        40.751260   \n",
       "3  2012-12-01 21:12:12 UTC        -73.981160        40.767807   \n",
       "4  2012-12-01 21:12:12 UTC        -73.966046        40.789775   \n",
       "\n",
       "   dropoff_longitude  dropoff_latitude  passenger_count  \n",
       "0         -73.981430         40.743835                1  \n",
       "1         -73.998886         40.739201                1  \n",
       "2         -73.979654         40.746139                1  \n",
       "3         -73.990448         40.751635                1  \n",
       "4         -73.988565         40.744427                1  "
      ]
     },
     "execution_count": 6,
     "metadata": {},
     "output_type": "execute_result"
    }
   ],
   "source": [
    "test.head(5)"
   ]
  },
  {
   "cell_type": "code",
   "execution_count": 7,
   "metadata": {},
   "outputs": [
    {
     "data": {
      "text/plain": [
       "((16067, 7), (9914, 6))"
      ]
     },
     "execution_count": 7,
     "metadata": {},
     "output_type": "execute_result"
    }
   ],
   "source": [
    "#shape of train and test data\n",
    "train.shape, test.shape"
   ]
  },
  {
   "cell_type": "code",
   "execution_count": 8,
   "metadata": {
    "scrolled": true
   },
   "outputs": [
    {
     "data": {
      "text/plain": [
       "fare_amount           object\n",
       "pickup_datetime       object\n",
       "pickup_longitude     float64\n",
       "pickup_latitude      float64\n",
       "dropoff_longitude    float64\n",
       "dropoff_latitude     float64\n",
       "passenger_count      float64\n",
       "dtype: object"
      ]
     },
     "execution_count": 8,
     "metadata": {},
     "output_type": "execute_result"
    }
   ],
   "source": [
    "# Datatype of the variables of train dataset\n",
    "train.dtypes"
   ]
  },
  {
   "cell_type": "code",
   "execution_count": 9,
   "metadata": {},
   "outputs": [
    {
     "data": {
      "text/plain": [
       "fare_amount          float64\n",
       "pickup_datetime       object\n",
       "pickup_longitude     float64\n",
       "pickup_latitude      float64\n",
       "dropoff_longitude    float64\n",
       "dropoff_latitude     float64\n",
       "passenger_count      float64\n",
       "dtype: object"
      ]
     },
     "execution_count": 9,
     "metadata": {},
     "output_type": "execute_result"
    }
   ],
   "source": [
    "# Here Fare amount is object type which does not make sense as it is price and should be of int or float type.\n",
    "train['fare_amount'] = pd.to_numeric(train['fare_amount'],errors='coerce')\n",
    "train.dtypes"
   ]
  },
  {
   "cell_type": "code",
   "execution_count": 10,
   "metadata": {},
   "outputs": [
    {
     "data": {
      "text/plain": [
       "fare_amount          25\n",
       "pickup_datetime       0\n",
       "pickup_longitude      0\n",
       "pickup_latitude       0\n",
       "dropoff_longitude     0\n",
       "dropoff_latitude      0\n",
       "passenger_count      55\n",
       "dtype: int64"
      ]
     },
     "execution_count": 10,
     "metadata": {},
     "output_type": "execute_result"
    }
   ],
   "source": [
    "train.isnull().sum()"
   ]
  },
  {
   "cell_type": "code",
   "execution_count": 11,
   "metadata": {},
   "outputs": [
    {
     "data": {
      "text/plain": [
       "pickup_datetime       object\n",
       "pickup_longitude     float64\n",
       "pickup_latitude      float64\n",
       "dropoff_longitude    float64\n",
       "dropoff_latitude     float64\n",
       "passenger_count        int64\n",
       "dtype: object"
      ]
     },
     "execution_count": 11,
     "metadata": {},
     "output_type": "execute_result"
    }
   ],
   "source": [
    "# Datatype of the variables of test dataset\n",
    "test.dtypes"
   ]
  },
  {
   "cell_type": "markdown",
   "metadata": {},
   "source": [
    "\n",
    "#### The details of data attributes in the dataset are as follows:\n",
    "#### 1. fare_amount -> object value, converted to float indicating the price charged for journey (Target variable)\n",
    "#### 1. pickup_datetime -> object value indicating when the cab ride started (needs to be converted into datetime)\n",
    "#### 2. pickup_longitude -> float for longitude coordinate of where the cab ride started.\n",
    "#### 3. pickup_latitude -> float for latitude coordinate of where the cab ride started.\n",
    "#### 4. dropoff_longitude -> float for longitude coordinate of where the cab ride ended.\n",
    "#### 5. dropoff_latitude -> float for latitude coordinate of where the cab ride ended.\n",
    "#### 6. passenger_count -> float value indicating the number of passengers in the cab ride.\n",
    "\n",
    "\n",
    "\n",
    "\n",
    "##### Note :- As per our observation it can be seen that passengers must be limited in number in cab. So a standard value of 6 is assumed,passengers more than 6 must not be eligible to sit in cab.\n"
   ]
  },
  {
   "cell_type": "markdown",
   "metadata": {},
   "source": [
    "### Exploratory Data Analysis : Visualization"
   ]
  },
  {
   "cell_type": "markdown",
   "metadata": {},
   "source": [
    "###### 1. Visualizing distribution of fare_amount"
   ]
  },
  {
   "cell_type": "code",
   "execution_count": 14,
   "metadata": {},
   "outputs": [
    {
     "data": {
      "text/plain": [
       "Text(0.5, 1.0, 'Distribution of Trip Fare')"
      ]
     },
     "execution_count": 14,
     "metadata": {},
     "output_type": "execute_result"
    },
    {
     "data": {
      "image/png": "[encoded data removed]",
      "text/plain": [
       "<Figure size 576x360 with 1 Axes>"
      ]
     },
     "metadata": {},
     "output_type": "display_data"
    }
   ],
   "source": [
    "plt.figure(figsize=(8,5))\n",
    "sns.kdeplot(train['fare_amount']).set_title(\"Distribution of Trip Fare\")"
   ]
  },
  {
   "cell_type": "markdown",
   "metadata": {},
   "source": [
    "Since we saw above that fare amount is highly skewed,let us take log transformation of the fare amount and plot the distribution"
   ]
  },
  {
   "cell_type": "code",
   "execution_count": 15,
   "metadata": {},
   "outputs": [
    {
     "data": {
      "text/plain": [
       "Text(0.5, 1.0, 'Distribution of fare amount (log scale)')"
      ]
     },
     "execution_count": 15,
     "metadata": {},
     "output_type": "execute_result"
    },
    {
     "data": {
      "image/png": "[encoded data removed]",
      "text/plain": [
       "<Figure size 576x360 with 1 Axes>"
      ]
     },
     "metadata": {},
     "output_type": "display_data"
    }
   ],
   "source": [
    "plt.figure(figsize=(8,5))\n",
    "sns.kdeplot(np.log(train['fare_amount'].values)).set_title(\"Distribution of fare amount (log scale)\")"
   ]
  },
  {
   "cell_type": "markdown",
   "metadata": {},
   "source": [
    "Most fares are between 2.7.Median fare is around 10\n"
   ]
  },
  {
   "cell_type": "code",
   "execution_count": 22,
   "metadata": {},
   "outputs": [
    {
     "data": {
      "text/plain": [
       "Text(0, 0.5, 'Frequency')"
      ]
     },
     "execution_count": 22,
     "metadata": {},
     "output_type": "execute_result"
    },
    {
     "data": {
      "image/png": "[encoded data removed]",
      "text/plain": [
       "<Figure size 1152x576 with 1 Axes>"
      ]
     },
     "metadata": {},
     "output_type": "display_data"
    }
   ],
   "source": [
    "# Lets see the distribution of fare amount less than 100\n",
    "train[train.fare_amount <100 ].fare_amount.hist(bins=100, figsize = (16,8))\n",
    "plt.xlabel(\"Fare Amount\")\n",
    "plt.ylabel(\"Frequency\")"
   ]
  },
  {
   "cell_type": "markdown",
   "metadata": {},
   "source": [
    "There are few points between 40 and 60 dollars which has slightly high frequency and that could be airport trips"
   ]
  },
  {
   "cell_type": "code",
   "execution_count": 23,
   "metadata": {},
   "outputs": [
    {
     "data": {
      "text/plain": [
       "(9, 7)"
      ]
     },
     "execution_count": 23,
     "metadata": {},
     "output_type": "execute_result"
    }
   ],
   "source": [
    "train[train.fare_amount>100].shape"
   ]
  },
  {
   "cell_type": "code",
   "execution_count": 24,
   "metadata": {},
   "outputs": [
    {
     "data": {
      "text/plain": [
       "Text(0, 0.5, 'Frequency')"
      ]
     },
     "execution_count": 24,
     "metadata": {},
     "output_type": "execute_result"
    },
    {
     "data": {
      "image/png": "[encoded data removed]",
      "text/plain": [
       "<Figure size 1152x576 with 1 Axes>"
      ]
     },
     "metadata": {},
     "output_type": "display_data"
    }
   ],
   "source": [
    "# Lets see the distribution of fare amount more than 100\n",
    "train[train.fare_amount >100 ].fare_amount.hist(bins=100, figsize = (16,8))\n",
    "plt.xlabel(\"Fare Amount\")\n",
    "plt.ylabel(\"Frequency\")"
   ]
  },
  {
   "cell_type": "markdown",
   "metadata": {},
   "source": [
    "    => We can see here that there are total 9 trips which are above 100 dollars\n",
    "    => Some of them might be outliers or few of them might be long distance trip from/to airport, we will see it in later section"
   ]
  },
  {
   "cell_type": "markdown",
   "metadata": {},
   "source": [
    " ###### 2. Visualization of passenger_count distribution"
   ]
  },
  {
   "cell_type": "code",
   "execution_count": 25,
   "metadata": {},
   "outputs": [
    {
     "data": {
      "text/plain": [
       "Text(0, 0.5, 'Frequency')"
      ]
     },
     "execution_count": 25,
     "metadata": {},
     "output_type": "execute_result"
    },
    {
     "data": {
      "image/png": "[encoded data removed]",
      "text/plain": [
       "<Figure size 1152x576 with 1 Axes>"
      ]
     },
     "metadata": {},
     "output_type": "display_data"
    }
   ],
   "source": [
    "# checking for passanger count greater than 7\n",
    "train[train.passenger_count >7].passenger_count.hist(bins=10, figsize = (16,8))\n",
    "plt.xlim(0,10000)\n",
    "plt.xlabel(\"Passanger Count\")\n",
    "plt.ylabel(\"Frequency\")"
   ]
  },
  {
   "cell_type": "code",
   "execution_count": 27,
   "metadata": {},
   "outputs": [
    {
     "data": {
      "text/plain": [
       "(20, 7)"
      ]
     },
     "execution_count": 27,
     "metadata": {},
     "output_type": "execute_result"
    }
   ],
   "source": [
    "# data for passanger count greater than 7\n",
    "train[train.passenger_count >7].shape"
   ]
  },
  {
   "cell_type": "markdown",
   "metadata": {},
   "source": [
    "There are 20 values of passenger count >7 we will we will anayze this value in Outlier Analysis Section."
   ]
  },
  {
   "cell_type": "code",
   "execution_count": 28,
   "metadata": {},
   "outputs": [
    {
     "data": {
      "text/plain": [
       "Text(0, 0.5, 'Frequency')"
      ]
     },
     "execution_count": 28,
     "metadata": {},
     "output_type": "execute_result"
    },
    {
     "data": {
      "image/png": "[encoded data removed]",
      "text/plain": [
       "<Figure size 1152x576 with 1 Axes>"
      ]
     },
     "metadata": {},
     "output_type": "display_data"
    }
   ],
   "source": [
    "# checking for passanger count less than 7\n",
    "train[train.passenger_count <7].passenger_count.hist(bins=10, figsize = (16,8))\n",
    "plt.xlim(0,6)\n",
    "plt.xlabel(\"Passanger Count\")\n",
    "plt.ylabel(\"Frequency\")"
   ]
  },
  {
   "cell_type": "markdown",
   "metadata": {},
   "source": [
    "Most of the trips are taken by single passanger, we will try to see if there is any relation between passenger count and fare amout"
   ]
  },
  {
   "cell_type": "code",
   "execution_count": 29,
   "metadata": {},
   "outputs": [
    {
     "data": {
      "text/plain": [
       "(57, 7)"
      ]
     },
     "execution_count": 29,
     "metadata": {},
     "output_type": "execute_result"
    }
   ],
   "source": [
    "# checking for records where passanger count is 0\n",
    "train[train.passenger_count ==0].shape"
   ]
  },
  {
   "cell_type": "markdown",
   "metadata": {},
   "source": [
    "We have 57 such cases where passanger count is zero, there can be two possibility\n",
    "\n",
    "    Passanger count is incorrectly populated\n",
    "    Taxi was not carrying any passanger, may be taxi was used for goods"
   ]
  },
  {
   "cell_type": "code",
   "execution_count": 30,
   "metadata": {},
   "outputs": [
    {
     "data": {
      "image/png": "[encoded data removed]",
      "text/plain": [
       "<Figure size 1152x576 with 1 Axes>"
      ]
     },
     "metadata": {},
     "output_type": "display_data"
    }
   ],
   "source": [
    "train['passenger_count'].dtype\n",
    "train['passenger_count']=train['passenger_count'].round().astype('object')\n",
    "plt.figure(figsize= (16,8))\n",
    "sns.boxplot(x = train[train.passenger_count< 7].passenger_count, y = train.fare_amount)\n",
    "plt.ylim(0,1200)\n",
    "plt.show()"
   ]
  },
  {
   "cell_type": "markdown",
   "metadata": {},
   "source": [
    "    As we can see from the box plot median price of each passanger counts looks similar except one record, There are few outliers we wil treat in cleaning section\n",
    "    We will try to see if there is any relationship between passanger count and fare amount using correlation factor"
   ]
  },
  {
   "cell_type": "markdown",
   "metadata": {},
   "source": [
    "##### Bi-Variate Analysis"
   ]
  },
  {
   "cell_type": "markdown",
   "metadata": {},
   "source": [
    "###### 1. Joint Plot Between fare_amount and pickup_lonfitude"
   ]
  },
  {
   "cell_type": "code",
   "execution_count": 16,
   "metadata": {},
   "outputs": [
    {
     "data": {
      "image/png": "[encoded data removed]",
      "text/plain": [
       "<Figure size 432x432 with 3 Axes>"
      ]
     },
     "metadata": {},
     "output_type": "display_data"
    }
   ],
   "source": [
    "fare_plong= sns.jointplot(x='fare_amount',y='pickup_longitude',data=train,kind = 'reg')\n",
    "fare_plong.annotate(stats.pearsonr)\n",
    "plt.show()"
   ]
  },
  {
   "cell_type": "markdown",
   "metadata": {},
   "source": [
    "##### 2. Joint plot between fare_amount and pickup_latitude"
   ]
  },
  {
   "cell_type": "code",
   "execution_count": 17,
   "metadata": {},
   "outputs": [
    {
     "data": {
      "image/png": "[encoded data removed]",
      "text/plain": [
       "<Figure size 432x432 with 3 Axes>"
      ]
     },
     "metadata": {},
     "output_type": "display_data"
    }
   ],
   "source": [
    "fare_plat= sns.jointplot(x='fare_amount',y='pickup_latitude',data=train,kind = 'reg')\n",
    "fare_plat.annotate(stats.pearsonr)\n",
    "plt.show()"
   ]
  },
  {
   "cell_type": "markdown",
   "metadata": {},
   "source": [
    "##### 3. Joint plot between fare_amount and dropoff_longitude"
   ]
  },
  {
   "cell_type": "code",
   "execution_count": 18,
   "metadata": {},
   "outputs": [
    {
     "data": {
      "image/png": "[encoded data removed]",
      "text/plain": [
       "<Figure size 432x432 with 3 Axes>"
      ]
     },
     "metadata": {},
     "output_type": "display_data"
    }
   ],
   "source": [
    "fare_dlong= sns.jointplot(x='fare_amount',y='dropoff_longitude',data=train,kind = 'reg')\n",
    "fare_dlong.annotate(stats.pearsonr)\n",
    "plt.show()"
   ]
  },
  {
   "cell_type": "markdown",
   "metadata": {},
   "source": [
    "##### 4. Joint plot between fare_amount and dropoff_latitude"
   ]
  },
  {
   "cell_type": "code",
   "execution_count": 19,
   "metadata": {},
   "outputs": [
    {
     "data": {
      "image/png": "[encoded data removed]",
      "text/plain": [
       "<Figure size 432x432 with 3 Axes>"
      ]
     },
     "metadata": {},
     "output_type": "display_data"
    }
   ],
   "source": [
    "fare_dlati = sns.jointplot(x='fare_amount',y='dropoff_latitude',data=train,kind = 'reg')\n",
    "fare_dlati.annotate(stats.pearsonr)\n",
    "plt.show()"
   ]
  },
  {
   "cell_type": "markdown",
   "metadata": {},
   "source": [
    "##### 5. PairPlot to visualize the spread of data"
   ]
  },
  {
   "cell_type": "code",
   "execution_count": 21,
   "metadata": {},
   "outputs": [
    {
     "data": {
      "image/png": "[encoded data removed]",
      "text/plain": [
       "<Figure size 900x900 with 30 Axes>"
      ]
     },
     "metadata": {},
     "output_type": "display_data"
    }
   ],
   "source": [
    "num_var=['fare_amount','pickup_longitude','pickup_latitude','dropoff_longitude','dropoff_latitude']\n",
    "_ =sns.pairplot(data=train[num_var],kind='scatter',dropna=True)\n",
    "_.fig.suptitle('Pairwise plot of all numerical variables')\n",
    "plt.show()"
   ]
  },
  {
   "cell_type": "markdown",
   "metadata": {},
   "source": [
    "### Exploratory Data Analysis"
   ]
  },
  {
   "cell_type": "markdown",
   "metadata": {},
   "source": [
    "#### Exploring the descriptive statistics of the variables"
   ]
  },
  {
   "cell_type": "code",
   "execution_count": 32,
   "metadata": {},
   "outputs": [
    {
     "data": {
      "text/html": [
       "<div>\n",
       "<style scoped>\n",
       "    .dataframe tbody tr th:only-of-type {\n",
       "        vertical-align: middle;\n",
       "    }\n",
       "\n",
       "    .dataframe tbody tr th {\n",
       "        vertical-align: top;\n",
       "    }\n",
       "\n",
       "    .dataframe thead th {\n",
       "        text-align: right;\n",
       "    }\n",
       "</style>\n",
       "<table border=\"1\" class=\"dataframe\">\n",
       "  <thead>\n",
       "    <tr style=\"text-align: right;\">\n",
       "      <th></th>\n",
       "      <th>fare_amount</th>\n",
       "      <th>pickup_longitude</th>\n",
       "      <th>pickup_latitude</th>\n",
       "      <th>dropoff_longitude</th>\n",
       "      <th>dropoff_latitude</th>\n",
       "    </tr>\n",
       "  </thead>\n",
       "  <tbody>\n",
       "    <tr>\n",
       "      <td>count</td>\n",
       "      <td>16042.000000</td>\n",
       "      <td>16067.000000</td>\n",
       "      <td>16067.000000</td>\n",
       "      <td>16067.000000</td>\n",
       "      <td>16067.000000</td>\n",
       "    </tr>\n",
       "    <tr>\n",
       "      <td>mean</td>\n",
       "      <td>15.015004</td>\n",
       "      <td>-72.462787</td>\n",
       "      <td>39.914725</td>\n",
       "      <td>-72.462328</td>\n",
       "      <td>39.897906</td>\n",
       "    </tr>\n",
       "    <tr>\n",
       "      <td>std</td>\n",
       "      <td>430.460945</td>\n",
       "      <td>10.578384</td>\n",
       "      <td>6.826587</td>\n",
       "      <td>10.575062</td>\n",
       "      <td>6.187087</td>\n",
       "    </tr>\n",
       "    <tr>\n",
       "      <td>min</td>\n",
       "      <td>-3.000000</td>\n",
       "      <td>-74.438233</td>\n",
       "      <td>-74.006893</td>\n",
       "      <td>-74.429332</td>\n",
       "      <td>-74.006377</td>\n",
       "    </tr>\n",
       "    <tr>\n",
       "      <td>25%</td>\n",
       "      <td>6.000000</td>\n",
       "      <td>-73.992156</td>\n",
       "      <td>40.734927</td>\n",
       "      <td>-73.991182</td>\n",
       "      <td>40.734651</td>\n",
       "    </tr>\n",
       "    <tr>\n",
       "      <td>50%</td>\n",
       "      <td>8.500000</td>\n",
       "      <td>-73.981698</td>\n",
       "      <td>40.752603</td>\n",
       "      <td>-73.980172</td>\n",
       "      <td>40.753567</td>\n",
       "    </tr>\n",
       "    <tr>\n",
       "      <td>75%</td>\n",
       "      <td>12.500000</td>\n",
       "      <td>-73.966838</td>\n",
       "      <td>40.767381</td>\n",
       "      <td>-73.963643</td>\n",
       "      <td>40.768013</td>\n",
       "    </tr>\n",
       "    <tr>\n",
       "      <td>max</td>\n",
       "      <td>54343.000000</td>\n",
       "      <td>40.766125</td>\n",
       "      <td>401.083332</td>\n",
       "      <td>40.802437</td>\n",
       "      <td>41.366138</td>\n",
       "    </tr>\n",
       "  </tbody>\n",
       "</table>\n",
       "</div>"
      ],
      "text/plain": [
       "        fare_amount  pickup_longitude  pickup_latitude  dropoff_longitude  \\\n",
       "count  16042.000000      16067.000000     16067.000000       16067.000000   \n",
       "mean      15.015004        -72.462787        39.914725         -72.462328   \n",
       "std      430.460945         10.578384         6.826587          10.575062   \n",
       "min       -3.000000        -74.438233       -74.006893         -74.429332   \n",
       "25%        6.000000        -73.992156        40.734927         -73.991182   \n",
       "50%        8.500000        -73.981698        40.752603         -73.980172   \n",
       "75%       12.500000        -73.966838        40.767381         -73.963643   \n",
       "max    54343.000000         40.766125       401.083332          40.802437   \n",
       "\n",
       "       dropoff_latitude  \n",
       "count      16067.000000  \n",
       "mean          39.897906  \n",
       "std            6.187087  \n",
       "min          -74.006377  \n",
       "25%           40.734651  \n",
       "50%           40.753567  \n",
       "75%           40.768013  \n",
       "max           41.366138  "
      ]
     },
     "execution_count": 32,
     "metadata": {},
     "output_type": "execute_result"
    }
   ],
   "source": [
    "train.describe()"
   ]
  },
  {
   "cell_type": "code",
   "execution_count": 33,
   "metadata": {},
   "outputs": [
    {
     "data": {
      "text/html": [
       "<div>\n",
       "<style scoped>\n",
       "    .dataframe tbody tr th:only-of-type {\n",
       "        vertical-align: middle;\n",
       "    }\n",
       "\n",
       "    .dataframe tbody tr th {\n",
       "        vertical-align: top;\n",
       "    }\n",
       "\n",
       "    .dataframe thead th {\n",
       "        text-align: right;\n",
       "    }\n",
       "</style>\n",
       "<table border=\"1\" class=\"dataframe\">\n",
       "  <thead>\n",
       "    <tr style=\"text-align: right;\">\n",
       "      <th></th>\n",
       "      <th>pickup_longitude</th>\n",
       "      <th>pickup_latitude</th>\n",
       "      <th>dropoff_longitude</th>\n",
       "      <th>dropoff_latitude</th>\n",
       "      <th>passenger_count</th>\n",
       "    </tr>\n",
       "  </thead>\n",
       "  <tbody>\n",
       "    <tr>\n",
       "      <td>count</td>\n",
       "      <td>9914.000000</td>\n",
       "      <td>9914.000000</td>\n",
       "      <td>9914.000000</td>\n",
       "      <td>9914.000000</td>\n",
       "      <td>9914.000000</td>\n",
       "    </tr>\n",
       "    <tr>\n",
       "      <td>mean</td>\n",
       "      <td>-73.974722</td>\n",
       "      <td>40.751041</td>\n",
       "      <td>-73.973657</td>\n",
       "      <td>40.751743</td>\n",
       "      <td>1.671273</td>\n",
       "    </tr>\n",
       "    <tr>\n",
       "      <td>std</td>\n",
       "      <td>0.042774</td>\n",
       "      <td>0.033541</td>\n",
       "      <td>0.039072</td>\n",
       "      <td>0.035435</td>\n",
       "      <td>1.278747</td>\n",
       "    </tr>\n",
       "    <tr>\n",
       "      <td>min</td>\n",
       "      <td>-74.252193</td>\n",
       "      <td>40.573143</td>\n",
       "      <td>-74.263242</td>\n",
       "      <td>40.568973</td>\n",
       "      <td>1.000000</td>\n",
       "    </tr>\n",
       "    <tr>\n",
       "      <td>25%</td>\n",
       "      <td>-73.992501</td>\n",
       "      <td>40.736125</td>\n",
       "      <td>-73.991247</td>\n",
       "      <td>40.735254</td>\n",
       "      <td>1.000000</td>\n",
       "    </tr>\n",
       "    <tr>\n",
       "      <td>50%</td>\n",
       "      <td>-73.982326</td>\n",
       "      <td>40.753051</td>\n",
       "      <td>-73.980015</td>\n",
       "      <td>40.754065</td>\n",
       "      <td>1.000000</td>\n",
       "    </tr>\n",
       "    <tr>\n",
       "      <td>75%</td>\n",
       "      <td>-73.968013</td>\n",
       "      <td>40.767113</td>\n",
       "      <td>-73.964059</td>\n",
       "      <td>40.768757</td>\n",
       "      <td>2.000000</td>\n",
       "    </tr>\n",
       "    <tr>\n",
       "      <td>max</td>\n",
       "      <td>-72.986532</td>\n",
       "      <td>41.709555</td>\n",
       "      <td>-72.990963</td>\n",
       "      <td>41.696683</td>\n",
       "      <td>6.000000</td>\n",
       "    </tr>\n",
       "  </tbody>\n",
       "</table>\n",
       "</div>"
      ],
      "text/plain": [
       "       pickup_longitude  pickup_latitude  dropoff_longitude  dropoff_latitude  \\\n",
       "count       9914.000000      9914.000000        9914.000000       9914.000000   \n",
       "mean         -73.974722        40.751041         -73.973657         40.751743   \n",
       "std            0.042774         0.033541           0.039072          0.035435   \n",
       "min          -74.252193        40.573143         -74.263242         40.568973   \n",
       "25%          -73.992501        40.736125         -73.991247         40.735254   \n",
       "50%          -73.982326        40.753051         -73.980015         40.754065   \n",
       "75%          -73.968013        40.767113         -73.964059         40.768757   \n",
       "max          -72.986532        41.709555         -72.990963         41.696683   \n",
       "\n",
       "       passenger_count  \n",
       "count      9914.000000  \n",
       "mean          1.671273  \n",
       "std           1.278747  \n",
       "min           1.000000  \n",
       "25%           1.000000  \n",
       "50%           1.000000  \n",
       "75%           2.000000  \n",
       "max           6.000000  "
      ]
     },
     "execution_count": 33,
     "metadata": {},
     "output_type": "execute_result"
    }
   ],
   "source": [
    "test.describe()"
   ]
  },
  {
   "cell_type": "markdown",
   "metadata": {},
   "source": [
    "### Data Visualization"
   ]
  },
  {
   "cell_type": "markdown",
   "metadata": {},
   "source": [
    "### Dealing values which are not within desired range(outlier) depending upon basic understanding of dataset"
   ]
  },
  {
   "cell_type": "markdown",
   "metadata": {},
   "source": [
    "1. From descriptive statistics of dataset it can be observed that fare amount has a negative values, which doesn't make sense. A price amount cannot be -ve and also cannot be 0. So we will impute these fields with Exploratory data analysis.\n"
   ]
  },
  {
   "cell_type": "code",
   "execution_count": 34,
   "metadata": {},
   "outputs": [
    {
     "data": {
      "text/plain": [
       "5"
      ]
     },
     "execution_count": 34,
     "metadata": {},
     "output_type": "execute_result"
    }
   ],
   "source": [
    "sum(train['fare_amount']<1)"
   ]
  },
  {
   "cell_type": "code",
   "execution_count": 35,
   "metadata": {},
   "outputs": [
    {
     "data": {
      "text/html": [
       "<div>\n",
       "<style scoped>\n",
       "    .dataframe tbody tr th:only-of-type {\n",
       "        vertical-align: middle;\n",
       "    }\n",
       "\n",
       "    .dataframe tbody tr th {\n",
       "        vertical-align: top;\n",
       "    }\n",
       "\n",
       "    .dataframe thead th {\n",
       "        text-align: right;\n",
       "    }\n",
       "</style>\n",
       "<table border=\"1\" class=\"dataframe\">\n",
       "  <thead>\n",
       "    <tr style=\"text-align: right;\">\n",
       "      <th></th>\n",
       "      <th>fare_amount</th>\n",
       "      <th>pickup_datetime</th>\n",
       "      <th>pickup_longitude</th>\n",
       "      <th>pickup_latitude</th>\n",
       "      <th>dropoff_longitude</th>\n",
       "      <th>dropoff_latitude</th>\n",
       "      <th>passenger_count</th>\n",
       "    </tr>\n",
       "  </thead>\n",
       "  <tbody>\n",
       "    <tr>\n",
       "      <td>2039</td>\n",
       "      <td>-2.90</td>\n",
       "      <td>2010-03-09 23:37:10 UTC</td>\n",
       "      <td>-73.789450</td>\n",
       "      <td>40.643498</td>\n",
       "      <td>-73.788665</td>\n",
       "      <td>40.641952</td>\n",
       "      <td>1</td>\n",
       "    </tr>\n",
       "    <tr>\n",
       "      <td>2486</td>\n",
       "      <td>-2.50</td>\n",
       "      <td>2015-03-22 05:14:27 UTC</td>\n",
       "      <td>-74.000031</td>\n",
       "      <td>40.720631</td>\n",
       "      <td>-73.999809</td>\n",
       "      <td>40.720539</td>\n",
       "      <td>1</td>\n",
       "    </tr>\n",
       "    <tr>\n",
       "      <td>2780</td>\n",
       "      <td>0.01</td>\n",
       "      <td>2015-05-01 15:38:41 UTC</td>\n",
       "      <td>-73.939041</td>\n",
       "      <td>40.713963</td>\n",
       "      <td>-73.941673</td>\n",
       "      <td>40.713997</td>\n",
       "      <td>1</td>\n",
       "    </tr>\n",
       "    <tr>\n",
       "      <td>10002</td>\n",
       "      <td>0.00</td>\n",
       "      <td>2010-02-15 14:26:01 UTC</td>\n",
       "      <td>-73.987115</td>\n",
       "      <td>40.738808</td>\n",
       "      <td>-74.005911</td>\n",
       "      <td>40.713960</td>\n",
       "      <td>1</td>\n",
       "    </tr>\n",
       "    <tr>\n",
       "      <td>13032</td>\n",
       "      <td>-3.00</td>\n",
       "      <td>2013-08-30 08:57:10 UTC</td>\n",
       "      <td>-73.995062</td>\n",
       "      <td>40.740755</td>\n",
       "      <td>-73.995885</td>\n",
       "      <td>40.741357</td>\n",
       "      <td>4</td>\n",
       "    </tr>\n",
       "  </tbody>\n",
       "</table>\n",
       "</div>"
      ],
      "text/plain": [
       "       fare_amount          pickup_datetime  pickup_longitude  \\\n",
       "2039         -2.90  2010-03-09 23:37:10 UTC        -73.789450   \n",
       "2486         -2.50  2015-03-22 05:14:27 UTC        -74.000031   \n",
       "2780          0.01  2015-05-01 15:38:41 UTC        -73.939041   \n",
       "10002         0.00  2010-02-15 14:26:01 UTC        -73.987115   \n",
       "13032        -3.00  2013-08-30 08:57:10 UTC        -73.995062   \n",
       "\n",
       "       pickup_latitude  dropoff_longitude  dropoff_latitude passenger_count  \n",
       "2039         40.643498         -73.788665         40.641952               1  \n",
       "2486         40.720631         -73.999809         40.720539               1  \n",
       "2780         40.713963         -73.941673         40.713997               1  \n",
       "10002        40.738808         -74.005911         40.713960               1  \n",
       "13032        40.740755         -73.995885         40.741357               4  "
      ]
     },
     "execution_count": 35,
     "metadata": {},
     "output_type": "execute_result"
    }
   ],
   "source": [
    "train[train['fare_amount']<1]"
   ]
  },
  {
   "cell_type": "code",
   "execution_count": 36,
   "metadata": {},
   "outputs": [],
   "source": [
    "train.loc[train['fare_amount'] < 1,'fare_amount'] = np.nan"
   ]
  },
  {
   "cell_type": "code",
   "execution_count": 37,
   "metadata": {},
   "outputs": [
    {
     "data": {
      "text/plain": [
       "30"
      ]
     },
     "execution_count": 37,
     "metadata": {},
     "output_type": "execute_result"
    }
   ],
   "source": [
    "train['fare_amount'].isnull().sum()"
   ]
  },
  {
   "cell_type": "markdown",
   "metadata": {},
   "source": [
    "Now we have 30 missing values in fare_amount"
   ]
  },
  {
   "cell_type": "markdown",
   "metadata": {},
   "source": [
    "2. Passenger_Count Variable"
   ]
  },
  {
   "cell_type": "code",
   "execution_count": 38,
   "metadata": {},
   "outputs": [
    {
     "data": {
      "text/plain": [
       "20"
      ]
     },
     "execution_count": 38,
     "metadata": {},
     "output_type": "execute_result"
    }
   ],
   "source": [
    "len(train[train['passenger_count']>6])"
   ]
  },
  {
   "cell_type": "markdown",
   "metadata": {},
   "source": [
    " So 20 observations of passengers_count are there which have consistently more than 6 passengers. Let's check them"
   ]
  },
  {
   "cell_type": "code",
   "execution_count": 39,
   "metadata": {},
   "outputs": [
    {
     "data": {
      "text/html": [
       "<div>\n",
       "<style scoped>\n",
       "    .dataframe tbody tr th:only-of-type {\n",
       "        vertical-align: middle;\n",
       "    }\n",
       "\n",
       "    .dataframe tbody tr th {\n",
       "        vertical-align: top;\n",
       "    }\n",
       "\n",
       "    .dataframe thead th {\n",
       "        text-align: right;\n",
       "    }\n",
       "</style>\n",
       "<table border=\"1\" class=\"dataframe\">\n",
       "  <thead>\n",
       "    <tr style=\"text-align: right;\">\n",
       "      <th></th>\n",
       "      <th>fare_amount</th>\n",
       "      <th>pickup_datetime</th>\n",
       "      <th>pickup_longitude</th>\n",
       "      <th>pickup_latitude</th>\n",
       "      <th>dropoff_longitude</th>\n",
       "      <th>dropoff_latitude</th>\n",
       "      <th>passenger_count</th>\n",
       "    </tr>\n",
       "  </thead>\n",
       "  <tbody>\n",
       "    <tr>\n",
       "      <td>233</td>\n",
       "      <td>8.5</td>\n",
       "      <td>2011-07-24 01:14:35 UTC</td>\n",
       "      <td>0.000000</td>\n",
       "      <td>0.000000</td>\n",
       "      <td>0.000000</td>\n",
       "      <td>0.000000</td>\n",
       "      <td>236</td>\n",
       "    </tr>\n",
       "    <tr>\n",
       "      <td>263</td>\n",
       "      <td>4.9</td>\n",
       "      <td>2010-07-12 09:44:33 UTC</td>\n",
       "      <td>-73.983249</td>\n",
       "      <td>40.734655</td>\n",
       "      <td>-73.991278</td>\n",
       "      <td>40.738918</td>\n",
       "      <td>456</td>\n",
       "    </tr>\n",
       "    <tr>\n",
       "      <td>293</td>\n",
       "      <td>6.1</td>\n",
       "      <td>2011-01-18 23:48:00 UTC</td>\n",
       "      <td>-74.006642</td>\n",
       "      <td>40.738927</td>\n",
       "      <td>-74.010828</td>\n",
       "      <td>40.717907</td>\n",
       "      <td>5334</td>\n",
       "    </tr>\n",
       "    <tr>\n",
       "      <td>356</td>\n",
       "      <td>8.5</td>\n",
       "      <td>2013-06-18 10:27:05 UTC</td>\n",
       "      <td>-73.992108</td>\n",
       "      <td>40.764203</td>\n",
       "      <td>-73.973000</td>\n",
       "      <td>40.762695</td>\n",
       "      <td>535</td>\n",
       "    </tr>\n",
       "    <tr>\n",
       "      <td>386</td>\n",
       "      <td>8.1</td>\n",
       "      <td>2009-08-21 19:35:05 UTC</td>\n",
       "      <td>-73.960853</td>\n",
       "      <td>40.761557</td>\n",
       "      <td>-73.976335</td>\n",
       "      <td>40.748361</td>\n",
       "      <td>354</td>\n",
       "    </tr>\n",
       "    <tr>\n",
       "      <td>413</td>\n",
       "      <td>NaN</td>\n",
       "      <td>2013-09-12 11:32:00 UTC</td>\n",
       "      <td>-73.982060</td>\n",
       "      <td>40.772705</td>\n",
       "      <td>-73.956213</td>\n",
       "      <td>40.771777</td>\n",
       "      <td>55</td>\n",
       "    </tr>\n",
       "    <tr>\n",
       "      <td>971</td>\n",
       "      <td>10.1</td>\n",
       "      <td>2010-11-21 01:41:00 UTC</td>\n",
       "      <td>-74.004500</td>\n",
       "      <td>40.742143</td>\n",
       "      <td>-73.994330</td>\n",
       "      <td>40.720412</td>\n",
       "      <td>554</td>\n",
       "    </tr>\n",
       "    <tr>\n",
       "      <td>1007</td>\n",
       "      <td>3.7</td>\n",
       "      <td>2010-12-14 14:46:00 UTC</td>\n",
       "      <td>-73.969157</td>\n",
       "      <td>40.759000</td>\n",
       "      <td>-73.968763</td>\n",
       "      <td>40.764617</td>\n",
       "      <td>53</td>\n",
       "    </tr>\n",
       "    <tr>\n",
       "      <td>1043</td>\n",
       "      <td>5.7</td>\n",
       "      <td>2012-08-22 22:08:29 UTC</td>\n",
       "      <td>-73.973573</td>\n",
       "      <td>40.760184</td>\n",
       "      <td>-73.953564</td>\n",
       "      <td>40.767392</td>\n",
       "      <td>35</td>\n",
       "    </tr>\n",
       "    <tr>\n",
       "      <td>1107</td>\n",
       "      <td>4.9</td>\n",
       "      <td>2009-08-08 21:50:50 UTC</td>\n",
       "      <td>-73.988977</td>\n",
       "      <td>40.721068</td>\n",
       "      <td>-73.982368</td>\n",
       "      <td>40.732064</td>\n",
       "      <td>345</td>\n",
       "    </tr>\n",
       "    <tr>\n",
       "      <td>1146</td>\n",
       "      <td>8.0</td>\n",
       "      <td>2014-03-27 08:05:01 UTC</td>\n",
       "      <td>-73.991098</td>\n",
       "      <td>40.770655</td>\n",
       "      <td>-73.976933</td>\n",
       "      <td>40.790070</td>\n",
       "      <td>5345</td>\n",
       "    </tr>\n",
       "    <tr>\n",
       "      <td>1200</td>\n",
       "      <td>9.7</td>\n",
       "      <td>2011-08-16 09:29:00 UTC</td>\n",
       "      <td>-73.980487</td>\n",
       "      <td>40.741610</td>\n",
       "      <td>-73.980617</td>\n",
       "      <td>40.746868</td>\n",
       "      <td>536</td>\n",
       "    </tr>\n",
       "    <tr>\n",
       "      <td>1242</td>\n",
       "      <td>5.3</td>\n",
       "      <td>2011-10-16 00:22:00 UTC</td>\n",
       "      <td>-73.981095</td>\n",
       "      <td>40.738160</td>\n",
       "      <td>-73.990587</td>\n",
       "      <td>40.740105</td>\n",
       "      <td>43</td>\n",
       "    </tr>\n",
       "    <tr>\n",
       "      <td>8406</td>\n",
       "      <td>6.9</td>\n",
       "      <td>2010-08-25 11:41:00 UTC</td>\n",
       "      <td>0.000000</td>\n",
       "      <td>0.000000</td>\n",
       "      <td>0.000000</td>\n",
       "      <td>0.000000</td>\n",
       "      <td>53</td>\n",
       "    </tr>\n",
       "    <tr>\n",
       "      <td>8445</td>\n",
       "      <td>5.7</td>\n",
       "      <td>2009-03-28 22:00:00 UTC</td>\n",
       "      <td>-73.982413</td>\n",
       "      <td>40.751320</td>\n",
       "      <td>-73.971292</td>\n",
       "      <td>40.748502</td>\n",
       "      <td>58</td>\n",
       "    </tr>\n",
       "    <tr>\n",
       "      <td>8506</td>\n",
       "      <td>11.3</td>\n",
       "      <td>2010-05-23 20:06:37 UTC</td>\n",
       "      <td>-73.985424</td>\n",
       "      <td>40.738468</td>\n",
       "      <td>-74.001698</td>\n",
       "      <td>40.707758</td>\n",
       "      <td>537</td>\n",
       "    </tr>\n",
       "    <tr>\n",
       "      <td>8571</td>\n",
       "      <td>12.5</td>\n",
       "      <td>2011-12-03 03:21:00 UTC</td>\n",
       "      <td>-73.993718</td>\n",
       "      <td>40.762039</td>\n",
       "      <td>-73.977527</td>\n",
       "      <td>40.734024</td>\n",
       "      <td>87</td>\n",
       "    </tr>\n",
       "    <tr>\n",
       "      <td>8631</td>\n",
       "      <td>20.0</td>\n",
       "      <td>2012-12-10 22:28:00 UTC</td>\n",
       "      <td>-73.955445</td>\n",
       "      <td>40.670232</td>\n",
       "      <td>-74.004795</td>\n",
       "      <td>40.731477</td>\n",
       "      <td>43</td>\n",
       "    </tr>\n",
       "    <tr>\n",
       "      <td>8715</td>\n",
       "      <td>4.5</td>\n",
       "      <td>2009-09-04 09:14:03 UTC</td>\n",
       "      <td>-73.977518</td>\n",
       "      <td>40.758480</td>\n",
       "      <td>-73.983252</td>\n",
       "      <td>40.749837</td>\n",
       "      <td>531</td>\n",
       "    </tr>\n",
       "    <tr>\n",
       "      <td>8985</td>\n",
       "      <td>8.5</td>\n",
       "      <td>2015-01-14 15:10:21 UTC</td>\n",
       "      <td>-73.955444</td>\n",
       "      <td>40.787605</td>\n",
       "      <td>-73.965561</td>\n",
       "      <td>40.798691</td>\n",
       "      <td>557</td>\n",
       "    </tr>\n",
       "  </tbody>\n",
       "</table>\n",
       "</div>"
      ],
      "text/plain": [
       "      fare_amount          pickup_datetime  pickup_longitude  pickup_latitude  \\\n",
       "233           8.5  2011-07-24 01:14:35 UTC          0.000000         0.000000   \n",
       "263           4.9  2010-07-12 09:44:33 UTC        -73.983249        40.734655   \n",
       "293           6.1  2011-01-18 23:48:00 UTC        -74.006642        40.738927   \n",
       "356           8.5  2013-06-18 10:27:05 UTC        -73.992108        40.764203   \n",
       "386           8.1  2009-08-21 19:35:05 UTC        -73.960853        40.761557   \n",
       "413           NaN  2013-09-12 11:32:00 UTC        -73.982060        40.772705   \n",
       "971          10.1  2010-11-21 01:41:00 UTC        -74.004500        40.742143   \n",
       "1007          3.7  2010-12-14 14:46:00 UTC        -73.969157        40.759000   \n",
       "1043          5.7  2012-08-22 22:08:29 UTC        -73.973573        40.760184   \n",
       "1107          4.9  2009-08-08 21:50:50 UTC        -73.988977        40.721068   \n",
       "1146          8.0  2014-03-27 08:05:01 UTC        -73.991098        40.770655   \n",
       "1200          9.7  2011-08-16 09:29:00 UTC        -73.980487        40.741610   \n",
       "1242          5.3  2011-10-16 00:22:00 UTC        -73.981095        40.738160   \n",
       "8406          6.9  2010-08-25 11:41:00 UTC          0.000000         0.000000   \n",
       "8445          5.7  2009-03-28 22:00:00 UTC        -73.982413        40.751320   \n",
       "8506         11.3  2010-05-23 20:06:37 UTC        -73.985424        40.738468   \n",
       "8571         12.5  2011-12-03 03:21:00 UTC        -73.993718        40.762039   \n",
       "8631         20.0  2012-12-10 22:28:00 UTC        -73.955445        40.670232   \n",
       "8715          4.5  2009-09-04 09:14:03 UTC        -73.977518        40.758480   \n",
       "8985          8.5  2015-01-14 15:10:21 UTC        -73.955444        40.787605   \n",
       "\n",
       "      dropoff_longitude  dropoff_latitude passenger_count  \n",
       "233            0.000000          0.000000             236  \n",
       "263          -73.991278         40.738918             456  \n",
       "293          -74.010828         40.717907            5334  \n",
       "356          -73.973000         40.762695             535  \n",
       "386          -73.976335         40.748361             354  \n",
       "413          -73.956213         40.771777              55  \n",
       "971          -73.994330         40.720412             554  \n",
       "1007         -73.968763         40.764617              53  \n",
       "1043         -73.953564         40.767392              35  \n",
       "1107         -73.982368         40.732064             345  \n",
       "1146         -73.976933         40.790070            5345  \n",
       "1200         -73.980617         40.746868             536  \n",
       "1242         -73.990587         40.740105              43  \n",
       "8406           0.000000          0.000000              53  \n",
       "8445         -73.971292         40.748502              58  \n",
       "8506         -74.001698         40.707758             537  \n",
       "8571         -73.977527         40.734024              87  \n",
       "8631         -74.004795         40.731477              43  \n",
       "8715         -73.983252         40.749837             531  \n",
       "8985         -73.965561         40.798691             557  "
      ]
     },
     "execution_count": 39,
     "metadata": {},
     "output_type": "execute_result"
    }
   ],
   "source": [
    "train[train['passenger_count']>6]"
   ]
  },
  {
   "cell_type": "code",
   "execution_count": 40,
   "metadata": {},
   "outputs": [
    {
     "data": {
      "text/plain": [
       "58"
      ]
     },
     "execution_count": 40,
     "metadata": {},
     "output_type": "execute_result"
    }
   ],
   "source": [
    "# Let's check how manny of passenger_count less than 1\n",
    "len(train[train['passenger_count']<1])"
   ]
  },
  {
   "cell_type": "code",
   "execution_count": 41,
   "metadata": {},
   "outputs": [],
   "source": [
    "# Let's assign nan values to those observations of passenger_count which has less than 1 passenger and more than 6 passengers as it makes no sense.\n",
    "train.loc[train['passenger_count'] >6,'passenger_count'] = np.nan\n",
    "train.loc[train['passenger_count'] <1,'passenger_count'] = np.nan"
   ]
  },
  {
   "cell_type": "code",
   "execution_count": 42,
   "metadata": {},
   "outputs": [
    {
     "data": {
      "text/plain": [
       "133"
      ]
     },
     "execution_count": 42,
     "metadata": {},
     "output_type": "execute_result"
    }
   ],
   "source": [
    "train['passenger_count'].isnull().sum()"
   ]
  },
  {
   "cell_type": "raw",
   "metadata": {},
   "source": [
    "Now we have total 133 missing values in passenger_count"
   ]
  },
  {
   "cell_type": "markdown",
   "metadata": {},
   "source": [
    "3.Latitudes range from -90 to 90.Longitudes range from -180 to 180. Removing which does not satisfy these ranges"
   ]
  },
  {
   "cell_type": "code",
   "execution_count": 23,
   "metadata": {},
   "outputs": [
    {
     "data": {
      "text/plain": [
       "0"
      ]
     },
     "execution_count": 23,
     "metadata": {},
     "output_type": "execute_result"
    }
   ],
   "source": [
    "sum(train['pickup_longitude']>180)"
   ]
  },
  {
   "cell_type": "code",
   "execution_count": 24,
   "metadata": {},
   "outputs": [
    {
     "data": {
      "text/plain": [
       "0"
      ]
     },
     "execution_count": 24,
     "metadata": {},
     "output_type": "execute_result"
    }
   ],
   "source": [
    "sum(train['pickup_longitude']<-180)"
   ]
  },
  {
   "cell_type": "code",
   "execution_count": 25,
   "metadata": {},
   "outputs": [
    {
     "data": {
      "text/plain": [
       "0"
      ]
     },
     "execution_count": 25,
     "metadata": {},
     "output_type": "execute_result"
    }
   ],
   "source": [
    "sum(train['dropoff_longitude']>180)\n"
   ]
  },
  {
   "cell_type": "code",
   "execution_count": 26,
   "metadata": {},
   "outputs": [
    {
     "data": {
      "text/plain": [
       "0"
      ]
     },
     "execution_count": 26,
     "metadata": {},
     "output_type": "execute_result"
    }
   ],
   "source": [
    "sum(train['dropoff_longitude']<-180)"
   ]
  },
  {
   "cell_type": "code",
   "execution_count": 27,
   "metadata": {},
   "outputs": [
    {
     "data": {
      "text/plain": [
       "1"
      ]
     },
     "execution_count": 27,
     "metadata": {},
     "output_type": "execute_result"
    }
   ],
   "source": [
    "sum(train['pickup_latitude']>90)\n"
   ]
  },
  {
   "cell_type": "code",
   "execution_count": 28,
   "metadata": {},
   "outputs": [
    {
     "data": {
      "text/plain": [
       "0"
      ]
     },
     "execution_count": 28,
     "metadata": {},
     "output_type": "execute_result"
    }
   ],
   "source": [
    "sum(train['pickup_latitude']<-90)"
   ]
  },
  {
   "cell_type": "code",
   "execution_count": 29,
   "metadata": {},
   "outputs": [
    {
     "data": {
      "text/plain": [
       "0"
      ]
     },
     "execution_count": 29,
     "metadata": {},
     "output_type": "execute_result"
    }
   ],
   "source": [
    "sum(train['dropoff_latitude']>90)\n"
   ]
  },
  {
   "cell_type": "code",
   "execution_count": 30,
   "metadata": {},
   "outputs": [
    {
     "data": {
      "text/plain": [
       "0"
      ]
     },
     "execution_count": 30,
     "metadata": {},
     "output_type": "execute_result"
    }
   ],
   "source": [
    "sum(train['dropoff_latitude']<-90)"
   ]
  },
  {
   "cell_type": "code",
   "execution_count": 43,
   "metadata": {},
   "outputs": [
    {
     "data": {
      "text/html": [
       "<div>\n",
       "<style scoped>\n",
       "    .dataframe tbody tr th:only-of-type {\n",
       "        vertical-align: middle;\n",
       "    }\n",
       "\n",
       "    .dataframe tbody tr th {\n",
       "        vertical-align: top;\n",
       "    }\n",
       "\n",
       "    .dataframe thead th {\n",
       "        text-align: right;\n",
       "    }\n",
       "</style>\n",
       "<table border=\"1\" class=\"dataframe\">\n",
       "  <thead>\n",
       "    <tr style=\"text-align: right;\">\n",
       "      <th></th>\n",
       "      <th>fare_amount</th>\n",
       "      <th>pickup_datetime</th>\n",
       "      <th>pickup_longitude</th>\n",
       "      <th>pickup_latitude</th>\n",
       "      <th>dropoff_longitude</th>\n",
       "      <th>dropoff_latitude</th>\n",
       "      <th>passenger_count</th>\n",
       "    </tr>\n",
       "  </thead>\n",
       "  <tbody>\n",
       "    <tr>\n",
       "      <td>5686</td>\n",
       "      <td>3.3</td>\n",
       "      <td>2011-07-30 11:15:00 UTC</td>\n",
       "      <td>-73.947235</td>\n",
       "      <td>401.083332</td>\n",
       "      <td>-73.951392</td>\n",
       "      <td>40.778927</td>\n",
       "      <td>1</td>\n",
       "    </tr>\n",
       "  </tbody>\n",
       "</table>\n",
       "</div>"
      ],
      "text/plain": [
       "      fare_amount          pickup_datetime  pickup_longitude  pickup_latitude  \\\n",
       "5686          3.3  2011-07-30 11:15:00 UTC        -73.947235       401.083332   \n",
       "\n",
       "      dropoff_longitude  dropoff_latitude passenger_count  \n",
       "5686         -73.951392         40.778927               1  "
      ]
     },
     "execution_count": 43,
     "metadata": {},
     "output_type": "execute_result"
    }
   ],
   "source": [
    "# Lets check which observation has pickup_latitude > 90.\n",
    "train[train['pickup_latitude']>90]"
   ]
  },
  {
   "cell_type": "code",
   "execution_count": 44,
   "metadata": {
    "scrolled": true
   },
   "outputs": [
    {
     "name": "stdout",
     "output_type": "stream",
     "text": [
      "pickup_longitude equal to 0=315\n",
      "pickup_latitude equal to 0=315\n",
      "dropoff_longitude equal to 0=314\n",
      "dropoff_latitude equal to 0=312\n"
     ]
    }
   ],
   "source": [
    "# Lets check the observation having latitude and longitude values = 0.\n",
    "for i in ['pickup_longitude','pickup_latitude','dropoff_longitude','dropoff_latitude']:\n",
    "    print(i,'equal to 0={}'.format(sum(train[i]==0)))"
   ]
  },
  {
   "cell_type": "code",
   "execution_count": 45,
   "metadata": {},
   "outputs": [],
   "source": [
    "train.loc[train['pickup_latitude']>90 , 'pickup_latitude'] = np.nan\n",
    "train.loc[train['pickup_longitude']==0 , 'pickup_longitude'] = np.nan\n",
    "train.loc[train['pickup_latitude']==0 , 'pickup_latitude'] = np.nan\n",
    "train.loc[train['dropoff_longitude']==0 , 'dropoff_longitude'] = np.nan\n",
    "train.loc[train['dropoff_latitude']==0 , 'dropoff_latitude'] = np.nan"
   ]
  },
  {
   "cell_type": "code",
   "execution_count": 46,
   "metadata": {},
   "outputs": [
    {
     "data": {
      "text/plain": [
       "fare_amount           30\n",
       "pickup_datetime        0\n",
       "pickup_longitude     315\n",
       "pickup_latitude      316\n",
       "dropoff_longitude    314\n",
       "dropoff_latitude     312\n",
       "passenger_count      133\n",
       "dtype: int64"
      ]
     },
     "execution_count": 46,
     "metadata": {},
     "output_type": "execute_result"
    }
   ],
   "source": [
    "train.isnull().sum()"
   ]
  },
  {
   "cell_type": "markdown",
   "metadata": {},
   "source": [
    "So after Exploratory Data Analysis we have observed that the missing values has been increased. Now we have to impute them with any of the statistical method"
   ]
  },
  {
   "cell_type": "markdown",
   "metadata": {},
   "source": [
    "### Missing Value Analysis"
   ]
  },
  {
   "cell_type": "code",
   "execution_count": 47,
   "metadata": {},
   "outputs": [
    {
     "data": {
      "text/html": [
       "<div>\n",
       "<style scoped>\n",
       "    .dataframe tbody tr th:only-of-type {\n",
       "        vertical-align: middle;\n",
       "    }\n",
       "\n",
       "    .dataframe tbody tr th {\n",
       "        vertical-align: top;\n",
       "    }\n",
       "\n",
       "    .dataframe thead th {\n",
       "        text-align: right;\n",
       "    }\n",
       "</style>\n",
       "<table border=\"1\" class=\"dataframe\">\n",
       "  <thead>\n",
       "    <tr style=\"text-align: right;\">\n",
       "      <th></th>\n",
       "      <th>index</th>\n",
       "      <th>0</th>\n",
       "    </tr>\n",
       "  </thead>\n",
       "  <tbody>\n",
       "    <tr>\n",
       "      <td>0</td>\n",
       "      <td>fare_amount</td>\n",
       "      <td>30</td>\n",
       "    </tr>\n",
       "    <tr>\n",
       "      <td>1</td>\n",
       "      <td>pickup_datetime</td>\n",
       "      <td>0</td>\n",
       "    </tr>\n",
       "    <tr>\n",
       "      <td>2</td>\n",
       "      <td>pickup_longitude</td>\n",
       "      <td>315</td>\n",
       "    </tr>\n",
       "    <tr>\n",
       "      <td>3</td>\n",
       "      <td>pickup_latitude</td>\n",
       "      <td>316</td>\n",
       "    </tr>\n",
       "    <tr>\n",
       "      <td>4</td>\n",
       "      <td>dropoff_longitude</td>\n",
       "      <td>314</td>\n",
       "    </tr>\n",
       "    <tr>\n",
       "      <td>5</td>\n",
       "      <td>dropoff_latitude</td>\n",
       "      <td>312</td>\n",
       "    </tr>\n",
       "    <tr>\n",
       "      <td>6</td>\n",
       "      <td>passenger_count</td>\n",
       "      <td>133</td>\n",
       "    </tr>\n",
       "  </tbody>\n",
       "</table>\n",
       "</div>"
      ],
      "text/plain": [
       "               index    0\n",
       "0        fare_amount   30\n",
       "1    pickup_datetime    0\n",
       "2   pickup_longitude  315\n",
       "3    pickup_latitude  316\n",
       "4  dropoff_longitude  314\n",
       "5   dropoff_latitude  312\n",
       "6    passenger_count  133"
      ]
     },
     "execution_count": 47,
     "metadata": {},
     "output_type": "execute_result"
    }
   ],
   "source": [
    "#Create dataframe with missing percentage\n",
    "missing_val = pd.DataFrame(train.isnull().sum())\n",
    "#Reset index\n",
    "missing_val = missing_val.reset_index()\n",
    "missing_val"
   ]
  },
  {
   "cell_type": "code",
   "execution_count": 48,
   "metadata": {},
   "outputs": [
    {
     "data": {
      "text/html": [
       "<div>\n",
       "<style scoped>\n",
       "    .dataframe tbody tr th:only-of-type {\n",
       "        vertical-align: middle;\n",
       "    }\n",
       "\n",
       "    .dataframe tbody tr th {\n",
       "        vertical-align: top;\n",
       "    }\n",
       "\n",
       "    .dataframe thead th {\n",
       "        text-align: right;\n",
       "    }\n",
       "</style>\n",
       "<table border=\"1\" class=\"dataframe\">\n",
       "  <thead>\n",
       "    <tr style=\"text-align: right;\">\n",
       "      <th></th>\n",
       "      <th>Variables</th>\n",
       "      <th>Missing_percentage</th>\n",
       "    </tr>\n",
       "  </thead>\n",
       "  <tbody>\n",
       "    <tr>\n",
       "      <td>0</td>\n",
       "      <td>pickup_latitude</td>\n",
       "      <td>1.966764</td>\n",
       "    </tr>\n",
       "    <tr>\n",
       "      <td>1</td>\n",
       "      <td>pickup_longitude</td>\n",
       "      <td>1.960540</td>\n",
       "    </tr>\n",
       "    <tr>\n",
       "      <td>2</td>\n",
       "      <td>dropoff_longitude</td>\n",
       "      <td>1.954316</td>\n",
       "    </tr>\n",
       "    <tr>\n",
       "      <td>3</td>\n",
       "      <td>dropoff_latitude</td>\n",
       "      <td>1.941868</td>\n",
       "    </tr>\n",
       "    <tr>\n",
       "      <td>4</td>\n",
       "      <td>passenger_count</td>\n",
       "      <td>0.827784</td>\n",
       "    </tr>\n",
       "    <tr>\n",
       "      <td>5</td>\n",
       "      <td>fare_amount</td>\n",
       "      <td>0.186718</td>\n",
       "    </tr>\n",
       "    <tr>\n",
       "      <td>6</td>\n",
       "      <td>pickup_datetime</td>\n",
       "      <td>0.000000</td>\n",
       "    </tr>\n",
       "  </tbody>\n",
       "</table>\n",
       "</div>"
      ],
      "text/plain": [
       "           Variables  Missing_percentage\n",
       "0    pickup_latitude            1.966764\n",
       "1   pickup_longitude            1.960540\n",
       "2  dropoff_longitude            1.954316\n",
       "3   dropoff_latitude            1.941868\n",
       "4    passenger_count            0.827784\n",
       "5        fare_amount            0.186718\n",
       "6    pickup_datetime            0.000000"
      ]
     },
     "execution_count": 48,
     "metadata": {},
     "output_type": "execute_result"
    }
   ],
   "source": [
    "#Rename variable\n",
    "missing_val = missing_val.rename(columns = {'index': 'Variables', 0: 'Missing_percentage'})\n",
    "missing_val\n",
    "#Calculate percentage\n",
    "missing_val['Missing_percentage'] = (missing_val['Missing_percentage']/len(train))*100\n",
    "#descending order\n",
    "missing_val = missing_val.sort_values('Missing_percentage', ascending = False).reset_index(drop = True)\n",
    "missing_val"
   ]
  },
  {
   "cell_type": "markdown",
   "metadata": {},
   "source": [
    "1.For Fare_amount:"
   ]
  },
  {
   "cell_type": "code",
   "execution_count": 49,
   "metadata": {
    "scrolled": true
   },
   "outputs": [
    {
     "data": {
      "text/html": [
       "<div>\n",
       "<style scoped>\n",
       "    .dataframe tbody tr th:only-of-type {\n",
       "        vertical-align: middle;\n",
       "    }\n",
       "\n",
       "    .dataframe tbody tr th {\n",
       "        vertical-align: top;\n",
       "    }\n",
       "\n",
       "    .dataframe thead th {\n",
       "        text-align: right;\n",
       "    }\n",
       "</style>\n",
       "<table border=\"1\" class=\"dataframe\">\n",
       "  <thead>\n",
       "    <tr style=\"text-align: right;\">\n",
       "      <th></th>\n",
       "      <th>fare_amount</th>\n",
       "      <th>pickup_datetime</th>\n",
       "      <th>pickup_longitude</th>\n",
       "      <th>pickup_latitude</th>\n",
       "      <th>dropoff_longitude</th>\n",
       "      <th>dropoff_latitude</th>\n",
       "      <th>passenger_count</th>\n",
       "    </tr>\n",
       "  </thead>\n",
       "  <tbody>\n",
       "    <tr>\n",
       "      <td>0</td>\n",
       "      <td>4.5</td>\n",
       "      <td>2009-06-15 17:26:21 UTC</td>\n",
       "      <td>-73.844311</td>\n",
       "      <td>40.721319</td>\n",
       "      <td>-73.841610</td>\n",
       "      <td>40.712278</td>\n",
       "      <td>1</td>\n",
       "    </tr>\n",
       "    <tr>\n",
       "      <td>1</td>\n",
       "      <td>16.9</td>\n",
       "      <td>2010-01-05 16:52:16 UTC</td>\n",
       "      <td>-74.016048</td>\n",
       "      <td>40.711303</td>\n",
       "      <td>-73.979268</td>\n",
       "      <td>40.782004</td>\n",
       "      <td>1</td>\n",
       "    </tr>\n",
       "    <tr>\n",
       "      <td>2</td>\n",
       "      <td>5.7</td>\n",
       "      <td>2011-08-18 00:35:00 UTC</td>\n",
       "      <td>-73.982738</td>\n",
       "      <td>40.761270</td>\n",
       "      <td>-73.991242</td>\n",
       "      <td>40.750562</td>\n",
       "      <td>2</td>\n",
       "    </tr>\n",
       "    <tr>\n",
       "      <td>3</td>\n",
       "      <td>7.7</td>\n",
       "      <td>2012-04-21 04:30:42 UTC</td>\n",
       "      <td>-73.987130</td>\n",
       "      <td>40.733143</td>\n",
       "      <td>-73.991567</td>\n",
       "      <td>40.758092</td>\n",
       "      <td>1</td>\n",
       "    </tr>\n",
       "    <tr>\n",
       "      <td>4</td>\n",
       "      <td>5.3</td>\n",
       "      <td>2010-03-09 07:51:00 UTC</td>\n",
       "      <td>-73.968095</td>\n",
       "      <td>40.768008</td>\n",
       "      <td>-73.956655</td>\n",
       "      <td>40.783762</td>\n",
       "      <td>1</td>\n",
       "    </tr>\n",
       "    <tr>\n",
       "      <td>...</td>\n",
       "      <td>...</td>\n",
       "      <td>...</td>\n",
       "      <td>...</td>\n",
       "      <td>...</td>\n",
       "      <td>...</td>\n",
       "      <td>...</td>\n",
       "      <td>...</td>\n",
       "    </tr>\n",
       "    <tr>\n",
       "      <td>16062</td>\n",
       "      <td>6.5</td>\n",
       "      <td>2014-12-12 07:41:00 UTC</td>\n",
       "      <td>-74.008820</td>\n",
       "      <td>40.718757</td>\n",
       "      <td>-73.998865</td>\n",
       "      <td>40.719987</td>\n",
       "      <td>1</td>\n",
       "    </tr>\n",
       "    <tr>\n",
       "      <td>16063</td>\n",
       "      <td>16.1</td>\n",
       "      <td>2009-07-13 07:58:00 UTC</td>\n",
       "      <td>-73.981310</td>\n",
       "      <td>40.781695</td>\n",
       "      <td>-74.014392</td>\n",
       "      <td>40.715527</td>\n",
       "      <td>2</td>\n",
       "    </tr>\n",
       "    <tr>\n",
       "      <td>16064</td>\n",
       "      <td>8.5</td>\n",
       "      <td>2009-11-11 11:19:07 UTC</td>\n",
       "      <td>-73.972507</td>\n",
       "      <td>40.753417</td>\n",
       "      <td>-73.979577</td>\n",
       "      <td>40.765495</td>\n",
       "      <td>1</td>\n",
       "    </tr>\n",
       "    <tr>\n",
       "      <td>16065</td>\n",
       "      <td>8.1</td>\n",
       "      <td>2010-05-11 23:53:00 UTC</td>\n",
       "      <td>-73.957027</td>\n",
       "      <td>40.765945</td>\n",
       "      <td>-73.981983</td>\n",
       "      <td>40.779560</td>\n",
       "      <td>1</td>\n",
       "    </tr>\n",
       "    <tr>\n",
       "      <td>16066</td>\n",
       "      <td>8.5</td>\n",
       "      <td>2011-12-14 06:24:33 UTC</td>\n",
       "      <td>-74.002111</td>\n",
       "      <td>40.729755</td>\n",
       "      <td>-73.983877</td>\n",
       "      <td>40.761975</td>\n",
       "      <td>NaN</td>\n",
       "    </tr>\n",
       "  </tbody>\n",
       "</table>\n",
       "<p>16067 rows × 7 columns</p>\n",
       "</div>"
      ],
      "text/plain": [
       "       fare_amount          pickup_datetime  pickup_longitude  \\\n",
       "0              4.5  2009-06-15 17:26:21 UTC        -73.844311   \n",
       "1             16.9  2010-01-05 16:52:16 UTC        -74.016048   \n",
       "2              5.7  2011-08-18 00:35:00 UTC        -73.982738   \n",
       "3              7.7  2012-04-21 04:30:42 UTC        -73.987130   \n",
       "4              5.3  2010-03-09 07:51:00 UTC        -73.968095   \n",
       "...            ...                      ...               ...   \n",
       "16062          6.5  2014-12-12 07:41:00 UTC        -74.008820   \n",
       "16063         16.1  2009-07-13 07:58:00 UTC        -73.981310   \n",
       "16064          8.5  2009-11-11 11:19:07 UTC        -73.972507   \n",
       "16065          8.1  2010-05-11 23:53:00 UTC        -73.957027   \n",
       "16066          8.5  2011-12-14 06:24:33 UTC        -74.002111   \n",
       "\n",
       "       pickup_latitude  dropoff_longitude  dropoff_latitude passenger_count  \n",
       "0            40.721319         -73.841610         40.712278               1  \n",
       "1            40.711303         -73.979268         40.782004               1  \n",
       "2            40.761270         -73.991242         40.750562               2  \n",
       "3            40.733143         -73.991567         40.758092               1  \n",
       "4            40.768008         -73.956655         40.783762               1  \n",
       "...                ...                ...               ...             ...  \n",
       "16062        40.718757         -73.998865         40.719987               1  \n",
       "16063        40.781695         -74.014392         40.715527               2  \n",
       "16064        40.753417         -73.979577         40.765495               1  \n",
       "16065        40.765945         -73.981983         40.779560               1  \n",
       "16066        40.729755         -73.983877         40.761975             NaN  \n",
       "\n",
       "[16067 rows x 7 columns]"
      ]
     },
     "execution_count": 49,
     "metadata": {},
     "output_type": "execute_result"
    }
   ],
   "source": [
    "train"
   ]
  },
  {
   "cell_type": "markdown",
   "metadata": {},
   "source": [
    "Performing a small test for determining which statistical method is best.\n",
    "Choosing a random value of fare_amount to replace it as NA"
   ]
  },
  {
   "cell_type": "code",
   "execution_count": 313,
   "metadata": {},
   "outputs": [
    {
     "data": {
      "text/plain": [
       "7.0"
      ]
     },
     "execution_count": 313,
     "metadata": {},
     "output_type": "execute_result"
    }
   ],
   "source": [
    "train['fare_amount'].loc[1000]"
   ]
  },
  {
   "cell_type": "code",
   "execution_count": 314,
   "metadata": {},
   "outputs": [
    {
     "data": {
      "text/plain": [
       "nan"
      ]
     },
     "execution_count": 314,
     "metadata": {},
     "output_type": "execute_result"
    }
   ],
   "source": [
    "# Replacing 7 as NA\n",
    "train['fare_amount'].loc[1000]=np.nan\n",
    "train['fare_amount'].loc[1000]"
   ]
  },
  {
   "cell_type": "code",
   "execution_count": 315,
   "metadata": {},
   "outputs": [
    {
     "name": "stdout",
     "output_type": "stream",
     "text": [
      "Value if imputed with mean:15.020709029683054\n",
      "Value if imputed with median:8.5\n"
     ]
    }
   ],
   "source": [
    "# Impute with mean\n",
    "print('Value if imputed with mean:{}'.format(train['fare_amount'].fillna(train['fare_amount'].mean()).loc[1000]))\n",
    "# Impute with median\n",
    "print('Value if imputed with median:{}'.format(train['fare_amount'].fillna(train['fare_amount'].median()).loc[1000]))"
   ]
  },
  {
   "cell_type": "markdown",
   "metadata": {},
   "source": [
    "Will consider median method for missing value imputation of fare_amount as it gives more approximte value"
   ]
  },
  {
   "cell_type": "code",
   "execution_count": 50,
   "metadata": {},
   "outputs": [],
   "source": [
    "train['fare_amount']=train['fare_amount'].fillna(train['fare_amount'].median())"
   ]
  },
  {
   "cell_type": "code",
   "execution_count": 51,
   "metadata": {},
   "outputs": [
    {
     "data": {
      "text/plain": [
       "0"
      ]
     },
     "execution_count": 51,
     "metadata": {},
     "output_type": "execute_result"
    }
   ],
   "source": [
    "train['fare_amount'].isnull().sum()"
   ]
  },
  {
   "cell_type": "markdown",
   "metadata": {},
   "source": [
    "2. For pickup_longitude"
   ]
  },
  {
   "cell_type": "code",
   "execution_count": 318,
   "metadata": {},
   "outputs": [
    {
     "data": {
      "text/plain": [
       "-73.99542"
      ]
     },
     "execution_count": 318,
     "metadata": {},
     "output_type": "execute_result"
    }
   ],
   "source": [
    "train['pickup_longitude'].loc[1000]"
   ]
  },
  {
   "cell_type": "code",
   "execution_count": 319,
   "metadata": {},
   "outputs": [
    {
     "data": {
      "text/plain": [
       "nan"
      ]
     },
     "execution_count": 319,
     "metadata": {},
     "output_type": "execute_result"
    }
   ],
   "source": [
    "# Replace the value with NA\n",
    "train['pickup_longitude'].loc[1000]=np.nan\n",
    "train['pickup_longitude'].loc[1000]"
   ]
  },
  {
   "cell_type": "code",
   "execution_count": 320,
   "metadata": {},
   "outputs": [
    {
     "name": "stdout",
     "output_type": "stream",
     "text": [
      "Value when imputed with mean:-73.91185359519373\n",
      "Value when imputed with median:-73.98204\n"
     ]
    }
   ],
   "source": [
    "# Impute with mean\n",
    "print('Value when imputed with mean:{}'.format(train['pickup_longitude'].fillna(train['pickup_longitude'].mean()).loc[1000]))\n",
    "# Impute with median\n",
    "print('Value when imputed with median:{}'.format(train['pickup_longitude'].fillna(train['pickup_longitude'].median()).loc[1000]))"
   ]
  },
  {
   "cell_type": "markdown",
   "metadata": {},
   "source": [
    "Will consider median method for missing value imputation of pickup_longitude as it gives more approximte value"
   ]
  },
  {
   "cell_type": "code",
   "execution_count": 52,
   "metadata": {},
   "outputs": [],
   "source": [
    "train['pickup_longitude']=train['pickup_longitude'].fillna(train['pickup_longitude'].median())"
   ]
  },
  {
   "cell_type": "code",
   "execution_count": 53,
   "metadata": {},
   "outputs": [
    {
     "data": {
      "text/plain": [
       "0"
      ]
     },
     "execution_count": 53,
     "metadata": {},
     "output_type": "execute_result"
    }
   ],
   "source": [
    "train['pickup_longitude'].isnull().sum()"
   ]
  },
  {
   "cell_type": "markdown",
   "metadata": {},
   "source": [
    "3. For Pickup_latitude"
   ]
  },
  {
   "cell_type": "code",
   "execution_count": 323,
   "metadata": {},
   "outputs": [
    {
     "data": {
      "text/plain": [
       "40.759662"
      ]
     },
     "execution_count": 323,
     "metadata": {},
     "output_type": "execute_result"
    }
   ],
   "source": [
    "train['pickup_latitude'].loc[1000]"
   ]
  },
  {
   "cell_type": "code",
   "execution_count": 324,
   "metadata": {},
   "outputs": [
    {
     "data": {
      "text/plain": [
       "nan"
      ]
     },
     "execution_count": 324,
     "metadata": {},
     "output_type": "execute_result"
    }
   ],
   "source": [
    "# Replace the Value with NA\n",
    "train['pickup_latitude'].loc[1000]=np.nan\n",
    "train['pickup_latitude'].loc[1000]"
   ]
  },
  {
   "cell_type": "code",
   "execution_count": 325,
   "metadata": {},
   "outputs": [
    {
     "name": "stdout",
     "output_type": "stream",
     "text": [
      "Value when imputed with Mean:40.69003502079446\n",
      "Value when imputed by Median:40.753296500000005\n"
     ]
    }
   ],
   "source": [
    "# Impute with Mean\n",
    "print('Value when imputed with Mean:{}'.format(train['pickup_latitude'].fillna(train['pickup_latitude'].mean()).loc[1000]))\n",
    "# Impute with Median\n",
    "print('Value when imputed by Median:{}'.format(train['pickup_latitude'].fillna(train['pickup_latitude'].median()).loc[1000]))"
   ]
  },
  {
   "cell_type": "markdown",
   "metadata": {},
   "source": [
    "Will consider median method for missing value imputation of pickup_latitude as it gives more approximte value"
   ]
  },
  {
   "cell_type": "code",
   "execution_count": 54,
   "metadata": {},
   "outputs": [],
   "source": [
    "train['pickup_latitude']=train['pickup_latitude'].fillna(train['pickup_latitude'].median())"
   ]
  },
  {
   "cell_type": "code",
   "execution_count": 55,
   "metadata": {},
   "outputs": [
    {
     "data": {
      "text/plain": [
       "0"
      ]
     },
     "execution_count": 55,
     "metadata": {},
     "output_type": "execute_result"
    }
   ],
   "source": [
    "train['pickup_latitude'].isnull().sum()"
   ]
  },
  {
   "cell_type": "markdown",
   "metadata": {},
   "source": [
    "4. For dropoff_longitude"
   ]
  },
  {
   "cell_type": "code",
   "execution_count": 328,
   "metadata": {},
   "outputs": [
    {
     "data": {
      "text/plain": [
       "-73.987607"
      ]
     },
     "execution_count": 328,
     "metadata": {},
     "output_type": "execute_result"
    }
   ],
   "source": [
    "train['dropoff_longitude'].loc[1000]"
   ]
  },
  {
   "cell_type": "code",
   "execution_count": 329,
   "metadata": {},
   "outputs": [
    {
     "data": {
      "text/plain": [
       "nan"
      ]
     },
     "execution_count": 329,
     "metadata": {},
     "output_type": "execute_result"
    }
   ],
   "source": [
    "# Replace the value with NA\n",
    "train['dropoff_longitude'].loc[1000]=np.nan\n",
    "train['dropoff_longitude'].loc[1000]"
   ]
  },
  {
   "cell_type": "code",
   "execution_count": 330,
   "metadata": {},
   "outputs": [
    {
     "name": "stdout",
     "output_type": "stream",
     "text": [
      "Value when imputed with Mean:-73.9066931902327\n",
      "Value when imputed with Median:-73.98056650000001\n"
     ]
    }
   ],
   "source": [
    "#Impute with Mean\n",
    "print('Value when imputed with Mean:{}'.format(train['dropoff_longitude'].fillna(train['dropoff_longitude'].mean()).loc[1000]))\n",
    "#Impute with Median\n",
    "print('Value when imputed with Median:{}'.format(train['dropoff_longitude'].fillna(train['dropoff_longitude'].median()).loc[1000]))"
   ]
  },
  {
   "cell_type": "markdown",
   "metadata": {},
   "source": [
    "Will consider median method for missing value imputation of dropoff_longitude as it gives more approximte value"
   ]
  },
  {
   "cell_type": "code",
   "execution_count": 56,
   "metadata": {},
   "outputs": [],
   "source": [
    "train['dropoff_longitude']=train['dropoff_longitude'].fillna(train['dropoff_longitude'].median())"
   ]
  },
  {
   "cell_type": "code",
   "execution_count": 57,
   "metadata": {},
   "outputs": [
    {
     "data": {
      "text/plain": [
       "0"
      ]
     },
     "execution_count": 57,
     "metadata": {},
     "output_type": "execute_result"
    }
   ],
   "source": [
    "train['dropoff_longitude'].isnull().sum()"
   ]
  },
  {
   "cell_type": "markdown",
   "metadata": {},
   "source": [
    "5. For dropoff_latitude"
   ]
  },
  {
   "cell_type": "code",
   "execution_count": 333,
   "metadata": {},
   "outputs": [
    {
     "data": {
      "text/plain": [
       "40.751247"
      ]
     },
     "execution_count": 333,
     "metadata": {},
     "output_type": "execute_result"
    }
   ],
   "source": [
    "train['dropoff_latitude'].loc[1000]"
   ]
  },
  {
   "cell_type": "code",
   "execution_count": 334,
   "metadata": {},
   "outputs": [
    {
     "data": {
      "text/plain": [
       "nan"
      ]
     },
     "execution_count": 334,
     "metadata": {},
     "output_type": "execute_result"
    }
   ],
   "source": [
    "# Replace the value with NA\n",
    "train['dropoff_latitude'].loc[1000]=np.nan\n",
    "train['dropoff_latitude'].loc[1000]"
   ]
  },
  {
   "cell_type": "code",
   "execution_count": 335,
   "metadata": {},
   "outputs": [
    {
     "name": "stdout",
     "output_type": "stream",
     "text": [
      "Value when imputed by Mean:40.688009680020464\n",
      "Value when imputed by Median:40.7542265\n"
     ]
    }
   ],
   "source": [
    "# Impute with Mean\n",
    "print('Value when imputed by Mean:{}'.format(train['dropoff_latitude'].fillna(train['dropoff_latitude'].mean()).loc[1000]))\n",
    "# Impute with Median\n",
    "print('Value when imputed by Median:{}'.format(train['dropoff_latitude'].fillna(train['dropoff_latitude'].median()).loc[1000]))"
   ]
  },
  {
   "cell_type": "markdown",
   "metadata": {},
   "source": [
    "Will consider median method for missing value imputation of dropoff_longitude as it gives more approximte value"
   ]
  },
  {
   "cell_type": "code",
   "execution_count": 58,
   "metadata": {},
   "outputs": [],
   "source": [
    "train['dropoff_latitude']=train['dropoff_latitude'].fillna(train['dropoff_latitude'].median())"
   ]
  },
  {
   "cell_type": "code",
   "execution_count": 59,
   "metadata": {},
   "outputs": [
    {
     "data": {
      "text/plain": [
       "0"
      ]
     },
     "execution_count": 59,
     "metadata": {},
     "output_type": "execute_result"
    }
   ],
   "source": [
    "train['dropoff_latitude'].isnull().sum()"
   ]
  },
  {
   "cell_type": "markdown",
   "metadata": {},
   "source": [
    "Let's check is there any missing value remaining in any of the field"
   ]
  },
  {
   "cell_type": "code",
   "execution_count": 60,
   "metadata": {},
   "outputs": [
    {
     "data": {
      "text/plain": [
       "fare_amount            0\n",
       "pickup_datetime        0\n",
       "pickup_longitude       0\n",
       "pickup_latitude        0\n",
       "dropoff_longitude      0\n",
       "dropoff_latitude       0\n",
       "passenger_count      133\n",
       "dtype: int64"
      ]
     },
     "execution_count": 60,
     "metadata": {},
     "output_type": "execute_result"
    }
   ],
   "source": [
    "train.isnull().sum()"
   ]
  },
  {
   "cell_type": "markdown",
   "metadata": {},
   "source": [
    "Let's do missing value analysis for passenger_count as well"
   ]
  },
  {
   "cell_type": "markdown",
   "metadata": {},
   "source": [
    "6. For passenger_count"
   ]
  },
  {
   "cell_type": "code",
   "execution_count": 339,
   "metadata": {},
   "outputs": [
    {
     "data": {
      "text/plain": [
       "5.0"
      ]
     },
     "execution_count": 339,
     "metadata": {},
     "output_type": "execute_result"
    }
   ],
   "source": [
    "train['passenger_count'].loc[10000]"
   ]
  },
  {
   "cell_type": "code",
   "execution_count": 340,
   "metadata": {},
   "outputs": [
    {
     "data": {
      "text/plain": [
       "nan"
      ]
     },
     "execution_count": 340,
     "metadata": {},
     "output_type": "execute_result"
    }
   ],
   "source": [
    "# Replace with NA\n",
    "train['passenger_count'].loc[10000]=np.nan\n",
    "train['passenger_count'].loc[10000]"
   ]
  },
  {
   "cell_type": "code",
   "execution_count": 341,
   "metadata": {},
   "outputs": [
    {
     "name": "stdout",
     "output_type": "stream",
     "text": [
      "Value when imputed by Mean:1.6494257202033515\n",
      "Value when imputed by Median:1.0\n",
      "Value when imputed by mode:1.0\n"
     ]
    }
   ],
   "source": [
    "# Impute with Mean\n",
    "print('Value when imputed by Mean:{}'.format(train['passenger_count'].fillna(train['passenger_count'].mean()).loc[10000]))\n",
    "# Impute with Median\n",
    "print('Value when imputed by Median:{}'.format(train['passenger_count'].fillna(train['passenger_count'].median()).loc[10000]))\n",
    "# Impute with Mode\n",
    "print('Value when imputed by mode:{}'.format(train['passenger_count'].fillna(train['passenger_count'].mode()[0]).loc[10000]))"
   ]
  },
  {
   "cell_type": "code",
   "execution_count": 61,
   "metadata": {},
   "outputs": [],
   "source": [
    "train['passenger_count']=train['passenger_count'].fillna(train['passenger_count'].median())"
   ]
  },
  {
   "cell_type": "code",
   "execution_count": 62,
   "metadata": {},
   "outputs": [
    {
     "data": {
      "text/plain": [
       "0"
      ]
     },
     "execution_count": 62,
     "metadata": {},
     "output_type": "execute_result"
    }
   ],
   "source": [
    "train['passenger_count'].isnull().sum()"
   ]
  },
  {
   "cell_type": "code",
   "execution_count": 63,
   "metadata": {},
   "outputs": [],
   "source": [
    "train['passenger_count']=train['passenger_count'].astype('int')"
   ]
  },
  {
   "cell_type": "code",
   "execution_count": 52,
   "metadata": {},
   "outputs": [
    {
     "data": {
      "text/plain": [
       "array([1, 2, 3, 6, 5, 4], dtype=int64)"
      ]
     },
     "execution_count": 52,
     "metadata": {},
     "output_type": "execute_result"
    }
   ],
   "source": [
    "train['passenger_count'].unique()"
   ]
  },
  {
   "cell_type": "code",
   "execution_count": 53,
   "metadata": {},
   "outputs": [],
   "source": [
    "train['passenger_count']=train['passenger_count'].round().astype('object')"
   ]
  },
  {
   "cell_type": "code",
   "execution_count": 54,
   "metadata": {},
   "outputs": [
    {
     "data": {
      "text/plain": [
       "array([1, 2, 3, 6, 5, 4], dtype=object)"
      ]
     },
     "execution_count": 54,
     "metadata": {},
     "output_type": "execute_result"
    }
   ],
   "source": [
    "train['passenger_count'].unique()"
   ]
  },
  {
   "cell_type": "code",
   "execution_count": 55,
   "metadata": {},
   "outputs": [
    {
     "data": {
      "text/plain": [
       "count     16067\n",
       "unique        6\n",
       "top           1\n",
       "freq      11393\n",
       "Name: passenger_count, dtype: int64"
      ]
     },
     "execution_count": 55,
     "metadata": {},
     "output_type": "execute_result"
    }
   ],
   "source": [
    "train['passenger_count'].describe()"
   ]
  },
  {
   "cell_type": "code",
   "execution_count": 56,
   "metadata": {},
   "outputs": [
    {
     "data": {
      "text/html": [
       "<div>\n",
       "<style scoped>\n",
       "    .dataframe tbody tr th:only-of-type {\n",
       "        vertical-align: middle;\n",
       "    }\n",
       "\n",
       "    .dataframe tbody tr th {\n",
       "        vertical-align: top;\n",
       "    }\n",
       "\n",
       "    .dataframe thead th {\n",
       "        text-align: right;\n",
       "    }\n",
       "</style>\n",
       "<table border=\"1\" class=\"dataframe\">\n",
       "  <thead>\n",
       "    <tr style=\"text-align: right;\">\n",
       "      <th></th>\n",
       "      <th>fare_amount</th>\n",
       "      <th>pickup_longitude</th>\n",
       "      <th>pickup_latitude</th>\n",
       "      <th>dropoff_longitude</th>\n",
       "      <th>dropoff_latitude</th>\n",
       "    </tr>\n",
       "  </thead>\n",
       "  <tbody>\n",
       "    <tr>\n",
       "      <td>count</td>\n",
       "      <td>16067.000000</td>\n",
       "      <td>16067.000000</td>\n",
       "      <td>16067.000000</td>\n",
       "      <td>16067.000000</td>\n",
       "      <td>16067.000000</td>\n",
       "    </tr>\n",
       "    <tr>\n",
       "      <td>mean</td>\n",
       "      <td>15.008034</td>\n",
       "      <td>-73.913235</td>\n",
       "      <td>40.691284</td>\n",
       "      <td>-73.908142</td>\n",
       "      <td>40.689299</td>\n",
       "    </tr>\n",
       "    <tr>\n",
       "      <td>std</td>\n",
       "      <td>430.125889</td>\n",
       "      <td>2.625261</td>\n",
       "      <td>2.580094</td>\n",
       "      <td>2.676390</td>\n",
       "      <td>2.598947</td>\n",
       "    </tr>\n",
       "    <tr>\n",
       "      <td>min</td>\n",
       "      <td>1.140000</td>\n",
       "      <td>-74.438233</td>\n",
       "      <td>-74.006893</td>\n",
       "      <td>-74.429332</td>\n",
       "      <td>-74.006377</td>\n",
       "    </tr>\n",
       "    <tr>\n",
       "      <td>25%</td>\n",
       "      <td>6.000000</td>\n",
       "      <td>-73.992156</td>\n",
       "      <td>40.737017</td>\n",
       "      <td>-73.991182</td>\n",
       "      <td>40.736815</td>\n",
       "    </tr>\n",
       "    <tr>\n",
       "      <td>50%</td>\n",
       "      <td>8.500000</td>\n",
       "      <td>-73.982040</td>\n",
       "      <td>40.753298</td>\n",
       "      <td>-73.980567</td>\n",
       "      <td>40.754223</td>\n",
       "    </tr>\n",
       "    <tr>\n",
       "      <td>75%</td>\n",
       "      <td>12.500000</td>\n",
       "      <td>-73.968439</td>\n",
       "      <td>40.767374</td>\n",
       "      <td>-73.965868</td>\n",
       "      <td>40.768013</td>\n",
       "    </tr>\n",
       "    <tr>\n",
       "      <td>max</td>\n",
       "      <td>54343.000000</td>\n",
       "      <td>40.766125</td>\n",
       "      <td>41.366138</td>\n",
       "      <td>40.802437</td>\n",
       "      <td>41.366138</td>\n",
       "    </tr>\n",
       "  </tbody>\n",
       "</table>\n",
       "</div>"
      ],
      "text/plain": [
       "        fare_amount  pickup_longitude  pickup_latitude  dropoff_longitude  \\\n",
       "count  16067.000000      16067.000000     16067.000000       16067.000000   \n",
       "mean      15.008034        -73.913235        40.691284         -73.908142   \n",
       "std      430.125889          2.625261         2.580094           2.676390   \n",
       "min        1.140000        -74.438233       -74.006893         -74.429332   \n",
       "25%        6.000000        -73.992156        40.737017         -73.991182   \n",
       "50%        8.500000        -73.982040        40.753298         -73.980567   \n",
       "75%       12.500000        -73.968439        40.767374         -73.965868   \n",
       "max    54343.000000         40.766125        41.366138          40.802437   \n",
       "\n",
       "       dropoff_latitude  \n",
       "count      16067.000000  \n",
       "mean          40.689299  \n",
       "std            2.598947  \n",
       "min          -74.006377  \n",
       "25%           40.736815  \n",
       "50%           40.754223  \n",
       "75%           40.768013  \n",
       "max           41.366138  "
      ]
     },
     "execution_count": 56,
     "metadata": {},
     "output_type": "execute_result"
    }
   ],
   "source": [
    "train.describe()"
   ]
  },
  {
   "cell_type": "markdown",
   "metadata": {},
   "source": [
    "### Outlier Analysis"
   ]
  },
  {
   "cell_type": "markdown",
   "metadata": {},
   "source": [
    "We will do Box Plot Analysis for fare Amount as of now and will do for latitudes and longitudes after feature engineering"
   ]
  },
  {
   "cell_type": "markdown",
   "metadata": {},
   "source": [
    "###### Univariate Boxplots: Boxplots for all Numerical Variables"
   ]
  },
  {
   "cell_type": "code",
   "execution_count": 350,
   "metadata": {},
   "outputs": [
    {
     "data": {
      "image/png": "[encoded data removed]",
      "text/plain": [
       "<Figure size 1440x360 with 1 Axes>"
      ]
     },
     "metadata": {
      "needs_background": "light"
     },
     "output_type": "display_data"
    }
   ],
   "source": [
    "plt.figure(figsize=(20,5))\n",
    "plt.xlim(0,100)\n",
    "sns.boxplot(x=train['fare_amount'],data=train)\n",
    "plt.title('Boxplot of fare_amount')\n",
    "plt.show()\n"
   ]
  },
  {
   "cell_type": "code",
   "execution_count": 351,
   "metadata": {},
   "outputs": [
    {
     "data": {
      "text/plain": [
       "8.396091367399016"
      ]
     },
     "execution_count": 351,
     "metadata": {},
     "output_type": "execute_result"
    }
   ],
   "source": [
    "sum(train['fare_amount']>22.5)/len(train['fare_amount'])*100"
   ]
  },
  {
   "cell_type": "markdown",
   "metadata": {},
   "source": [
    "Nearly 8% outliers are present in fare_amount"
   ]
  },
  {
   "cell_type": "markdown",
   "metadata": {},
   "source": [
    "=> Bivariate Analysis : Boxplot for Numerical Vs Categorical Variable"
   ]
  },
  {
   "cell_type": "code",
   "execution_count": 352,
   "metadata": {},
   "outputs": [
    {
     "data": {
      "image/png": "[encoded data removed]",
      "text/plain": [
       "<Figure size 1440x720 with 1 Axes>"
      ]
     },
     "metadata": {
      "needs_background": "light"
     },
     "output_type": "display_data"
    }
   ],
   "source": [
    "plt.figure(figsize=(20,10))\n",
    "plt.xlim(0,100)\n",
    "sns.boxplot(x=train['fare_amount'],y=train['passenger_count'],data=train,orient='h')\n",
    "plt.title('Boxplot of fare_amount vs passenger_count')\n",
    "plt.show()"
   ]
  },
  {
   "cell_type": "code",
   "execution_count": 68,
   "metadata": {},
   "outputs": [],
   "source": [
    "def outlier_treatment(col):\n",
    "    ''' calculating outlier indices and replacing them with NA  '''\n",
    "    #Extract quartiles\n",
    "    q75, q25 = np.percentile(train[col], [75 ,25])\n",
    "    print(q75,q25)\n",
    "    #Calculate IQR\n",
    "    iqr = q75 - q25\n",
    "    #Calculate inner and outer fence\n",
    "    minimum = q25 - (iqr*1.5)\n",
    "    maximum = q75 + (iqr*1.5)\n",
    "    print(minimum,maximum)\n",
    "    #Replace with NA\n",
    "    train.loc[train[col] < minimum,col] = np.nan\n",
    "    train.loc[train[col] > maximum,col] = np.nan"
   ]
  },
  {
   "cell_type": "code",
   "execution_count": 58,
   "metadata": {
    "scrolled": true
   },
   "outputs": [
    {
     "name": "stdout",
     "output_type": "stream",
     "text": [
      "Outlier Analysis for fare_amount\n",
      "12.5 6.0\n",
      "-3.75 22.25\n"
     ]
    }
   ],
   "source": [
    "print('Outlier Analysis for fare_amount')\n",
    "outlier_treatment('fare_amount')"
   ]
  },
  {
   "cell_type": "code",
   "execution_count": 59,
   "metadata": {},
   "outputs": [
    {
     "data": {
      "text/plain": [
       "fare_amount          1397\n",
       "pickup_datetime         0\n",
       "pickup_longitude        0\n",
       "pickup_latitude         0\n",
       "dropoff_longitude       0\n",
       "dropoff_latitude        0\n",
       "passenger_count         0\n",
       "dtype: int64"
      ]
     },
     "execution_count": 59,
     "metadata": {},
     "output_type": "execute_result"
    }
   ],
   "source": [
    "train.isnull().sum()"
   ]
  },
  {
   "cell_type": "code",
   "execution_count": 60,
   "metadata": {},
   "outputs": [],
   "source": [
    "# Let's impute all these values by using median imputation\n",
    "train['fare_amount']=train['fare_amount'].fillna(train['fare_amount'].median())"
   ]
  },
  {
   "cell_type": "code",
   "execution_count": 61,
   "metadata": {},
   "outputs": [
    {
     "data": {
      "text/plain": [
       "fare_amount          0\n",
       "pickup_datetime      0\n",
       "pickup_longitude     0\n",
       "pickup_latitude      0\n",
       "dropoff_longitude    0\n",
       "dropoff_latitude     0\n",
       "passenger_count      0\n",
       "dtype: int64"
      ]
     },
     "execution_count": 61,
     "metadata": {},
     "output_type": "execute_result"
    }
   ],
   "source": [
    "train.isnull().sum()"
   ]
  },
  {
   "cell_type": "code",
   "execution_count": 62,
   "metadata": {},
   "outputs": [
    {
     "data": {
      "text/plain": [
       "fare_amount          3.955640\n",
       "pickup_longitude     2.625261\n",
       "pickup_latitude      2.580094\n",
       "dropoff_longitude    2.676390\n",
       "dropoff_latitude     2.598947\n",
       "passenger_count      1.262026\n",
       "dtype: float64"
      ]
     },
     "execution_count": 62,
     "metadata": {},
     "output_type": "execute_result"
    }
   ],
   "source": [
    "train.std()"
   ]
  },
  {
   "cell_type": "code",
   "execution_count": 63,
   "metadata": {},
   "outputs": [
    {
     "data": {
      "text/plain": [
       "count     16067\n",
       "unique        6\n",
       "top           1\n",
       "freq      11393\n",
       "Name: passenger_count, dtype: int64"
      ]
     },
     "execution_count": 63,
     "metadata": {},
     "output_type": "execute_result"
    }
   ],
   "source": [
    "train['passenger_count'].describe()"
   ]
  },
  {
   "cell_type": "code",
   "execution_count": 41,
   "metadata": {},
   "outputs": [
    {
     "data": {
      "text/plain": [
       "array([1.000e+00, 2.000e+00, 3.000e+00,       nan, 6.000e+00, 5.000e+00,\n",
       "       4.000e+00, 2.360e+02, 4.560e+02, 5.334e+03, 0.000e+00, 5.350e+02,\n",
       "       3.540e+02, 5.500e+01, 5.540e+02, 5.300e+01, 3.500e+01, 3.450e+02,\n",
       "       5.345e+03, 5.360e+02, 4.300e+01, 5.800e+01, 5.370e+02, 8.700e+01,\n",
       "       5.312e+02, 1.300e+00, 1.200e-01, 5.570e+02])"
      ]
     },
     "execution_count": 41,
     "metadata": {},
     "output_type": "execute_result"
    }
   ],
   "source": [
    "train['passenger_count'].unique()"
   ]
  },
  {
   "cell_type": "code",
   "execution_count": 64,
   "metadata": {},
   "outputs": [],
   "source": [
    "train['passenger_count']=train['passenger_count'].astype('int').round().astype('object').astype('category')"
   ]
  },
  {
   "cell_type": "code",
   "execution_count": 66,
   "metadata": {},
   "outputs": [
    {
     "data": {
      "text/html": [
       "<div>\n",
       "<style scoped>\n",
       "    .dataframe tbody tr th:only-of-type {\n",
       "        vertical-align: middle;\n",
       "    }\n",
       "\n",
       "    .dataframe tbody tr th {\n",
       "        vertical-align: top;\n",
       "    }\n",
       "\n",
       "    .dataframe thead th {\n",
       "        text-align: right;\n",
       "    }\n",
       "</style>\n",
       "<table border=\"1\" class=\"dataframe\">\n",
       "  <thead>\n",
       "    <tr style=\"text-align: right;\">\n",
       "      <th></th>\n",
       "      <th>fare_amount</th>\n",
       "      <th>pickup_longitude</th>\n",
       "      <th>pickup_latitude</th>\n",
       "      <th>dropoff_longitude</th>\n",
       "      <th>dropoff_latitude</th>\n",
       "    </tr>\n",
       "  </thead>\n",
       "  <tbody>\n",
       "    <tr>\n",
       "      <td>count</td>\n",
       "      <td>16067.000000</td>\n",
       "      <td>16067.000000</td>\n",
       "      <td>16067.000000</td>\n",
       "      <td>16067.000000</td>\n",
       "      <td>16067.000000</td>\n",
       "    </tr>\n",
       "    <tr>\n",
       "      <td>mean</td>\n",
       "      <td>8.822496</td>\n",
       "      <td>-73.913235</td>\n",
       "      <td>40.691284</td>\n",
       "      <td>-73.908142</td>\n",
       "      <td>40.689299</td>\n",
       "    </tr>\n",
       "    <tr>\n",
       "      <td>std</td>\n",
       "      <td>3.955640</td>\n",
       "      <td>2.625261</td>\n",
       "      <td>2.580094</td>\n",
       "      <td>2.676390</td>\n",
       "      <td>2.598947</td>\n",
       "    </tr>\n",
       "    <tr>\n",
       "      <td>min</td>\n",
       "      <td>1.140000</td>\n",
       "      <td>-74.438233</td>\n",
       "      <td>-74.006893</td>\n",
       "      <td>-74.429332</td>\n",
       "      <td>-74.006377</td>\n",
       "    </tr>\n",
       "    <tr>\n",
       "      <td>25%</td>\n",
       "      <td>6.000000</td>\n",
       "      <td>-73.992156</td>\n",
       "      <td>40.737017</td>\n",
       "      <td>-73.991182</td>\n",
       "      <td>40.736815</td>\n",
       "    </tr>\n",
       "    <tr>\n",
       "      <td>50%</td>\n",
       "      <td>8.000000</td>\n",
       "      <td>-73.982040</td>\n",
       "      <td>40.753298</td>\n",
       "      <td>-73.980567</td>\n",
       "      <td>40.754223</td>\n",
       "    </tr>\n",
       "    <tr>\n",
       "      <td>75%</td>\n",
       "      <td>10.500000</td>\n",
       "      <td>-73.968439</td>\n",
       "      <td>40.767374</td>\n",
       "      <td>-73.965868</td>\n",
       "      <td>40.768013</td>\n",
       "    </tr>\n",
       "    <tr>\n",
       "      <td>max</td>\n",
       "      <td>22.100000</td>\n",
       "      <td>40.766125</td>\n",
       "      <td>41.366138</td>\n",
       "      <td>40.802437</td>\n",
       "      <td>41.366138</td>\n",
       "    </tr>\n",
       "  </tbody>\n",
       "</table>\n",
       "</div>"
      ],
      "text/plain": [
       "        fare_amount  pickup_longitude  pickup_latitude  dropoff_longitude  \\\n",
       "count  16067.000000      16067.000000     16067.000000       16067.000000   \n",
       "mean       8.822496        -73.913235        40.691284         -73.908142   \n",
       "std        3.955640          2.625261         2.580094           2.676390   \n",
       "min        1.140000        -74.438233       -74.006893         -74.429332   \n",
       "25%        6.000000        -73.992156        40.737017         -73.991182   \n",
       "50%        8.000000        -73.982040        40.753298         -73.980567   \n",
       "75%       10.500000        -73.968439        40.767374         -73.965868   \n",
       "max       22.100000         40.766125        41.366138          40.802437   \n",
       "\n",
       "       dropoff_latitude  \n",
       "count      16067.000000  \n",
       "mean          40.689299  \n",
       "std            2.598947  \n",
       "min          -74.006377  \n",
       "25%           40.736815  \n",
       "50%           40.754223  \n",
       "75%           40.768013  \n",
       "max           41.366138  "
      ]
     },
     "execution_count": 66,
     "metadata": {},
     "output_type": "execute_result"
    }
   ],
   "source": [
    "train.describe()"
   ]
  },
  {
   "cell_type": "code",
   "execution_count": 67,
   "metadata": {},
   "outputs": [
    {
     "data": {
      "text/html": [
       "<div>\n",
       "<style scoped>\n",
       "    .dataframe tbody tr th:only-of-type {\n",
       "        vertical-align: middle;\n",
       "    }\n",
       "\n",
       "    .dataframe tbody tr th {\n",
       "        vertical-align: top;\n",
       "    }\n",
       "\n",
       "    .dataframe thead th {\n",
       "        text-align: right;\n",
       "    }\n",
       "</style>\n",
       "<table border=\"1\" class=\"dataframe\">\n",
       "  <thead>\n",
       "    <tr style=\"text-align: right;\">\n",
       "      <th></th>\n",
       "      <th>fare_amount</th>\n",
       "      <th>pickup_datetime</th>\n",
       "      <th>pickup_longitude</th>\n",
       "      <th>pickup_latitude</th>\n",
       "      <th>dropoff_longitude</th>\n",
       "      <th>dropoff_latitude</th>\n",
       "      <th>passenger_count</th>\n",
       "    </tr>\n",
       "  </thead>\n",
       "  <tbody>\n",
       "    <tr>\n",
       "      <td>0</td>\n",
       "      <td>4.5</td>\n",
       "      <td>2009-06-15 17:26:21 UTC</td>\n",
       "      <td>-73.844311</td>\n",
       "      <td>40.721319</td>\n",
       "      <td>-73.841610</td>\n",
       "      <td>40.712278</td>\n",
       "      <td>1</td>\n",
       "    </tr>\n",
       "    <tr>\n",
       "      <td>1</td>\n",
       "      <td>16.9</td>\n",
       "      <td>2010-01-05 16:52:16 UTC</td>\n",
       "      <td>-74.016048</td>\n",
       "      <td>40.711303</td>\n",
       "      <td>-73.979268</td>\n",
       "      <td>40.782004</td>\n",
       "      <td>1</td>\n",
       "    </tr>\n",
       "    <tr>\n",
       "      <td>2</td>\n",
       "      <td>5.7</td>\n",
       "      <td>2011-08-18 00:35:00 UTC</td>\n",
       "      <td>-73.982738</td>\n",
       "      <td>40.761270</td>\n",
       "      <td>-73.991242</td>\n",
       "      <td>40.750562</td>\n",
       "      <td>2</td>\n",
       "    </tr>\n",
       "    <tr>\n",
       "      <td>3</td>\n",
       "      <td>7.7</td>\n",
       "      <td>2012-04-21 04:30:42 UTC</td>\n",
       "      <td>-73.987130</td>\n",
       "      <td>40.733143</td>\n",
       "      <td>-73.991567</td>\n",
       "      <td>40.758092</td>\n",
       "      <td>1</td>\n",
       "    </tr>\n",
       "    <tr>\n",
       "      <td>4</td>\n",
       "      <td>5.3</td>\n",
       "      <td>2010-03-09 07:51:00 UTC</td>\n",
       "      <td>-73.968095</td>\n",
       "      <td>40.768008</td>\n",
       "      <td>-73.956655</td>\n",
       "      <td>40.783762</td>\n",
       "      <td>1</td>\n",
       "    </tr>\n",
       "  </tbody>\n",
       "</table>\n",
       "</div>"
      ],
      "text/plain": [
       "   fare_amount          pickup_datetime  pickup_longitude  pickup_latitude  \\\n",
       "0          4.5  2009-06-15 17:26:21 UTC        -73.844311        40.721319   \n",
       "1         16.9  2010-01-05 16:52:16 UTC        -74.016048        40.711303   \n",
       "2          5.7  2011-08-18 00:35:00 UTC        -73.982738        40.761270   \n",
       "3          7.7  2012-04-21 04:30:42 UTC        -73.987130        40.733143   \n",
       "4          5.3  2010-03-09 07:51:00 UTC        -73.968095        40.768008   \n",
       "\n",
       "   dropoff_longitude  dropoff_latitude passenger_count  \n",
       "0         -73.841610         40.712278               1  \n",
       "1         -73.979268         40.782004               1  \n",
       "2         -73.991242         40.750562               2  \n",
       "3         -73.991567         40.758092               1  \n",
       "4         -73.956655         40.783762               1  "
      ]
     },
     "execution_count": 67,
     "metadata": {},
     "output_type": "execute_result"
    }
   ],
   "source": [
    "train.head()"
   ]
  },
  {
   "cell_type": "code",
   "execution_count": 68,
   "metadata": {},
   "outputs": [
    {
     "data": {
      "text/plain": [
       "(16067, 7)"
      ]
     },
     "execution_count": 68,
     "metadata": {},
     "output_type": "execute_result"
    }
   ],
   "source": [
    "train.shape"
   ]
  },
  {
   "cell_type": "markdown",
   "metadata": {},
   "source": [
    "### Feature Engineering"
   ]
  },
  {
   "cell_type": "markdown",
   "metadata": {},
   "source": [
    "#### 1. Feature Engineering for pickup_datetime (timestamp) Variable"
   ]
  },
  {
   "cell_type": "markdown",
   "metadata": {},
   "source": [
    "We will derive new features from pickup_datetime.\n",
    "\n",
    "New features will be day of week,month,year,hour"
   ]
  },
  {
   "cell_type": "code",
   "execution_count": 69,
   "metadata": {},
   "outputs": [
    {
     "data": {
      "text/html": [
       "<div>\n",
       "<style scoped>\n",
       "    .dataframe tbody tr th:only-of-type {\n",
       "        vertical-align: middle;\n",
       "    }\n",
       "\n",
       "    .dataframe tbody tr th {\n",
       "        vertical-align: top;\n",
       "    }\n",
       "\n",
       "    .dataframe thead th {\n",
       "        text-align: right;\n",
       "    }\n",
       "</style>\n",
       "<table border=\"1\" class=\"dataframe\">\n",
       "  <thead>\n",
       "    <tr style=\"text-align: right;\">\n",
       "      <th></th>\n",
       "      <th>fare_amount</th>\n",
       "      <th>pickup_datetime</th>\n",
       "      <th>pickup_longitude</th>\n",
       "      <th>pickup_latitude</th>\n",
       "      <th>dropoff_longitude</th>\n",
       "      <th>dropoff_latitude</th>\n",
       "      <th>passenger_count</th>\n",
       "    </tr>\n",
       "  </thead>\n",
       "  <tbody>\n",
       "    <tr>\n",
       "      <td>0</td>\n",
       "      <td>4.5</td>\n",
       "      <td>2009-06-15 17:26:21 UTC</td>\n",
       "      <td>-73.844311</td>\n",
       "      <td>40.721319</td>\n",
       "      <td>-73.841610</td>\n",
       "      <td>40.712278</td>\n",
       "      <td>1</td>\n",
       "    </tr>\n",
       "    <tr>\n",
       "      <td>1</td>\n",
       "      <td>16.9</td>\n",
       "      <td>2010-01-05 16:52:16 UTC</td>\n",
       "      <td>-74.016048</td>\n",
       "      <td>40.711303</td>\n",
       "      <td>-73.979268</td>\n",
       "      <td>40.782004</td>\n",
       "      <td>1</td>\n",
       "    </tr>\n",
       "    <tr>\n",
       "      <td>2</td>\n",
       "      <td>5.7</td>\n",
       "      <td>2011-08-18 00:35:00 UTC</td>\n",
       "      <td>-73.982738</td>\n",
       "      <td>40.761270</td>\n",
       "      <td>-73.991242</td>\n",
       "      <td>40.750562</td>\n",
       "      <td>2</td>\n",
       "    </tr>\n",
       "    <tr>\n",
       "      <td>3</td>\n",
       "      <td>7.7</td>\n",
       "      <td>2012-04-21 04:30:42 UTC</td>\n",
       "      <td>-73.987130</td>\n",
       "      <td>40.733143</td>\n",
       "      <td>-73.991567</td>\n",
       "      <td>40.758092</td>\n",
       "      <td>1</td>\n",
       "    </tr>\n",
       "    <tr>\n",
       "      <td>4</td>\n",
       "      <td>5.3</td>\n",
       "      <td>2010-03-09 07:51:00 UTC</td>\n",
       "      <td>-73.968095</td>\n",
       "      <td>40.768008</td>\n",
       "      <td>-73.956655</td>\n",
       "      <td>40.783762</td>\n",
       "      <td>1</td>\n",
       "    </tr>\n",
       "  </tbody>\n",
       "</table>\n",
       "</div>"
      ],
      "text/plain": [
       "   fare_amount          pickup_datetime  pickup_longitude  pickup_latitude  \\\n",
       "0          4.5  2009-06-15 17:26:21 UTC        -73.844311        40.721319   \n",
       "1         16.9  2010-01-05 16:52:16 UTC        -74.016048        40.711303   \n",
       "2          5.7  2011-08-18 00:35:00 UTC        -73.982738        40.761270   \n",
       "3          7.7  2012-04-21 04:30:42 UTC        -73.987130        40.733143   \n",
       "4          5.3  2010-03-09 07:51:00 UTC        -73.968095        40.768008   \n",
       "\n",
       "   dropoff_longitude  dropoff_latitude passenger_count  \n",
       "0         -73.841610         40.712278               1  \n",
       "1         -73.979268         40.782004               1  \n",
       "2         -73.991242         40.750562               2  \n",
       "3         -73.991567         40.758092               1  \n",
       "4         -73.956655         40.783762               1  "
      ]
     },
     "execution_count": 69,
     "metadata": {},
     "output_type": "execute_result"
    }
   ],
   "source": [
    "train.head()"
   ]
  },
  {
   "cell_type": "code",
   "execution_count": 70,
   "metadata": {},
   "outputs": [],
   "source": [
    "#let's convert pickup_datetime variable into datetime value\n",
    "data=[train,test]\n",
    "for i in data:\n",
    "    i['pickup_datetime']  = pd.to_datetime(i['pickup_datetime'],errors='coerce')"
   ]
  },
  {
   "cell_type": "code",
   "execution_count": 71,
   "metadata": {},
   "outputs": [
    {
     "data": {
      "text/plain": [
       "datetime64[ns, UTC]"
      ]
     },
     "execution_count": 71,
     "metadata": {},
     "output_type": "execute_result"
    }
   ],
   "source": [
    "train['pickup_datetime'].dtype"
   ]
  },
  {
   "cell_type": "code",
   "execution_count": 72,
   "metadata": {},
   "outputs": [
    {
     "data": {
      "text/plain": [
       "datetime64[ns, UTC]"
      ]
     },
     "execution_count": 72,
     "metadata": {},
     "output_type": "execute_result"
    }
   ],
   "source": [
    "test['pickup_datetime'].dtype"
   ]
  },
  {
   "cell_type": "code",
   "execution_count": 73,
   "metadata": {},
   "outputs": [
    {
     "data": {
      "text/html": [
       "<div>\n",
       "<style scoped>\n",
       "    .dataframe tbody tr th:only-of-type {\n",
       "        vertical-align: middle;\n",
       "    }\n",
       "\n",
       "    .dataframe tbody tr th {\n",
       "        vertical-align: top;\n",
       "    }\n",
       "\n",
       "    .dataframe thead th {\n",
       "        text-align: right;\n",
       "    }\n",
       "</style>\n",
       "<table border=\"1\" class=\"dataframe\">\n",
       "  <thead>\n",
       "    <tr style=\"text-align: right;\">\n",
       "      <th></th>\n",
       "      <th>fare_amount</th>\n",
       "      <th>pickup_datetime</th>\n",
       "      <th>pickup_longitude</th>\n",
       "      <th>pickup_latitude</th>\n",
       "      <th>dropoff_longitude</th>\n",
       "      <th>dropoff_latitude</th>\n",
       "      <th>passenger_count</th>\n",
       "    </tr>\n",
       "  </thead>\n",
       "  <tbody>\n",
       "    <tr>\n",
       "      <td>0</td>\n",
       "      <td>4.5</td>\n",
       "      <td>2009-06-15 17:26:21+00:00</td>\n",
       "      <td>-73.844311</td>\n",
       "      <td>40.721319</td>\n",
       "      <td>-73.841610</td>\n",
       "      <td>40.712278</td>\n",
       "      <td>1</td>\n",
       "    </tr>\n",
       "    <tr>\n",
       "      <td>1</td>\n",
       "      <td>16.9</td>\n",
       "      <td>2010-01-05 16:52:16+00:00</td>\n",
       "      <td>-74.016048</td>\n",
       "      <td>40.711303</td>\n",
       "      <td>-73.979268</td>\n",
       "      <td>40.782004</td>\n",
       "      <td>1</td>\n",
       "    </tr>\n",
       "    <tr>\n",
       "      <td>2</td>\n",
       "      <td>5.7</td>\n",
       "      <td>2011-08-18 00:35:00+00:00</td>\n",
       "      <td>-73.982738</td>\n",
       "      <td>40.761270</td>\n",
       "      <td>-73.991242</td>\n",
       "      <td>40.750562</td>\n",
       "      <td>2</td>\n",
       "    </tr>\n",
       "    <tr>\n",
       "      <td>3</td>\n",
       "      <td>7.7</td>\n",
       "      <td>2012-04-21 04:30:42+00:00</td>\n",
       "      <td>-73.987130</td>\n",
       "      <td>40.733143</td>\n",
       "      <td>-73.991567</td>\n",
       "      <td>40.758092</td>\n",
       "      <td>1</td>\n",
       "    </tr>\n",
       "    <tr>\n",
       "      <td>4</td>\n",
       "      <td>5.3</td>\n",
       "      <td>2010-03-09 07:51:00+00:00</td>\n",
       "      <td>-73.968095</td>\n",
       "      <td>40.768008</td>\n",
       "      <td>-73.956655</td>\n",
       "      <td>40.783762</td>\n",
       "      <td>1</td>\n",
       "    </tr>\n",
       "  </tbody>\n",
       "</table>\n",
       "</div>"
      ],
      "text/plain": [
       "   fare_amount           pickup_datetime  pickup_longitude  pickup_latitude  \\\n",
       "0          4.5 2009-06-15 17:26:21+00:00        -73.844311        40.721319   \n",
       "1         16.9 2010-01-05 16:52:16+00:00        -74.016048        40.711303   \n",
       "2          5.7 2011-08-18 00:35:00+00:00        -73.982738        40.761270   \n",
       "3          7.7 2012-04-21 04:30:42+00:00        -73.987130        40.733143   \n",
       "4          5.3 2010-03-09 07:51:00+00:00        -73.968095        40.768008   \n",
       "\n",
       "   dropoff_longitude  dropoff_latitude passenger_count  \n",
       "0         -73.841610         40.712278               1  \n",
       "1         -73.979268         40.782004               1  \n",
       "2         -73.991242         40.750562               2  \n",
       "3         -73.991567         40.758092               1  \n",
       "4         -73.956655         40.783762               1  "
      ]
     },
     "execution_count": 73,
     "metadata": {},
     "output_type": "execute_result"
    }
   ],
   "source": [
    "train.head()"
   ]
  },
  {
   "cell_type": "code",
   "execution_count": 74,
   "metadata": {},
   "outputs": [
    {
     "data": {
      "text/plain": [
       "fare_amount          0\n",
       "pickup_datetime      1\n",
       "pickup_longitude     0\n",
       "pickup_latitude      0\n",
       "dropoff_longitude    0\n",
       "dropoff_latitude     0\n",
       "passenger_count      0\n",
       "dtype: int64"
      ]
     },
     "execution_count": 74,
     "metadata": {},
     "output_type": "execute_result"
    }
   ],
   "source": [
    "train.isnull().sum()"
   ]
  },
  {
   "cell_type": "markdown",
   "metadata": {},
   "source": [
    "After conversion the type of pickup_datetime. One missing value has been observed in pickup_datetime column. Only one missing value is observed so we can easily drop it"
   ]
  },
  {
   "cell_type": "code",
   "execution_count": 75,
   "metadata": {},
   "outputs": [
    {
     "data": {
      "text/html": [
       "<div>\n",
       "<style scoped>\n",
       "    .dataframe tbody tr th:only-of-type {\n",
       "        vertical-align: middle;\n",
       "    }\n",
       "\n",
       "    .dataframe tbody tr th {\n",
       "        vertical-align: top;\n",
       "    }\n",
       "\n",
       "    .dataframe thead th {\n",
       "        text-align: right;\n",
       "    }\n",
       "</style>\n",
       "<table border=\"1\" class=\"dataframe\">\n",
       "  <thead>\n",
       "    <tr style=\"text-align: right;\">\n",
       "      <th></th>\n",
       "      <th>fare_amount</th>\n",
       "      <th>pickup_datetime</th>\n",
       "      <th>pickup_longitude</th>\n",
       "      <th>pickup_latitude</th>\n",
       "      <th>dropoff_longitude</th>\n",
       "      <th>dropoff_latitude</th>\n",
       "      <th>passenger_count</th>\n",
       "    </tr>\n",
       "  </thead>\n",
       "  <tbody>\n",
       "    <tr>\n",
       "      <td>1327</td>\n",
       "      <td>11.5</td>\n",
       "      <td>NaT</td>\n",
       "      <td>-73.981947</td>\n",
       "      <td>40.7282</td>\n",
       "      <td>-73.988582</td>\n",
       "      <td>40.759202</td>\n",
       "      <td>1</td>\n",
       "    </tr>\n",
       "  </tbody>\n",
       "</table>\n",
       "</div>"
      ],
      "text/plain": [
       "      fare_amount pickup_datetime  pickup_longitude  pickup_latitude  \\\n",
       "1327         11.5             NaT        -73.981947          40.7282   \n",
       "\n",
       "      dropoff_longitude  dropoff_latitude passenger_count  \n",
       "1327         -73.988582         40.759202               1  "
      ]
     },
     "execution_count": 75,
     "metadata": {},
     "output_type": "execute_result"
    }
   ],
   "source": [
    "train[train['pickup_datetime'].isnull()]"
   ]
  },
  {
   "cell_type": "code",
   "execution_count": 76,
   "metadata": {},
   "outputs": [],
   "source": [
    "#Dropping missing value if any of whole train dataset.(specifically 1 missing value present in pickup_datetime column)\n",
    "train=train.dropna()"
   ]
  },
  {
   "cell_type": "code",
   "execution_count": 77,
   "metadata": {},
   "outputs": [
    {
     "data": {
      "text/plain": [
       "fare_amount          0\n",
       "pickup_datetime      0\n",
       "pickup_longitude     0\n",
       "pickup_latitude      0\n",
       "dropoff_longitude    0\n",
       "dropoff_latitude     0\n",
       "passenger_count      0\n",
       "dtype: int64"
      ]
     },
     "execution_count": 77,
     "metadata": {},
     "output_type": "execute_result"
    }
   ],
   "source": [
    "train.isnull().sum()"
   ]
  },
  {
   "cell_type": "markdown",
   "metadata": {},
   "source": [
    "Now our data is free from outliers and missing value. Its time to apply some feature engineering on piskup_datetime column"
   ]
  },
  {
   "cell_type": "code",
   "execution_count": 78,
   "metadata": {},
   "outputs": [],
   "source": [
    "# function to fetch year,month,day_of_week and hour\n",
    "\n",
    "data=[train,test]\n",
    "for i in data:\n",
    "    i['year']=i['pickup_datetime'].apply(lambda row:row.year)\n",
    "    i['month']=i['pickup_datetime'].apply(lambda row:row.month)\n",
    "    i['day_of_week']=i['pickup_datetime'].apply(lambda row:row.dayofweek)\n",
    "    i['hour']=i['pickup_datetime'].apply(lambda row:row.hour)\n",
    "    "
   ]
  },
  {
   "cell_type": "code",
   "execution_count": 79,
   "metadata": {},
   "outputs": [
    {
     "data": {
      "text/plain": [
       "<matplotlib.axes._subplots.AxesSubplot at 0x1fa60a49308>"
      ]
     },
     "execution_count": 79,
     "metadata": {},
     "output_type": "execute_result"
    },
    {
     "data": {
      "image/png": "[encoded data removed]",
      "text/plain": [
       "<Figure size 720x360 with 1 Axes>"
      ]
     },
     "metadata": {
      "needs_background": "light"
     },
     "output_type": "display_data"
    }
   ],
   "source": [
    "plt.figure(figsize=(10,5))\n",
    "sns.countplot(train['year'])"
   ]
  },
  {
   "cell_type": "code",
   "execution_count": 80,
   "metadata": {},
   "outputs": [
    {
     "data": {
      "text/plain": [
       "<matplotlib.axes._subplots.AxesSubplot at 0x1fa609fc488>"
      ]
     },
     "execution_count": 80,
     "metadata": {},
     "output_type": "execute_result"
    },
    {
     "data": {
      "image/png": "[encoded data removed]",
      "text/plain": [
       "<Figure size 720x360 with 1 Axes>"
      ]
     },
     "metadata": {
      "needs_background": "light"
     },
     "output_type": "display_data"
    }
   ],
   "source": [
    "plt.figure(figsize=(10,5))\n",
    "sns.countplot(train['month'])"
   ]
  },
  {
   "cell_type": "code",
   "execution_count": 81,
   "metadata": {},
   "outputs": [
    {
     "data": {
      "text/plain": [
       "<matplotlib.axes._subplots.AxesSubplot at 0x1fa609fcc88>"
      ]
     },
     "execution_count": 81,
     "metadata": {},
     "output_type": "execute_result"
    },
    {
     "data": {
      "image/png": "[encoded data removed]",
      "text/plain": [
       "<Figure size 720x360 with 1 Axes>"
      ]
     },
     "metadata": {
      "needs_background": "light"
     },
     "output_type": "display_data"
    }
   ],
   "source": [
    "plt.figure(figsize=(10,5))\n",
    "sns.countplot(train['day_of_week'])"
   ]
  },
  {
   "cell_type": "code",
   "execution_count": 82,
   "metadata": {},
   "outputs": [
    {
     "data": {
      "text/plain": [
       "<matplotlib.axes._subplots.AxesSubplot at 0x1fa60b40788>"
      ]
     },
     "execution_count": 82,
     "metadata": {},
     "output_type": "execute_result"
    },
    {
     "data": {
      "image/png": "[encoded data removed]",
      "text/plain": [
       "<Figure size 720x360 with 1 Axes>"
      ]
     },
     "metadata": {
      "needs_background": "light"
     },
     "output_type": "display_data"
    }
   ],
   "source": [
    "plt.figure(figsize=(10,5))\n",
    "sns.countplot(train['hour'])"
   ]
  },
  {
   "cell_type": "markdown",
   "metadata": {},
   "source": [
    "After Data Visualization we can extract more features from month,year,hour and day_of_week columns.\n",
    "\n",
    "From Month column we can extract various seasons such as spring,summer,rainy and winter\n",
    "\n",
    "From Hour column we can extract various time intervals such as Morning,Afternoon,evening,Late_night,Early_morning\n",
    "\n",
    "From day_of_week column we can extract Weekday and Weekend."
   ]
  },
  {
   "cell_type": "code",
   "execution_count": 83,
   "metadata": {},
   "outputs": [],
   "source": [
    "def timeinterval(x):\n",
    "    if(x>=5) and (x<=11):\n",
    "        return 'Morning'\n",
    "    elif (x>=12) and (x<=16):\n",
    "        return 'Afternoon'\n",
    "    elif (x>=17) and (x<=20):\n",
    "        return 'Evening'\n",
    "    elif (x>=21) and (x<=23):\n",
    "        return 'LateNight'\n",
    "    elif (x>=0) and (x<=4):\n",
    "        return 'EarlyMorning'"
   ]
  },
  {
   "cell_type": "code",
   "execution_count": 84,
   "metadata": {},
   "outputs": [],
   "source": [
    "train['TimeInterval'] = train['hour'].apply(timeinterval)\n",
    "test['TimeInterval'] = test['hour'].apply(timeinterval)"
   ]
  },
  {
   "cell_type": "code",
   "execution_count": 85,
   "metadata": {},
   "outputs": [],
   "source": [
    "def seasons(x):\n",
    "    if (x>=3) and (x<=5):\n",
    "        return 'Spring'\n",
    "    elif (x>=6) and (x<=8):\n",
    "        return 'Summer'\n",
    "    elif (x>=9) and (x<=11):\n",
    "        return 'Rainy'\n",
    "    elif (x>=12)|(x<=2):\n",
    "        return 'Winter'"
   ]
  },
  {
   "cell_type": "code",
   "execution_count": 86,
   "metadata": {},
   "outputs": [],
   "source": [
    "train['Seasons']=train['month'].apply(seasons)\n",
    "test['Seasons']=test['month'].apply(seasons)"
   ]
  },
  {
   "cell_type": "code",
   "execution_count": 87,
   "metadata": {},
   "outputs": [],
   "source": [
    "def WeekendWeekday(x):\n",
    "    if (x>=0) and (x<=4):\n",
    "        return 'Weekday'\n",
    "    elif(x>=5) and (x<=6):\n",
    "        return 'Weekend'"
   ]
  },
  {
   "cell_type": "code",
   "execution_count": 88,
   "metadata": {},
   "outputs": [],
   "source": [
    "train['WeekendWeekday']=train['day_of_week'].apply(WeekendWeekday)\n",
    "test['WeekendWeekday']=test['day_of_week'].apply(WeekendWeekday)"
   ]
  },
  {
   "cell_type": "code",
   "execution_count": 89,
   "metadata": {},
   "outputs": [
    {
     "data": {
      "text/html": [
       "<div>\n",
       "<style scoped>\n",
       "    .dataframe tbody tr th:only-of-type {\n",
       "        vertical-align: middle;\n",
       "    }\n",
       "\n",
       "    .dataframe tbody tr th {\n",
       "        vertical-align: top;\n",
       "    }\n",
       "\n",
       "    .dataframe thead th {\n",
       "        text-align: right;\n",
       "    }\n",
       "</style>\n",
       "<table border=\"1\" class=\"dataframe\">\n",
       "  <thead>\n",
       "    <tr style=\"text-align: right;\">\n",
       "      <th></th>\n",
       "      <th>fare_amount</th>\n",
       "      <th>pickup_datetime</th>\n",
       "      <th>pickup_longitude</th>\n",
       "      <th>pickup_latitude</th>\n",
       "      <th>dropoff_longitude</th>\n",
       "      <th>dropoff_latitude</th>\n",
       "      <th>passenger_count</th>\n",
       "      <th>year</th>\n",
       "      <th>month</th>\n",
       "      <th>day_of_week</th>\n",
       "      <th>hour</th>\n",
       "      <th>TimeInterval</th>\n",
       "      <th>Seasons</th>\n",
       "      <th>WeekendWeekday</th>\n",
       "    </tr>\n",
       "  </thead>\n",
       "  <tbody>\n",
       "    <tr>\n",
       "      <td>0</td>\n",
       "      <td>4.5</td>\n",
       "      <td>2009-06-15 17:26:21+00:00</td>\n",
       "      <td>-73.844311</td>\n",
       "      <td>40.721319</td>\n",
       "      <td>-73.841610</td>\n",
       "      <td>40.712278</td>\n",
       "      <td>1</td>\n",
       "      <td>2009</td>\n",
       "      <td>6</td>\n",
       "      <td>0</td>\n",
       "      <td>17</td>\n",
       "      <td>Evening</td>\n",
       "      <td>Summer</td>\n",
       "      <td>Weekday</td>\n",
       "    </tr>\n",
       "    <tr>\n",
       "      <td>1</td>\n",
       "      <td>16.9</td>\n",
       "      <td>2010-01-05 16:52:16+00:00</td>\n",
       "      <td>-74.016048</td>\n",
       "      <td>40.711303</td>\n",
       "      <td>-73.979268</td>\n",
       "      <td>40.782004</td>\n",
       "      <td>1</td>\n",
       "      <td>2010</td>\n",
       "      <td>1</td>\n",
       "      <td>1</td>\n",
       "      <td>16</td>\n",
       "      <td>Afternoon</td>\n",
       "      <td>Winter</td>\n",
       "      <td>Weekday</td>\n",
       "    </tr>\n",
       "    <tr>\n",
       "      <td>2</td>\n",
       "      <td>5.7</td>\n",
       "      <td>2011-08-18 00:35:00+00:00</td>\n",
       "      <td>-73.982738</td>\n",
       "      <td>40.761270</td>\n",
       "      <td>-73.991242</td>\n",
       "      <td>40.750562</td>\n",
       "      <td>2</td>\n",
       "      <td>2011</td>\n",
       "      <td>8</td>\n",
       "      <td>3</td>\n",
       "      <td>0</td>\n",
       "      <td>EarlyMorning</td>\n",
       "      <td>Summer</td>\n",
       "      <td>Weekday</td>\n",
       "    </tr>\n",
       "    <tr>\n",
       "      <td>3</td>\n",
       "      <td>7.7</td>\n",
       "      <td>2012-04-21 04:30:42+00:00</td>\n",
       "      <td>-73.987130</td>\n",
       "      <td>40.733143</td>\n",
       "      <td>-73.991567</td>\n",
       "      <td>40.758092</td>\n",
       "      <td>1</td>\n",
       "      <td>2012</td>\n",
       "      <td>4</td>\n",
       "      <td>5</td>\n",
       "      <td>4</td>\n",
       "      <td>EarlyMorning</td>\n",
       "      <td>Spring</td>\n",
       "      <td>Weekend</td>\n",
       "    </tr>\n",
       "    <tr>\n",
       "      <td>4</td>\n",
       "      <td>5.3</td>\n",
       "      <td>2010-03-09 07:51:00+00:00</td>\n",
       "      <td>-73.968095</td>\n",
       "      <td>40.768008</td>\n",
       "      <td>-73.956655</td>\n",
       "      <td>40.783762</td>\n",
       "      <td>1</td>\n",
       "      <td>2010</td>\n",
       "      <td>3</td>\n",
       "      <td>1</td>\n",
       "      <td>7</td>\n",
       "      <td>Morning</td>\n",
       "      <td>Spring</td>\n",
       "      <td>Weekday</td>\n",
       "    </tr>\n",
       "    <tr>\n",
       "      <td>...</td>\n",
       "      <td>...</td>\n",
       "      <td>...</td>\n",
       "      <td>...</td>\n",
       "      <td>...</td>\n",
       "      <td>...</td>\n",
       "      <td>...</td>\n",
       "      <td>...</td>\n",
       "      <td>...</td>\n",
       "      <td>...</td>\n",
       "      <td>...</td>\n",
       "      <td>...</td>\n",
       "      <td>...</td>\n",
       "      <td>...</td>\n",
       "      <td>...</td>\n",
       "    </tr>\n",
       "    <tr>\n",
       "      <td>16062</td>\n",
       "      <td>6.5</td>\n",
       "      <td>2014-12-12 07:41:00+00:00</td>\n",
       "      <td>-74.008820</td>\n",
       "      <td>40.718757</td>\n",
       "      <td>-73.998865</td>\n",
       "      <td>40.719987</td>\n",
       "      <td>1</td>\n",
       "      <td>2014</td>\n",
       "      <td>12</td>\n",
       "      <td>4</td>\n",
       "      <td>7</td>\n",
       "      <td>Morning</td>\n",
       "      <td>Winter</td>\n",
       "      <td>Weekday</td>\n",
       "    </tr>\n",
       "    <tr>\n",
       "      <td>16063</td>\n",
       "      <td>16.1</td>\n",
       "      <td>2009-07-13 07:58:00+00:00</td>\n",
       "      <td>-73.981310</td>\n",
       "      <td>40.781695</td>\n",
       "      <td>-74.014392</td>\n",
       "      <td>40.715527</td>\n",
       "      <td>2</td>\n",
       "      <td>2009</td>\n",
       "      <td>7</td>\n",
       "      <td>0</td>\n",
       "      <td>7</td>\n",
       "      <td>Morning</td>\n",
       "      <td>Summer</td>\n",
       "      <td>Weekday</td>\n",
       "    </tr>\n",
       "    <tr>\n",
       "      <td>16064</td>\n",
       "      <td>8.5</td>\n",
       "      <td>2009-11-11 11:19:07+00:00</td>\n",
       "      <td>-73.972507</td>\n",
       "      <td>40.753417</td>\n",
       "      <td>-73.979577</td>\n",
       "      <td>40.765495</td>\n",
       "      <td>1</td>\n",
       "      <td>2009</td>\n",
       "      <td>11</td>\n",
       "      <td>2</td>\n",
       "      <td>11</td>\n",
       "      <td>Morning</td>\n",
       "      <td>Rainy</td>\n",
       "      <td>Weekday</td>\n",
       "    </tr>\n",
       "    <tr>\n",
       "      <td>16065</td>\n",
       "      <td>8.1</td>\n",
       "      <td>2010-05-11 23:53:00+00:00</td>\n",
       "      <td>-73.957027</td>\n",
       "      <td>40.765945</td>\n",
       "      <td>-73.981983</td>\n",
       "      <td>40.779560</td>\n",
       "      <td>1</td>\n",
       "      <td>2010</td>\n",
       "      <td>5</td>\n",
       "      <td>1</td>\n",
       "      <td>23</td>\n",
       "      <td>LateNight</td>\n",
       "      <td>Spring</td>\n",
       "      <td>Weekday</td>\n",
       "    </tr>\n",
       "    <tr>\n",
       "      <td>16066</td>\n",
       "      <td>8.5</td>\n",
       "      <td>2011-12-14 06:24:33+00:00</td>\n",
       "      <td>-74.002111</td>\n",
       "      <td>40.729755</td>\n",
       "      <td>-73.983877</td>\n",
       "      <td>40.761975</td>\n",
       "      <td>1</td>\n",
       "      <td>2011</td>\n",
       "      <td>12</td>\n",
       "      <td>2</td>\n",
       "      <td>6</td>\n",
       "      <td>Morning</td>\n",
       "      <td>Winter</td>\n",
       "      <td>Weekday</td>\n",
       "    </tr>\n",
       "  </tbody>\n",
       "</table>\n",
       "<p>16066 rows × 14 columns</p>\n",
       "</div>"
      ],
      "text/plain": [
       "       fare_amount           pickup_datetime  pickup_longitude  \\\n",
       "0              4.5 2009-06-15 17:26:21+00:00        -73.844311   \n",
       "1             16.9 2010-01-05 16:52:16+00:00        -74.016048   \n",
       "2              5.7 2011-08-18 00:35:00+00:00        -73.982738   \n",
       "3              7.7 2012-04-21 04:30:42+00:00        -73.987130   \n",
       "4              5.3 2010-03-09 07:51:00+00:00        -73.968095   \n",
       "...            ...                       ...               ...   \n",
       "16062          6.5 2014-12-12 07:41:00+00:00        -74.008820   \n",
       "16063         16.1 2009-07-13 07:58:00+00:00        -73.981310   \n",
       "16064          8.5 2009-11-11 11:19:07+00:00        -73.972507   \n",
       "16065          8.1 2010-05-11 23:53:00+00:00        -73.957027   \n",
       "16066          8.5 2011-12-14 06:24:33+00:00        -74.002111   \n",
       "\n",
       "       pickup_latitude  dropoff_longitude  dropoff_latitude passenger_count  \\\n",
       "0            40.721319         -73.841610         40.712278               1   \n",
       "1            40.711303         -73.979268         40.782004               1   \n",
       "2            40.761270         -73.991242         40.750562               2   \n",
       "3            40.733143         -73.991567         40.758092               1   \n",
       "4            40.768008         -73.956655         40.783762               1   \n",
       "...                ...                ...               ...             ...   \n",
       "16062        40.718757         -73.998865         40.719987               1   \n",
       "16063        40.781695         -74.014392         40.715527               2   \n",
       "16064        40.753417         -73.979577         40.765495               1   \n",
       "16065        40.765945         -73.981983         40.779560               1   \n",
       "16066        40.729755         -73.983877         40.761975               1   \n",
       "\n",
       "       year  month  day_of_week  hour  TimeInterval Seasons WeekendWeekday  \n",
       "0      2009      6            0    17       Evening  Summer        Weekday  \n",
       "1      2010      1            1    16     Afternoon  Winter        Weekday  \n",
       "2      2011      8            3     0  EarlyMorning  Summer        Weekday  \n",
       "3      2012      4            5     4  EarlyMorning  Spring        Weekend  \n",
       "4      2010      3            1     7       Morning  Spring        Weekday  \n",
       "...     ...    ...          ...   ...           ...     ...            ...  \n",
       "16062  2014     12            4     7       Morning  Winter        Weekday  \n",
       "16063  2009      7            0     7       Morning  Summer        Weekday  \n",
       "16064  2009     11            2    11       Morning   Rainy        Weekday  \n",
       "16065  2010      5            1    23     LateNight  Spring        Weekday  \n",
       "16066  2011     12            2     6       Morning  Winter        Weekday  \n",
       "\n",
       "[16066 rows x 14 columns]"
      ]
     },
     "execution_count": 89,
     "metadata": {},
     "output_type": "execute_result"
    }
   ],
   "source": [
    "train"
   ]
  },
  {
   "cell_type": "code",
   "execution_count": 90,
   "metadata": {},
   "outputs": [
    {
     "data": {
      "text/plain": [
       "fare_amount          0\n",
       "pickup_datetime      0\n",
       "pickup_longitude     0\n",
       "pickup_latitude      0\n",
       "dropoff_longitude    0\n",
       "dropoff_latitude     0\n",
       "passenger_count      0\n",
       "year                 0\n",
       "month                0\n",
       "day_of_week          0\n",
       "hour                 0\n",
       "TimeInterval         0\n",
       "Seasons              0\n",
       "WeekendWeekday       0\n",
       "dtype: int64"
      ]
     },
     "execution_count": 90,
     "metadata": {},
     "output_type": "execute_result"
    }
   ],
   "source": [
    "train.isnull().sum()"
   ]
  },
  {
   "cell_type": "code",
   "execution_count": 91,
   "metadata": {},
   "outputs": [
    {
     "data": {
      "text/html": [
       "<div>\n",
       "<style scoped>\n",
       "    .dataframe tbody tr th:only-of-type {\n",
       "        vertical-align: middle;\n",
       "    }\n",
       "\n",
       "    .dataframe tbody tr th {\n",
       "        vertical-align: top;\n",
       "    }\n",
       "\n",
       "    .dataframe thead th {\n",
       "        text-align: right;\n",
       "    }\n",
       "</style>\n",
       "<table border=\"1\" class=\"dataframe\">\n",
       "  <thead>\n",
       "    <tr style=\"text-align: right;\">\n",
       "      <th></th>\n",
       "      <th>pickup_datetime</th>\n",
       "      <th>pickup_longitude</th>\n",
       "      <th>pickup_latitude</th>\n",
       "      <th>dropoff_longitude</th>\n",
       "      <th>dropoff_latitude</th>\n",
       "      <th>passenger_count</th>\n",
       "      <th>year</th>\n",
       "      <th>month</th>\n",
       "      <th>day_of_week</th>\n",
       "      <th>hour</th>\n",
       "      <th>TimeInterval</th>\n",
       "      <th>Seasons</th>\n",
       "      <th>WeekendWeekday</th>\n",
       "    </tr>\n",
       "  </thead>\n",
       "  <tbody>\n",
       "    <tr>\n",
       "      <td>0</td>\n",
       "      <td>2015-01-27 13:08:24+00:00</td>\n",
       "      <td>-73.973320</td>\n",
       "      <td>40.763805</td>\n",
       "      <td>-73.981430</td>\n",
       "      <td>40.743835</td>\n",
       "      <td>1</td>\n",
       "      <td>2015</td>\n",
       "      <td>1</td>\n",
       "      <td>1</td>\n",
       "      <td>13</td>\n",
       "      <td>Afternoon</td>\n",
       "      <td>Winter</td>\n",
       "      <td>Weekday</td>\n",
       "    </tr>\n",
       "    <tr>\n",
       "      <td>1</td>\n",
       "      <td>2015-01-27 13:08:24+00:00</td>\n",
       "      <td>-73.986862</td>\n",
       "      <td>40.719383</td>\n",
       "      <td>-73.998886</td>\n",
       "      <td>40.739201</td>\n",
       "      <td>1</td>\n",
       "      <td>2015</td>\n",
       "      <td>1</td>\n",
       "      <td>1</td>\n",
       "      <td>13</td>\n",
       "      <td>Afternoon</td>\n",
       "      <td>Winter</td>\n",
       "      <td>Weekday</td>\n",
       "    </tr>\n",
       "    <tr>\n",
       "      <td>2</td>\n",
       "      <td>2011-10-08 11:53:44+00:00</td>\n",
       "      <td>-73.982524</td>\n",
       "      <td>40.751260</td>\n",
       "      <td>-73.979654</td>\n",
       "      <td>40.746139</td>\n",
       "      <td>1</td>\n",
       "      <td>2011</td>\n",
       "      <td>10</td>\n",
       "      <td>5</td>\n",
       "      <td>11</td>\n",
       "      <td>Morning</td>\n",
       "      <td>Rainy</td>\n",
       "      <td>Weekend</td>\n",
       "    </tr>\n",
       "    <tr>\n",
       "      <td>3</td>\n",
       "      <td>2012-12-01 21:12:12+00:00</td>\n",
       "      <td>-73.981160</td>\n",
       "      <td>40.767807</td>\n",
       "      <td>-73.990448</td>\n",
       "      <td>40.751635</td>\n",
       "      <td>1</td>\n",
       "      <td>2012</td>\n",
       "      <td>12</td>\n",
       "      <td>5</td>\n",
       "      <td>21</td>\n",
       "      <td>LateNight</td>\n",
       "      <td>Winter</td>\n",
       "      <td>Weekend</td>\n",
       "    </tr>\n",
       "    <tr>\n",
       "      <td>4</td>\n",
       "      <td>2012-12-01 21:12:12+00:00</td>\n",
       "      <td>-73.966046</td>\n",
       "      <td>40.789775</td>\n",
       "      <td>-73.988565</td>\n",
       "      <td>40.744427</td>\n",
       "      <td>1</td>\n",
       "      <td>2012</td>\n",
       "      <td>12</td>\n",
       "      <td>5</td>\n",
       "      <td>21</td>\n",
       "      <td>LateNight</td>\n",
       "      <td>Winter</td>\n",
       "      <td>Weekend</td>\n",
       "    </tr>\n",
       "    <tr>\n",
       "      <td>...</td>\n",
       "      <td>...</td>\n",
       "      <td>...</td>\n",
       "      <td>...</td>\n",
       "      <td>...</td>\n",
       "      <td>...</td>\n",
       "      <td>...</td>\n",
       "      <td>...</td>\n",
       "      <td>...</td>\n",
       "      <td>...</td>\n",
       "      <td>...</td>\n",
       "      <td>...</td>\n",
       "      <td>...</td>\n",
       "      <td>...</td>\n",
       "    </tr>\n",
       "    <tr>\n",
       "      <td>9909</td>\n",
       "      <td>2015-05-10 12:37:51+00:00</td>\n",
       "      <td>-73.968124</td>\n",
       "      <td>40.796997</td>\n",
       "      <td>-73.955643</td>\n",
       "      <td>40.780388</td>\n",
       "      <td>6</td>\n",
       "      <td>2015</td>\n",
       "      <td>5</td>\n",
       "      <td>6</td>\n",
       "      <td>12</td>\n",
       "      <td>Afternoon</td>\n",
       "      <td>Spring</td>\n",
       "      <td>Weekend</td>\n",
       "    </tr>\n",
       "    <tr>\n",
       "      <td>9910</td>\n",
       "      <td>2015-01-12 17:05:51+00:00</td>\n",
       "      <td>-73.945511</td>\n",
       "      <td>40.803600</td>\n",
       "      <td>-73.960213</td>\n",
       "      <td>40.776371</td>\n",
       "      <td>6</td>\n",
       "      <td>2015</td>\n",
       "      <td>1</td>\n",
       "      <td>0</td>\n",
       "      <td>17</td>\n",
       "      <td>Evening</td>\n",
       "      <td>Winter</td>\n",
       "      <td>Weekday</td>\n",
       "    </tr>\n",
       "    <tr>\n",
       "      <td>9911</td>\n",
       "      <td>2015-04-19 20:44:15+00:00</td>\n",
       "      <td>-73.991600</td>\n",
       "      <td>40.726608</td>\n",
       "      <td>-73.789742</td>\n",
       "      <td>40.647011</td>\n",
       "      <td>6</td>\n",
       "      <td>2015</td>\n",
       "      <td>4</td>\n",
       "      <td>6</td>\n",
       "      <td>20</td>\n",
       "      <td>Evening</td>\n",
       "      <td>Spring</td>\n",
       "      <td>Weekend</td>\n",
       "    </tr>\n",
       "    <tr>\n",
       "      <td>9912</td>\n",
       "      <td>2015-01-31 01:05:19+00:00</td>\n",
       "      <td>-73.985573</td>\n",
       "      <td>40.735432</td>\n",
       "      <td>-73.939178</td>\n",
       "      <td>40.801731</td>\n",
       "      <td>6</td>\n",
       "      <td>2015</td>\n",
       "      <td>1</td>\n",
       "      <td>5</td>\n",
       "      <td>1</td>\n",
       "      <td>EarlyMorning</td>\n",
       "      <td>Winter</td>\n",
       "      <td>Weekend</td>\n",
       "    </tr>\n",
       "    <tr>\n",
       "      <td>9913</td>\n",
       "      <td>2015-01-18 14:06:23+00:00</td>\n",
       "      <td>-73.988022</td>\n",
       "      <td>40.754070</td>\n",
       "      <td>-74.000282</td>\n",
       "      <td>40.759220</td>\n",
       "      <td>6</td>\n",
       "      <td>2015</td>\n",
       "      <td>1</td>\n",
       "      <td>6</td>\n",
       "      <td>14</td>\n",
       "      <td>Afternoon</td>\n",
       "      <td>Winter</td>\n",
       "      <td>Weekend</td>\n",
       "    </tr>\n",
       "  </tbody>\n",
       "</table>\n",
       "<p>9914 rows × 13 columns</p>\n",
       "</div>"
      ],
      "text/plain": [
       "               pickup_datetime  pickup_longitude  pickup_latitude  \\\n",
       "0    2015-01-27 13:08:24+00:00        -73.973320        40.763805   \n",
       "1    2015-01-27 13:08:24+00:00        -73.986862        40.719383   \n",
       "2    2011-10-08 11:53:44+00:00        -73.982524        40.751260   \n",
       "3    2012-12-01 21:12:12+00:00        -73.981160        40.767807   \n",
       "4    2012-12-01 21:12:12+00:00        -73.966046        40.789775   \n",
       "...                        ...               ...              ...   \n",
       "9909 2015-05-10 12:37:51+00:00        -73.968124        40.796997   \n",
       "9910 2015-01-12 17:05:51+00:00        -73.945511        40.803600   \n",
       "9911 2015-04-19 20:44:15+00:00        -73.991600        40.726608   \n",
       "9912 2015-01-31 01:05:19+00:00        -73.985573        40.735432   \n",
       "9913 2015-01-18 14:06:23+00:00        -73.988022        40.754070   \n",
       "\n",
       "      dropoff_longitude  dropoff_latitude  passenger_count  year  month  \\\n",
       "0            -73.981430         40.743835                1  2015      1   \n",
       "1            -73.998886         40.739201                1  2015      1   \n",
       "2            -73.979654         40.746139                1  2011     10   \n",
       "3            -73.990448         40.751635                1  2012     12   \n",
       "4            -73.988565         40.744427                1  2012     12   \n",
       "...                 ...               ...              ...   ...    ...   \n",
       "9909         -73.955643         40.780388                6  2015      5   \n",
       "9910         -73.960213         40.776371                6  2015      1   \n",
       "9911         -73.789742         40.647011                6  2015      4   \n",
       "9912         -73.939178         40.801731                6  2015      1   \n",
       "9913         -74.000282         40.759220                6  2015      1   \n",
       "\n",
       "      day_of_week  hour  TimeInterval Seasons WeekendWeekday  \n",
       "0               1    13     Afternoon  Winter        Weekday  \n",
       "1               1    13     Afternoon  Winter        Weekday  \n",
       "2               5    11       Morning   Rainy        Weekend  \n",
       "3               5    21     LateNight  Winter        Weekend  \n",
       "4               5    21     LateNight  Winter        Weekend  \n",
       "...           ...   ...           ...     ...            ...  \n",
       "9909            6    12     Afternoon  Spring        Weekend  \n",
       "9910            0    17       Evening  Winter        Weekday  \n",
       "9911            6    20       Evening  Spring        Weekend  \n",
       "9912            5     1  EarlyMorning  Winter        Weekend  \n",
       "9913            6    14     Afternoon  Winter        Weekend  \n",
       "\n",
       "[9914 rows x 13 columns]"
      ]
     },
     "execution_count": 91,
     "metadata": {},
     "output_type": "execute_result"
    }
   ],
   "source": [
    "test"
   ]
  },
  {
   "cell_type": "markdown",
   "metadata": {},
   "source": [
    "#### 2. Feature Engineering for Passenger_count Variable"
   ]
  },
  {
   "cell_type": "markdown",
   "metadata": {},
   "source": [
    "As passenger_count variable is categorical, during model development it may be problematic to provide categorical variable as input.\n",
    "\n",
    "In order to overcome this flaw we will do One-Hot Encoding.\n",
    "(One Hot Encoder is used to convert categorical variable into numerical)"
   ]
  },
  {
   "cell_type": "code",
   "execution_count": 92,
   "metadata": {},
   "outputs": [
    {
     "data": {
      "text/plain": [
       "count     16066\n",
       "unique        6\n",
       "top           1\n",
       "freq      11392\n",
       "Name: passenger_count, dtype: int64"
      ]
     },
     "execution_count": 92,
     "metadata": {},
     "output_type": "execute_result"
    }
   ],
   "source": [
    "train['passenger_count'].describe()"
   ]
  },
  {
   "cell_type": "code",
   "execution_count": 93,
   "metadata": {},
   "outputs": [],
   "source": [
    "# Creating dummines for categorical variables. Extracting the features from those dummies and converting them into new columns.\n",
    "temp=pd.get_dummies(train['passenger_count'],prefix='passenger_count')\n",
    "train=train.join(temp)\n",
    "temp=pd.get_dummies(test['passenger_count'],prefix='passenger_count')\n",
    "test=test.join(temp)\n",
    "\n",
    "temp=pd.get_dummies(train['TimeInterval'],prefix='TimeInterval')\n",
    "train=train.join(temp)\n",
    "temp=pd.get_dummies(test['TimeInterval'],prefix='TimeInterval')\n",
    "test=test.join(temp)\n",
    "\n",
    "temp=pd.get_dummies(train['Seasons'],prefix='Seasons')\n",
    "train=train.join(temp)\n",
    "temp=pd.get_dummies(test['Seasons'],prefix='Seasons')\n",
    "test=test.join(temp)\n",
    "\n",
    "temp=pd.get_dummies(train['WeekendWeekday'],prefix='WeekendWeekday')\n",
    "train=train.join(temp)\n",
    "temp=pd.get_dummies(test['WeekendWeekday'],prefix='WeekendWeekday')\n",
    "test=test.join(temp)\n",
    "\n",
    "temp=pd.get_dummies(train['year'],prefix='year')\n",
    "train=train.join(temp)\n",
    "temp=pd.get_dummies(test['year'],prefix='year')\n",
    "test=test.join(temp)"
   ]
  },
  {
   "cell_type": "code",
   "execution_count": 94,
   "metadata": {},
   "outputs": [
    {
     "data": {
      "text/html": [
       "<div>\n",
       "<style scoped>\n",
       "    .dataframe tbody tr th:only-of-type {\n",
       "        vertical-align: middle;\n",
       "    }\n",
       "\n",
       "    .dataframe tbody tr th {\n",
       "        vertical-align: top;\n",
       "    }\n",
       "\n",
       "    .dataframe thead th {\n",
       "        text-align: right;\n",
       "    }\n",
       "</style>\n",
       "<table border=\"1\" class=\"dataframe\">\n",
       "  <thead>\n",
       "    <tr style=\"text-align: right;\">\n",
       "      <th></th>\n",
       "      <th>fare_amount</th>\n",
       "      <th>pickup_datetime</th>\n",
       "      <th>pickup_longitude</th>\n",
       "      <th>pickup_latitude</th>\n",
       "      <th>dropoff_longitude</th>\n",
       "      <th>dropoff_latitude</th>\n",
       "      <th>passenger_count</th>\n",
       "      <th>year</th>\n",
       "      <th>month</th>\n",
       "      <th>day_of_week</th>\n",
       "      <th>...</th>\n",
       "      <th>Seasons_Winter</th>\n",
       "      <th>WeekendWeekday_Weekday</th>\n",
       "      <th>WeekendWeekday_Weekend</th>\n",
       "      <th>year_2009</th>\n",
       "      <th>year_2010</th>\n",
       "      <th>year_2011</th>\n",
       "      <th>year_2012</th>\n",
       "      <th>year_2013</th>\n",
       "      <th>year_2014</th>\n",
       "      <th>year_2015</th>\n",
       "    </tr>\n",
       "  </thead>\n",
       "  <tbody>\n",
       "    <tr>\n",
       "      <td>0</td>\n",
       "      <td>4.5</td>\n",
       "      <td>2009-06-15 17:26:21+00:00</td>\n",
       "      <td>-73.844311</td>\n",
       "      <td>40.721319</td>\n",
       "      <td>-73.841610</td>\n",
       "      <td>40.712278</td>\n",
       "      <td>1</td>\n",
       "      <td>2009</td>\n",
       "      <td>6</td>\n",
       "      <td>0</td>\n",
       "      <td>...</td>\n",
       "      <td>0</td>\n",
       "      <td>1</td>\n",
       "      <td>0</td>\n",
       "      <td>1</td>\n",
       "      <td>0</td>\n",
       "      <td>0</td>\n",
       "      <td>0</td>\n",
       "      <td>0</td>\n",
       "      <td>0</td>\n",
       "      <td>0</td>\n",
       "    </tr>\n",
       "    <tr>\n",
       "      <td>1</td>\n",
       "      <td>16.9</td>\n",
       "      <td>2010-01-05 16:52:16+00:00</td>\n",
       "      <td>-74.016048</td>\n",
       "      <td>40.711303</td>\n",
       "      <td>-73.979268</td>\n",
       "      <td>40.782004</td>\n",
       "      <td>1</td>\n",
       "      <td>2010</td>\n",
       "      <td>1</td>\n",
       "      <td>1</td>\n",
       "      <td>...</td>\n",
       "      <td>1</td>\n",
       "      <td>1</td>\n",
       "      <td>0</td>\n",
       "      <td>0</td>\n",
       "      <td>1</td>\n",
       "      <td>0</td>\n",
       "      <td>0</td>\n",
       "      <td>0</td>\n",
       "      <td>0</td>\n",
       "      <td>0</td>\n",
       "    </tr>\n",
       "    <tr>\n",
       "      <td>2</td>\n",
       "      <td>5.7</td>\n",
       "      <td>2011-08-18 00:35:00+00:00</td>\n",
       "      <td>-73.982738</td>\n",
       "      <td>40.761270</td>\n",
       "      <td>-73.991242</td>\n",
       "      <td>40.750562</td>\n",
       "      <td>2</td>\n",
       "      <td>2011</td>\n",
       "      <td>8</td>\n",
       "      <td>3</td>\n",
       "      <td>...</td>\n",
       "      <td>0</td>\n",
       "      <td>1</td>\n",
       "      <td>0</td>\n",
       "      <td>0</td>\n",
       "      <td>0</td>\n",
       "      <td>1</td>\n",
       "      <td>0</td>\n",
       "      <td>0</td>\n",
       "      <td>0</td>\n",
       "      <td>0</td>\n",
       "    </tr>\n",
       "    <tr>\n",
       "      <td>3</td>\n",
       "      <td>7.7</td>\n",
       "      <td>2012-04-21 04:30:42+00:00</td>\n",
       "      <td>-73.987130</td>\n",
       "      <td>40.733143</td>\n",
       "      <td>-73.991567</td>\n",
       "      <td>40.758092</td>\n",
       "      <td>1</td>\n",
       "      <td>2012</td>\n",
       "      <td>4</td>\n",
       "      <td>5</td>\n",
       "      <td>...</td>\n",
       "      <td>0</td>\n",
       "      <td>0</td>\n",
       "      <td>1</td>\n",
       "      <td>0</td>\n",
       "      <td>0</td>\n",
       "      <td>0</td>\n",
       "      <td>1</td>\n",
       "      <td>0</td>\n",
       "      <td>0</td>\n",
       "      <td>0</td>\n",
       "    </tr>\n",
       "    <tr>\n",
       "      <td>4</td>\n",
       "      <td>5.3</td>\n",
       "      <td>2010-03-09 07:51:00+00:00</td>\n",
       "      <td>-73.968095</td>\n",
       "      <td>40.768008</td>\n",
       "      <td>-73.956655</td>\n",
       "      <td>40.783762</td>\n",
       "      <td>1</td>\n",
       "      <td>2010</td>\n",
       "      <td>3</td>\n",
       "      <td>1</td>\n",
       "      <td>...</td>\n",
       "      <td>0</td>\n",
       "      <td>1</td>\n",
       "      <td>0</td>\n",
       "      <td>0</td>\n",
       "      <td>1</td>\n",
       "      <td>0</td>\n",
       "      <td>0</td>\n",
       "      <td>0</td>\n",
       "      <td>0</td>\n",
       "      <td>0</td>\n",
       "    </tr>\n",
       "  </tbody>\n",
       "</table>\n",
       "<p>5 rows × 38 columns</p>\n",
       "</div>"
      ],
      "text/plain": [
       "   fare_amount           pickup_datetime  pickup_longitude  pickup_latitude  \\\n",
       "0          4.5 2009-06-15 17:26:21+00:00        -73.844311        40.721319   \n",
       "1         16.9 2010-01-05 16:52:16+00:00        -74.016048        40.711303   \n",
       "2          5.7 2011-08-18 00:35:00+00:00        -73.982738        40.761270   \n",
       "3          7.7 2012-04-21 04:30:42+00:00        -73.987130        40.733143   \n",
       "4          5.3 2010-03-09 07:51:00+00:00        -73.968095        40.768008   \n",
       "\n",
       "   dropoff_longitude  dropoff_latitude passenger_count  year  month  \\\n",
       "0         -73.841610         40.712278               1  2009      6   \n",
       "1         -73.979268         40.782004               1  2010      1   \n",
       "2         -73.991242         40.750562               2  2011      8   \n",
       "3         -73.991567         40.758092               1  2012      4   \n",
       "4         -73.956655         40.783762               1  2010      3   \n",
       "\n",
       "   day_of_week  ...  Seasons_Winter WeekendWeekday_Weekday  \\\n",
       "0            0  ...               0                      1   \n",
       "1            1  ...               1                      1   \n",
       "2            3  ...               0                      1   \n",
       "3            5  ...               0                      0   \n",
       "4            1  ...               0                      1   \n",
       "\n",
       "  WeekendWeekday_Weekend year_2009  year_2010  year_2011  year_2012  \\\n",
       "0                      0         1          0          0          0   \n",
       "1                      0         0          1          0          0   \n",
       "2                      0         0          0          1          0   \n",
       "3                      1         0          0          0          1   \n",
       "4                      0         0          1          0          0   \n",
       "\n",
       "   year_2013  year_2014  year_2015  \n",
       "0          0          0          0  \n",
       "1          0          0          0  \n",
       "2          0          0          0  \n",
       "3          0          0          0  \n",
       "4          0          0          0  \n",
       "\n",
       "[5 rows x 38 columns]"
      ]
     },
     "execution_count": 94,
     "metadata": {},
     "output_type": "execute_result"
    }
   ],
   "source": [
    "train.head()"
   ]
  },
  {
   "cell_type": "code",
   "execution_count": 95,
   "metadata": {},
   "outputs": [
    {
     "data": {
      "text/html": [
       "<div>\n",
       "<style scoped>\n",
       "    .dataframe tbody tr th:only-of-type {\n",
       "        vertical-align: middle;\n",
       "    }\n",
       "\n",
       "    .dataframe tbody tr th {\n",
       "        vertical-align: top;\n",
       "    }\n",
       "\n",
       "    .dataframe thead th {\n",
       "        text-align: right;\n",
       "    }\n",
       "</style>\n",
       "<table border=\"1\" class=\"dataframe\">\n",
       "  <thead>\n",
       "    <tr style=\"text-align: right;\">\n",
       "      <th></th>\n",
       "      <th>pickup_datetime</th>\n",
       "      <th>pickup_longitude</th>\n",
       "      <th>pickup_latitude</th>\n",
       "      <th>dropoff_longitude</th>\n",
       "      <th>dropoff_latitude</th>\n",
       "      <th>passenger_count</th>\n",
       "      <th>year</th>\n",
       "      <th>month</th>\n",
       "      <th>day_of_week</th>\n",
       "      <th>hour</th>\n",
       "      <th>...</th>\n",
       "      <th>Seasons_Winter</th>\n",
       "      <th>WeekendWeekday_Weekday</th>\n",
       "      <th>WeekendWeekday_Weekend</th>\n",
       "      <th>year_2009</th>\n",
       "      <th>year_2010</th>\n",
       "      <th>year_2011</th>\n",
       "      <th>year_2012</th>\n",
       "      <th>year_2013</th>\n",
       "      <th>year_2014</th>\n",
       "      <th>year_2015</th>\n",
       "    </tr>\n",
       "  </thead>\n",
       "  <tbody>\n",
       "    <tr>\n",
       "      <td>0</td>\n",
       "      <td>2015-01-27 13:08:24+00:00</td>\n",
       "      <td>-73.973320</td>\n",
       "      <td>40.763805</td>\n",
       "      <td>-73.981430</td>\n",
       "      <td>40.743835</td>\n",
       "      <td>1</td>\n",
       "      <td>2015</td>\n",
       "      <td>1</td>\n",
       "      <td>1</td>\n",
       "      <td>13</td>\n",
       "      <td>...</td>\n",
       "      <td>1</td>\n",
       "      <td>1</td>\n",
       "      <td>0</td>\n",
       "      <td>0</td>\n",
       "      <td>0</td>\n",
       "      <td>0</td>\n",
       "      <td>0</td>\n",
       "      <td>0</td>\n",
       "      <td>0</td>\n",
       "      <td>1</td>\n",
       "    </tr>\n",
       "    <tr>\n",
       "      <td>1</td>\n",
       "      <td>2015-01-27 13:08:24+00:00</td>\n",
       "      <td>-73.986862</td>\n",
       "      <td>40.719383</td>\n",
       "      <td>-73.998886</td>\n",
       "      <td>40.739201</td>\n",
       "      <td>1</td>\n",
       "      <td>2015</td>\n",
       "      <td>1</td>\n",
       "      <td>1</td>\n",
       "      <td>13</td>\n",
       "      <td>...</td>\n",
       "      <td>1</td>\n",
       "      <td>1</td>\n",
       "      <td>0</td>\n",
       "      <td>0</td>\n",
       "      <td>0</td>\n",
       "      <td>0</td>\n",
       "      <td>0</td>\n",
       "      <td>0</td>\n",
       "      <td>0</td>\n",
       "      <td>1</td>\n",
       "    </tr>\n",
       "    <tr>\n",
       "      <td>2</td>\n",
       "      <td>2011-10-08 11:53:44+00:00</td>\n",
       "      <td>-73.982524</td>\n",
       "      <td>40.751260</td>\n",
       "      <td>-73.979654</td>\n",
       "      <td>40.746139</td>\n",
       "      <td>1</td>\n",
       "      <td>2011</td>\n",
       "      <td>10</td>\n",
       "      <td>5</td>\n",
       "      <td>11</td>\n",
       "      <td>...</td>\n",
       "      <td>0</td>\n",
       "      <td>0</td>\n",
       "      <td>1</td>\n",
       "      <td>0</td>\n",
       "      <td>0</td>\n",
       "      <td>1</td>\n",
       "      <td>0</td>\n",
       "      <td>0</td>\n",
       "      <td>0</td>\n",
       "      <td>0</td>\n",
       "    </tr>\n",
       "    <tr>\n",
       "      <td>3</td>\n",
       "      <td>2012-12-01 21:12:12+00:00</td>\n",
       "      <td>-73.981160</td>\n",
       "      <td>40.767807</td>\n",
       "      <td>-73.990448</td>\n",
       "      <td>40.751635</td>\n",
       "      <td>1</td>\n",
       "      <td>2012</td>\n",
       "      <td>12</td>\n",
       "      <td>5</td>\n",
       "      <td>21</td>\n",
       "      <td>...</td>\n",
       "      <td>1</td>\n",
       "      <td>0</td>\n",
       "      <td>1</td>\n",
       "      <td>0</td>\n",
       "      <td>0</td>\n",
       "      <td>0</td>\n",
       "      <td>1</td>\n",
       "      <td>0</td>\n",
       "      <td>0</td>\n",
       "      <td>0</td>\n",
       "    </tr>\n",
       "    <tr>\n",
       "      <td>4</td>\n",
       "      <td>2012-12-01 21:12:12+00:00</td>\n",
       "      <td>-73.966046</td>\n",
       "      <td>40.789775</td>\n",
       "      <td>-73.988565</td>\n",
       "      <td>40.744427</td>\n",
       "      <td>1</td>\n",
       "      <td>2012</td>\n",
       "      <td>12</td>\n",
       "      <td>5</td>\n",
       "      <td>21</td>\n",
       "      <td>...</td>\n",
       "      <td>1</td>\n",
       "      <td>0</td>\n",
       "      <td>1</td>\n",
       "      <td>0</td>\n",
       "      <td>0</td>\n",
       "      <td>0</td>\n",
       "      <td>1</td>\n",
       "      <td>0</td>\n",
       "      <td>0</td>\n",
       "      <td>0</td>\n",
       "    </tr>\n",
       "  </tbody>\n",
       "</table>\n",
       "<p>5 rows × 37 columns</p>\n",
       "</div>"
      ],
      "text/plain": [
       "            pickup_datetime  pickup_longitude  pickup_latitude  \\\n",
       "0 2015-01-27 13:08:24+00:00        -73.973320        40.763805   \n",
       "1 2015-01-27 13:08:24+00:00        -73.986862        40.719383   \n",
       "2 2011-10-08 11:53:44+00:00        -73.982524        40.751260   \n",
       "3 2012-12-01 21:12:12+00:00        -73.981160        40.767807   \n",
       "4 2012-12-01 21:12:12+00:00        -73.966046        40.789775   \n",
       "\n",
       "   dropoff_longitude  dropoff_latitude  passenger_count  year  month  \\\n",
       "0         -73.981430         40.743835                1  2015      1   \n",
       "1         -73.998886         40.739201                1  2015      1   \n",
       "2         -73.979654         40.746139                1  2011     10   \n",
       "3         -73.990448         40.751635                1  2012     12   \n",
       "4         -73.988565         40.744427                1  2012     12   \n",
       "\n",
       "   day_of_week  hour  ... Seasons_Winter WeekendWeekday_Weekday  \\\n",
       "0            1    13  ...              1                      1   \n",
       "1            1    13  ...              1                      1   \n",
       "2            5    11  ...              0                      0   \n",
       "3            5    21  ...              1                      0   \n",
       "4            5    21  ...              1                      0   \n",
       "\n",
       "  WeekendWeekday_Weekend  year_2009  year_2010  year_2011  year_2012  \\\n",
       "0                      0          0          0          0          0   \n",
       "1                      0          0          0          0          0   \n",
       "2                      1          0          0          1          0   \n",
       "3                      1          0          0          0          1   \n",
       "4                      1          0          0          0          1   \n",
       "\n",
       "   year_2013  year_2014  year_2015  \n",
       "0          0          0          1  \n",
       "1          0          0          1  \n",
       "2          0          0          0  \n",
       "3          0          0          0  \n",
       "4          0          0          0  \n",
       "\n",
       "[5 rows x 37 columns]"
      ]
     },
     "execution_count": 95,
     "metadata": {},
     "output_type": "execute_result"
    }
   ],
   "source": [
    "test.head()"
   ]
  },
  {
   "cell_type": "code",
   "execution_count": 96,
   "metadata": {},
   "outputs": [
    {
     "data": {
      "text/plain": [
       "Index(['fare_amount', 'pickup_datetime', 'pickup_longitude', 'pickup_latitude',\n",
       "       'dropoff_longitude', 'dropoff_latitude', 'passenger_count', 'year',\n",
       "       'month', 'day_of_week', 'hour', 'TimeInterval', 'Seasons',\n",
       "       'WeekendWeekday', 'passenger_count_1', 'passenger_count_2',\n",
       "       'passenger_count_3', 'passenger_count_4', 'passenger_count_5',\n",
       "       'passenger_count_6', 'TimeInterval_Afternoon',\n",
       "       'TimeInterval_EarlyMorning', 'TimeInterval_Evening',\n",
       "       'TimeInterval_LateNight', 'TimeInterval_Morning', 'Seasons_Rainy',\n",
       "       'Seasons_Spring', 'Seasons_Summer', 'Seasons_Winter',\n",
       "       'WeekendWeekday_Weekday', 'WeekendWeekday_Weekend', 'year_2009',\n",
       "       'year_2010', 'year_2011', 'year_2012', 'year_2013', 'year_2014',\n",
       "       'year_2015'],\n",
       "      dtype='object')"
      ]
     },
     "execution_count": 96,
     "metadata": {},
     "output_type": "execute_result"
    }
   ],
   "source": [
    "train.columns"
   ]
  },
  {
   "cell_type": "code",
   "execution_count": 97,
   "metadata": {},
   "outputs": [
    {
     "data": {
      "text/plain": [
       "38"
      ]
     },
     "execution_count": 97,
     "metadata": {},
     "output_type": "execute_result"
    }
   ],
   "source": [
    "len(train.columns)"
   ]
  },
  {
   "cell_type": "markdown",
   "metadata": {},
   "source": [
    "In order to prevent duplicacy we have to remove one column from each one hot encoded variables."
   ]
  },
  {
   "cell_type": "code",
   "execution_count": 98,
   "metadata": {},
   "outputs": [],
   "source": [
    "train=train.drop(['passenger_count_1','TimeInterval_Afternoon','Seasons_Rainy','WeekendWeekday_Weekday','year_2009'],axis=1)\n",
    "test=test.drop(['passenger_count_1','TimeInterval_Afternoon','Seasons_Rainy','WeekendWeekday_Weekday','year_2009'],axis=1)"
   ]
  },
  {
   "cell_type": "markdown",
   "metadata": {},
   "source": [
    "#### 3. Feature Engineering for Longitude and latitude columns"
   ]
  },
  {
   "cell_type": "markdown",
   "metadata": {},
   "source": [
    "As we have latitude and longitude data for pickup and dropoff, with the help of this we will find the distance the cab travelled from pickup and dropoff location.\n",
    "\n",
    "To calculate the distance we use harvenian formula.In pyhton it can automatically be caculated with the help of geodesic library."
   ]
  },
  {
   "cell_type": "code",
   "execution_count": 65,
   "metadata": {},
   "outputs": [],
   "source": [
    "data=[train,test]\n",
    "for i in data:\n",
    "    i['great_circle']=i.apply(lambda x:great_circle((x['pickup_latitude'],x['pickup_longitude']),(x['dropoff_latitude'],x['dropoff_longitude'])).miles,axis=1)\n",
    "    i['geodesic']=i.apply(lambda x:geodesic((x['pickup_latitude'],x['pickup_longitude']),(x['dropoff_latitude'],x['dropoff_longitude'])).miles,axis=1)"
   ]
  },
  {
   "cell_type": "code",
   "execution_count": 100,
   "metadata": {},
   "outputs": [
    {
     "data": {
      "text/html": [
       "<div>\n",
       "<style scoped>\n",
       "    .dataframe tbody tr th:only-of-type {\n",
       "        vertical-align: middle;\n",
       "    }\n",
       "\n",
       "    .dataframe tbody tr th {\n",
       "        vertical-align: top;\n",
       "    }\n",
       "\n",
       "    .dataframe thead th {\n",
       "        text-align: right;\n",
       "    }\n",
       "</style>\n",
       "<table border=\"1\" class=\"dataframe\">\n",
       "  <thead>\n",
       "    <tr style=\"text-align: right;\">\n",
       "      <th></th>\n",
       "      <th>fare_amount</th>\n",
       "      <th>pickup_datetime</th>\n",
       "      <th>pickup_longitude</th>\n",
       "      <th>pickup_latitude</th>\n",
       "      <th>dropoff_longitude</th>\n",
       "      <th>dropoff_latitude</th>\n",
       "      <th>passenger_count</th>\n",
       "      <th>year</th>\n",
       "      <th>month</th>\n",
       "      <th>day_of_week</th>\n",
       "      <th>...</th>\n",
       "      <th>Seasons_Winter</th>\n",
       "      <th>WeekendWeekday_Weekend</th>\n",
       "      <th>year_2010</th>\n",
       "      <th>year_2011</th>\n",
       "      <th>year_2012</th>\n",
       "      <th>year_2013</th>\n",
       "      <th>year_2014</th>\n",
       "      <th>year_2015</th>\n",
       "      <th>great_circle</th>\n",
       "      <th>geodesic</th>\n",
       "    </tr>\n",
       "  </thead>\n",
       "  <tbody>\n",
       "    <tr>\n",
       "      <td>0</td>\n",
       "      <td>4.5</td>\n",
       "      <td>2009-06-15 17:26:21+00:00</td>\n",
       "      <td>-73.844311</td>\n",
       "      <td>40.721319</td>\n",
       "      <td>-73.841610</td>\n",
       "      <td>40.712278</td>\n",
       "      <td>1</td>\n",
       "      <td>2009</td>\n",
       "      <td>6</td>\n",
       "      <td>0</td>\n",
       "      <td>...</td>\n",
       "      <td>0</td>\n",
       "      <td>0</td>\n",
       "      <td>0</td>\n",
       "      <td>0</td>\n",
       "      <td>0</td>\n",
       "      <td>0</td>\n",
       "      <td>0</td>\n",
       "      <td>0</td>\n",
       "      <td>0.640488</td>\n",
       "      <td>0.639764</td>\n",
       "    </tr>\n",
       "    <tr>\n",
       "      <td>1</td>\n",
       "      <td>16.9</td>\n",
       "      <td>2010-01-05 16:52:16+00:00</td>\n",
       "      <td>-74.016048</td>\n",
       "      <td>40.711303</td>\n",
       "      <td>-73.979268</td>\n",
       "      <td>40.782004</td>\n",
       "      <td>1</td>\n",
       "      <td>2010</td>\n",
       "      <td>1</td>\n",
       "      <td>1</td>\n",
       "      <td>...</td>\n",
       "      <td>1</td>\n",
       "      <td>0</td>\n",
       "      <td>1</td>\n",
       "      <td>0</td>\n",
       "      <td>0</td>\n",
       "      <td>0</td>\n",
       "      <td>0</td>\n",
       "      <td>0</td>\n",
       "      <td>5.250677</td>\n",
       "      <td>5.246511</td>\n",
       "    </tr>\n",
       "    <tr>\n",
       "      <td>2</td>\n",
       "      <td>5.7</td>\n",
       "      <td>2011-08-18 00:35:00+00:00</td>\n",
       "      <td>-73.982738</td>\n",
       "      <td>40.761270</td>\n",
       "      <td>-73.991242</td>\n",
       "      <td>40.750562</td>\n",
       "      <td>2</td>\n",
       "      <td>2011</td>\n",
       "      <td>8</td>\n",
       "      <td>3</td>\n",
       "      <td>...</td>\n",
       "      <td>0</td>\n",
       "      <td>0</td>\n",
       "      <td>0</td>\n",
       "      <td>1</td>\n",
       "      <td>0</td>\n",
       "      <td>0</td>\n",
       "      <td>0</td>\n",
       "      <td>0</td>\n",
       "      <td>0.863412</td>\n",
       "      <td>0.863167</td>\n",
       "    </tr>\n",
       "    <tr>\n",
       "      <td>3</td>\n",
       "      <td>7.7</td>\n",
       "      <td>2012-04-21 04:30:42+00:00</td>\n",
       "      <td>-73.987130</td>\n",
       "      <td>40.733143</td>\n",
       "      <td>-73.991567</td>\n",
       "      <td>40.758092</td>\n",
       "      <td>1</td>\n",
       "      <td>2012</td>\n",
       "      <td>4</td>\n",
       "      <td>5</td>\n",
       "      <td>...</td>\n",
       "      <td>0</td>\n",
       "      <td>1</td>\n",
       "      <td>0</td>\n",
       "      <td>0</td>\n",
       "      <td>1</td>\n",
       "      <td>0</td>\n",
       "      <td>0</td>\n",
       "      <td>0</td>\n",
       "      <td>1.739388</td>\n",
       "      <td>1.737223</td>\n",
       "    </tr>\n",
       "    <tr>\n",
       "      <td>4</td>\n",
       "      <td>5.3</td>\n",
       "      <td>2010-03-09 07:51:00+00:00</td>\n",
       "      <td>-73.968095</td>\n",
       "      <td>40.768008</td>\n",
       "      <td>-73.956655</td>\n",
       "      <td>40.783762</td>\n",
       "      <td>1</td>\n",
       "      <td>2010</td>\n",
       "      <td>3</td>\n",
       "      <td>1</td>\n",
       "      <td>...</td>\n",
       "      <td>0</td>\n",
       "      <td>0</td>\n",
       "      <td>1</td>\n",
       "      <td>0</td>\n",
       "      <td>0</td>\n",
       "      <td>0</td>\n",
       "      <td>0</td>\n",
       "      <td>0</td>\n",
       "      <td>1.242220</td>\n",
       "      <td>1.241710</td>\n",
       "    </tr>\n",
       "  </tbody>\n",
       "</table>\n",
       "<p>5 rows × 35 columns</p>\n",
       "</div>"
      ],
      "text/plain": [
       "   fare_amount           pickup_datetime  pickup_longitude  pickup_latitude  \\\n",
       "0          4.5 2009-06-15 17:26:21+00:00        -73.844311        40.721319   \n",
       "1         16.9 2010-01-05 16:52:16+00:00        -74.016048        40.711303   \n",
       "2          5.7 2011-08-18 00:35:00+00:00        -73.982738        40.761270   \n",
       "3          7.7 2012-04-21 04:30:42+00:00        -73.987130        40.733143   \n",
       "4          5.3 2010-03-09 07:51:00+00:00        -73.968095        40.768008   \n",
       "\n",
       "   dropoff_longitude  dropoff_latitude passenger_count  year  month  \\\n",
       "0         -73.841610         40.712278               1  2009      6   \n",
       "1         -73.979268         40.782004               1  2010      1   \n",
       "2         -73.991242         40.750562               2  2011      8   \n",
       "3         -73.991567         40.758092               1  2012      4   \n",
       "4         -73.956655         40.783762               1  2010      3   \n",
       "\n",
       "   day_of_week  ...  Seasons_Winter WeekendWeekday_Weekend year_2010  \\\n",
       "0            0  ...               0                      0         0   \n",
       "1            1  ...               1                      0         1   \n",
       "2            3  ...               0                      0         0   \n",
       "3            5  ...               0                      1         0   \n",
       "4            1  ...               0                      0         1   \n",
       "\n",
       "  year_2011  year_2012  year_2013  year_2014  year_2015  great_circle  \\\n",
       "0         0          0          0          0          0      0.640488   \n",
       "1         0          0          0          0          0      5.250677   \n",
       "2         1          0          0          0          0      0.863412   \n",
       "3         0          1          0          0          0      1.739388   \n",
       "4         0          0          0          0          0      1.242220   \n",
       "\n",
       "   geodesic  \n",
       "0  0.639764  \n",
       "1  5.246511  \n",
       "2  0.863167  \n",
       "3  1.737223  \n",
       "4  1.241710  \n",
       "\n",
       "[5 rows x 35 columns]"
      ]
     },
     "execution_count": 100,
     "metadata": {},
     "output_type": "execute_result"
    }
   ],
   "source": [
    "train.head()"
   ]
  },
  {
   "cell_type": "code",
   "execution_count": 101,
   "metadata": {},
   "outputs": [
    {
     "data": {
      "text/html": [
       "<div>\n",
       "<style scoped>\n",
       "    .dataframe tbody tr th:only-of-type {\n",
       "        vertical-align: middle;\n",
       "    }\n",
       "\n",
       "    .dataframe tbody tr th {\n",
       "        vertical-align: top;\n",
       "    }\n",
       "\n",
       "    .dataframe thead th {\n",
       "        text-align: right;\n",
       "    }\n",
       "</style>\n",
       "<table border=\"1\" class=\"dataframe\">\n",
       "  <thead>\n",
       "    <tr style=\"text-align: right;\">\n",
       "      <th></th>\n",
       "      <th>pickup_datetime</th>\n",
       "      <th>pickup_longitude</th>\n",
       "      <th>pickup_latitude</th>\n",
       "      <th>dropoff_longitude</th>\n",
       "      <th>dropoff_latitude</th>\n",
       "      <th>passenger_count</th>\n",
       "      <th>year</th>\n",
       "      <th>month</th>\n",
       "      <th>day_of_week</th>\n",
       "      <th>hour</th>\n",
       "      <th>...</th>\n",
       "      <th>Seasons_Winter</th>\n",
       "      <th>WeekendWeekday_Weekend</th>\n",
       "      <th>year_2010</th>\n",
       "      <th>year_2011</th>\n",
       "      <th>year_2012</th>\n",
       "      <th>year_2013</th>\n",
       "      <th>year_2014</th>\n",
       "      <th>year_2015</th>\n",
       "      <th>great_circle</th>\n",
       "      <th>geodesic</th>\n",
       "    </tr>\n",
       "  </thead>\n",
       "  <tbody>\n",
       "    <tr>\n",
       "      <td>0</td>\n",
       "      <td>2015-01-27 13:08:24+00:00</td>\n",
       "      <td>-73.973320</td>\n",
       "      <td>40.763805</td>\n",
       "      <td>-73.981430</td>\n",
       "      <td>40.743835</td>\n",
       "      <td>1</td>\n",
       "      <td>2015</td>\n",
       "      <td>1</td>\n",
       "      <td>1</td>\n",
       "      <td>13</td>\n",
       "      <td>...</td>\n",
       "      <td>1</td>\n",
       "      <td>0</td>\n",
       "      <td>0</td>\n",
       "      <td>0</td>\n",
       "      <td>0</td>\n",
       "      <td>0</td>\n",
       "      <td>0</td>\n",
       "      <td>1</td>\n",
       "      <td>1.443609</td>\n",
       "      <td>1.442197</td>\n",
       "    </tr>\n",
       "    <tr>\n",
       "      <td>1</td>\n",
       "      <td>2015-01-27 13:08:24+00:00</td>\n",
       "      <td>-73.986862</td>\n",
       "      <td>40.719383</td>\n",
       "      <td>-73.998886</td>\n",
       "      <td>40.739201</td>\n",
       "      <td>1</td>\n",
       "      <td>2015</td>\n",
       "      <td>1</td>\n",
       "      <td>1</td>\n",
       "      <td>13</td>\n",
       "      <td>...</td>\n",
       "      <td>1</td>\n",
       "      <td>0</td>\n",
       "      <td>0</td>\n",
       "      <td>0</td>\n",
       "      <td>0</td>\n",
       "      <td>0</td>\n",
       "      <td>0</td>\n",
       "      <td>1</td>\n",
       "      <td>1.507047</td>\n",
       "      <td>1.506080</td>\n",
       "    </tr>\n",
       "    <tr>\n",
       "      <td>2</td>\n",
       "      <td>2011-10-08 11:53:44+00:00</td>\n",
       "      <td>-73.982524</td>\n",
       "      <td>40.751260</td>\n",
       "      <td>-73.979654</td>\n",
       "      <td>40.746139</td>\n",
       "      <td>1</td>\n",
       "      <td>2011</td>\n",
       "      <td>10</td>\n",
       "      <td>5</td>\n",
       "      <td>11</td>\n",
       "      <td>...</td>\n",
       "      <td>0</td>\n",
       "      <td>1</td>\n",
       "      <td>0</td>\n",
       "      <td>1</td>\n",
       "      <td>0</td>\n",
       "      <td>0</td>\n",
       "      <td>0</td>\n",
       "      <td>0</td>\n",
       "      <td>0.384398</td>\n",
       "      <td>0.384120</td>\n",
       "    </tr>\n",
       "    <tr>\n",
       "      <td>3</td>\n",
       "      <td>2012-12-01 21:12:12+00:00</td>\n",
       "      <td>-73.981160</td>\n",
       "      <td>40.767807</td>\n",
       "      <td>-73.990448</td>\n",
       "      <td>40.751635</td>\n",
       "      <td>1</td>\n",
       "      <td>2012</td>\n",
       "      <td>12</td>\n",
       "      <td>5</td>\n",
       "      <td>21</td>\n",
       "      <td>...</td>\n",
       "      <td>1</td>\n",
       "      <td>1</td>\n",
       "      <td>0</td>\n",
       "      <td>0</td>\n",
       "      <td>1</td>\n",
       "      <td>0</td>\n",
       "      <td>0</td>\n",
       "      <td>0</td>\n",
       "      <td>1.218531</td>\n",
       "      <td>1.217683</td>\n",
       "    </tr>\n",
       "    <tr>\n",
       "      <td>4</td>\n",
       "      <td>2012-12-01 21:12:12+00:00</td>\n",
       "      <td>-73.966046</td>\n",
       "      <td>40.789775</td>\n",
       "      <td>-73.988565</td>\n",
       "      <td>40.744427</td>\n",
       "      <td>1</td>\n",
       "      <td>2012</td>\n",
       "      <td>12</td>\n",
       "      <td>5</td>\n",
       "      <td>21</td>\n",
       "      <td>...</td>\n",
       "      <td>1</td>\n",
       "      <td>1</td>\n",
       "      <td>0</td>\n",
       "      <td>0</td>\n",
       "      <td>1</td>\n",
       "      <td>0</td>\n",
       "      <td>0</td>\n",
       "      <td>0</td>\n",
       "      <td>3.347519</td>\n",
       "      <td>3.344737</td>\n",
       "    </tr>\n",
       "  </tbody>\n",
       "</table>\n",
       "<p>5 rows × 34 columns</p>\n",
       "</div>"
      ],
      "text/plain": [
       "            pickup_datetime  pickup_longitude  pickup_latitude  \\\n",
       "0 2015-01-27 13:08:24+00:00        -73.973320        40.763805   \n",
       "1 2015-01-27 13:08:24+00:00        -73.986862        40.719383   \n",
       "2 2011-10-08 11:53:44+00:00        -73.982524        40.751260   \n",
       "3 2012-12-01 21:12:12+00:00        -73.981160        40.767807   \n",
       "4 2012-12-01 21:12:12+00:00        -73.966046        40.789775   \n",
       "\n",
       "   dropoff_longitude  dropoff_latitude  passenger_count  year  month  \\\n",
       "0         -73.981430         40.743835                1  2015      1   \n",
       "1         -73.998886         40.739201                1  2015      1   \n",
       "2         -73.979654         40.746139                1  2011     10   \n",
       "3         -73.990448         40.751635                1  2012     12   \n",
       "4         -73.988565         40.744427                1  2012     12   \n",
       "\n",
       "   day_of_week  hour  ... Seasons_Winter WeekendWeekday_Weekend year_2010  \\\n",
       "0            1    13  ...              1                      0         0   \n",
       "1            1    13  ...              1                      0         0   \n",
       "2            5    11  ...              0                      1         0   \n",
       "3            5    21  ...              1                      1         0   \n",
       "4            5    21  ...              1                      1         0   \n",
       "\n",
       "   year_2011  year_2012  year_2013  year_2014  year_2015  great_circle  \\\n",
       "0          0          0          0          0          1      1.443609   \n",
       "1          0          0          0          0          1      1.507047   \n",
       "2          1          0          0          0          0      0.384398   \n",
       "3          0          1          0          0          0      1.218531   \n",
       "4          0          1          0          0          0      3.347519   \n",
       "\n",
       "   geodesic  \n",
       "0  1.442197  \n",
       "1  1.506080  \n",
       "2  0.384120  \n",
       "3  1.217683  \n",
       "4  3.344737  \n",
       "\n",
       "[5 rows x 34 columns]"
      ]
     },
     "execution_count": 101,
     "metadata": {},
     "output_type": "execute_result"
    }
   ],
   "source": [
    "test.head()"
   ]
  },
  {
   "cell_type": "code",
   "execution_count": 102,
   "metadata": {},
   "outputs": [
    {
     "data": {
      "text/plain": [
       "Index(['fare_amount', 'pickup_datetime', 'pickup_longitude', 'pickup_latitude',\n",
       "       'dropoff_longitude', 'dropoff_latitude', 'passenger_count', 'year',\n",
       "       'month', 'day_of_week', 'hour', 'TimeInterval', 'Seasons',\n",
       "       'WeekendWeekday', 'passenger_count_2', 'passenger_count_3',\n",
       "       'passenger_count_4', 'passenger_count_5', 'passenger_count_6',\n",
       "       'TimeInterval_EarlyMorning', 'TimeInterval_Evening',\n",
       "       'TimeInterval_LateNight', 'TimeInterval_Morning', 'Seasons_Spring',\n",
       "       'Seasons_Summer', 'Seasons_Winter', 'WeekendWeekday_Weekend',\n",
       "       'year_2010', 'year_2011', 'year_2012', 'year_2013', 'year_2014',\n",
       "       'year_2015', 'great_circle', 'geodesic'],\n",
       "      dtype='object')"
      ]
     },
     "execution_count": 102,
     "metadata": {},
     "output_type": "execute_result"
    }
   ],
   "source": [
    "train.columns"
   ]
  },
  {
   "cell_type": "code",
   "execution_count": 103,
   "metadata": {},
   "outputs": [
    {
     "data": {
      "text/plain": [
       "Index(['pickup_datetime', 'pickup_longitude', 'pickup_latitude',\n",
       "       'dropoff_longitude', 'dropoff_latitude', 'passenger_count', 'year',\n",
       "       'month', 'day_of_week', 'hour', 'TimeInterval', 'Seasons',\n",
       "       'WeekendWeekday', 'passenger_count_2', 'passenger_count_3',\n",
       "       'passenger_count_4', 'passenger_count_5', 'passenger_count_6',\n",
       "       'TimeInterval_EarlyMorning', 'TimeInterval_Evening',\n",
       "       'TimeInterval_LateNight', 'TimeInterval_Morning', 'Seasons_Spring',\n",
       "       'Seasons_Summer', 'Seasons_Winter', 'WeekendWeekday_Weekend',\n",
       "       'year_2010', 'year_2011', 'year_2012', 'year_2013', 'year_2014',\n",
       "       'year_2015', 'great_circle', 'geodesic'],\n",
       "      dtype='object')"
      ]
     },
     "execution_count": 103,
     "metadata": {},
     "output_type": "execute_result"
    }
   ],
   "source": [
    "test.columns"
   ]
  },
  {
   "cell_type": "code",
   "execution_count": 104,
   "metadata": {},
   "outputs": [],
   "source": [
    "# Dropping all those variables through which we have extracted additional features\n",
    "train=train.drop(['pickup_datetime', 'pickup_longitude', 'pickup_latitude',\n",
    "       'dropoff_longitude', 'dropoff_latitude', 'passenger_count', 'year',\n",
    "       'month', 'day_of_week', 'hour', 'TimeInterval', 'Seasons',\n",
    "       'WeekendWeekday','great_circle'],axis=1)"
   ]
  },
  {
   "cell_type": "code",
   "execution_count": 105,
   "metadata": {},
   "outputs": [],
   "source": [
    "test=test.drop(['pickup_datetime', 'pickup_longitude', 'pickup_latitude',\n",
    "       'dropoff_longitude', 'dropoff_latitude', 'passenger_count', 'year',\n",
    "       'month', 'day_of_week', 'hour', 'TimeInterval', 'Seasons',\n",
    "       'WeekendWeekday','great_circle'],axis=1)"
   ]
  },
  {
   "cell_type": "markdown",
   "metadata": {},
   "source": [
    "As Vincenty is more accurate than haversine. Also vincenty is prefered for short distances.Therefore we dropped great_circle."
   ]
  },
  {
   "cell_type": "code",
   "execution_count": 106,
   "metadata": {},
   "outputs": [
    {
     "data": {
      "text/plain": [
       "(16066, 21)"
      ]
     },
     "execution_count": 106,
     "metadata": {},
     "output_type": "execute_result"
    }
   ],
   "source": [
    "train.shape"
   ]
  },
  {
   "cell_type": "code",
   "execution_count": 107,
   "metadata": {},
   "outputs": [
    {
     "data": {
      "text/plain": [
       "(9914, 20)"
      ]
     },
     "execution_count": 107,
     "metadata": {},
     "output_type": "execute_result"
    }
   ],
   "source": [
    "test.shape"
   ]
  },
  {
   "cell_type": "code",
   "execution_count": 108,
   "metadata": {},
   "outputs": [
    {
     "data": {
      "text/plain": [
       "Index(['fare_amount', 'passenger_count_2', 'passenger_count_3',\n",
       "       'passenger_count_4', 'passenger_count_5', 'passenger_count_6',\n",
       "       'TimeInterval_EarlyMorning', 'TimeInterval_Evening',\n",
       "       'TimeInterval_LateNight', 'TimeInterval_Morning', 'Seasons_Spring',\n",
       "       'Seasons_Summer', 'Seasons_Winter', 'WeekendWeekday_Weekend',\n",
       "       'year_2010', 'year_2011', 'year_2012', 'year_2013', 'year_2014',\n",
       "       'year_2015', 'geodesic'],\n",
       "      dtype='object')"
      ]
     },
     "execution_count": 108,
     "metadata": {},
     "output_type": "execute_result"
    }
   ],
   "source": [
    "train.columns"
   ]
  },
  {
   "cell_type": "code",
   "execution_count": 109,
   "metadata": {},
   "outputs": [
    {
     "data": {
      "text/plain": [
       "Index(['passenger_count_2', 'passenger_count_3', 'passenger_count_4',\n",
       "       'passenger_count_5', 'passenger_count_6', 'TimeInterval_EarlyMorning',\n",
       "       'TimeInterval_Evening', 'TimeInterval_LateNight',\n",
       "       'TimeInterval_Morning', 'Seasons_Spring', 'Seasons_Summer',\n",
       "       'Seasons_Winter', 'WeekendWeekday_Weekend', 'year_2010', 'year_2011',\n",
       "       'year_2012', 'year_2013', 'year_2014', 'year_2015', 'geodesic'],\n",
       "      dtype='object')"
      ]
     },
     "execution_count": 109,
     "metadata": {},
     "output_type": "execute_result"
    }
   ],
   "source": [
    "test.columns"
   ]
  },
  {
   "cell_type": "markdown",
   "metadata": {},
   "source": [
    "Let's observe geodesic column for outlier Analysis by using boxplot Method"
   ]
  },
  {
   "cell_type": "code",
   "execution_count": 66,
   "metadata": {},
   "outputs": [
    {
     "data": {
      "image/png": "[encoded data removed]",
      "text/plain": [
       "<Figure size 1080x360 with 1 Axes>"
      ]
     },
     "metadata": {},
     "output_type": "display_data"
    }
   ],
   "source": [
    "plt.figure(figsize=(15,5))\n",
    "plt.xlim(0,100)\n",
    "sns.boxplot(x=train['geodesic'],data=train)\n",
    "plt.show()"
   ]
  },
  {
   "cell_type": "code",
   "execution_count": 70,
   "metadata": {},
   "outputs": [
    {
     "name": "stdout",
     "output_type": "stream",
     "text": [
      "nan nan\n",
      "nan nan\n"
     ]
    }
   ],
   "source": [
    "# It can be seen that there are certain outliers in geodesic column which can be treated by outlier treatment function\n",
    "outlier_treatment('geodesic')"
   ]
  },
  {
   "cell_type": "code",
   "execution_count": 71,
   "metadata": {},
   "outputs": [
    {
     "data": {
      "text/plain": [
       "fare_amount             0\n",
       "pickup_datetime         0\n",
       "pickup_longitude        0\n",
       "pickup_latitude         0\n",
       "dropoff_longitude       0\n",
       "dropoff_latitude        0\n",
       "passenger_count         0\n",
       "great_circle            0\n",
       "geodesic             1381\n",
       "dtype: int64"
      ]
     },
     "execution_count": 71,
     "metadata": {},
     "output_type": "execute_result"
    }
   ],
   "source": [
    "# Let's check is there any missing values present in train column\n",
    "train.isnull().sum()"
   ]
  },
  {
   "cell_type": "code",
   "execution_count": 74,
   "metadata": {},
   "outputs": [],
   "source": [
    "# Imputing missing values with the help of median imputation method\n",
    "train['geodesic']=train['geodesic'].fillna(train['geodesic'].median())"
   ]
  },
  {
   "cell_type": "code",
   "execution_count": 75,
   "metadata": {},
   "outputs": [
    {
     "data": {
      "text/plain": [
       "fare_amount          0\n",
       "pickup_datetime      0\n",
       "pickup_longitude     0\n",
       "pickup_latitude      0\n",
       "dropoff_longitude    0\n",
       "dropoff_latitude     0\n",
       "passenger_count      0\n",
       "great_circle         0\n",
       "geodesic             0\n",
       "dtype: int64"
      ]
     },
     "execution_count": 75,
     "metadata": {},
     "output_type": "execute_result"
    }
   ],
   "source": [
    "train.isnull().sum()"
   ]
  },
  {
   "cell_type": "code",
   "execution_count": 76,
   "metadata": {},
   "outputs": [
    {
     "data": {
      "text/plain": [
       "pickup_datetime      0\n",
       "pickup_longitude     0\n",
       "pickup_latitude      0\n",
       "dropoff_longitude    0\n",
       "dropoff_latitude     0\n",
       "passenger_count      0\n",
       "great_circle         0\n",
       "geodesic             0\n",
       "dtype: int64"
      ]
     },
     "execution_count": 76,
     "metadata": {},
     "output_type": "execute_result"
    }
   ],
   "source": [
    "test.isnull().sum()"
   ]
  },
  {
   "cell_type": "markdown",
   "metadata": {},
   "source": [
    "### Feature Selection"
   ]
  },
  {
   "cell_type": "markdown",
   "metadata": {},
   "source": [
    "##### 1. Correlation Analysis"
   ]
  },
  {
   "cell_type": "markdown",
   "metadata": {},
   "source": [
    "Statistically correlated features move together in one direction.\n",
    "\n",
    "And linear models assume variables that do not have any correlation between them.\n",
    "\n",
    "If features are correlated that could introduce bias into our models.\n",
    "\n",
    "Needs to analyse correlation between numerical Variabes"
   ]
  },
  {
   "cell_type": "code",
   "execution_count": 116,
   "metadata": {},
   "outputs": [
    {
     "data": {
      "text/html": [
       "<div>\n",
       "<style scoped>\n",
       "    .dataframe tbody tr th:only-of-type {\n",
       "        vertical-align: middle;\n",
       "    }\n",
       "\n",
       "    .dataframe tbody tr th {\n",
       "        vertical-align: top;\n",
       "    }\n",
       "\n",
       "    .dataframe thead th {\n",
       "        text-align: right;\n",
       "    }\n",
       "</style>\n",
       "<table border=\"1\" class=\"dataframe\">\n",
       "  <thead>\n",
       "    <tr style=\"text-align: right;\">\n",
       "      <th></th>\n",
       "      <th>fare_amount</th>\n",
       "      <th>passenger_count_2</th>\n",
       "      <th>passenger_count_3</th>\n",
       "      <th>passenger_count_4</th>\n",
       "      <th>passenger_count_5</th>\n",
       "      <th>passenger_count_6</th>\n",
       "      <th>TimeInterval_EarlyMorning</th>\n",
       "      <th>TimeInterval_Evening</th>\n",
       "      <th>TimeInterval_LateNight</th>\n",
       "      <th>TimeInterval_Morning</th>\n",
       "      <th>...</th>\n",
       "      <th>Seasons_Summer</th>\n",
       "      <th>Seasons_Winter</th>\n",
       "      <th>WeekendWeekday_Weekend</th>\n",
       "      <th>year_2010</th>\n",
       "      <th>year_2011</th>\n",
       "      <th>year_2012</th>\n",
       "      <th>year_2013</th>\n",
       "      <th>year_2014</th>\n",
       "      <th>year_2015</th>\n",
       "      <th>geodesic</th>\n",
       "    </tr>\n",
       "  </thead>\n",
       "  <tbody>\n",
       "    <tr>\n",
       "      <td>0</td>\n",
       "      <td>4.5</td>\n",
       "      <td>0</td>\n",
       "      <td>0</td>\n",
       "      <td>0</td>\n",
       "      <td>0</td>\n",
       "      <td>0</td>\n",
       "      <td>0</td>\n",
       "      <td>1</td>\n",
       "      <td>0</td>\n",
       "      <td>0</td>\n",
       "      <td>...</td>\n",
       "      <td>1</td>\n",
       "      <td>0</td>\n",
       "      <td>0</td>\n",
       "      <td>0</td>\n",
       "      <td>0</td>\n",
       "      <td>0</td>\n",
       "      <td>0</td>\n",
       "      <td>0</td>\n",
       "      <td>0</td>\n",
       "      <td>0.639764</td>\n",
       "    </tr>\n",
       "    <tr>\n",
       "      <td>1</td>\n",
       "      <td>16.9</td>\n",
       "      <td>0</td>\n",
       "      <td>0</td>\n",
       "      <td>0</td>\n",
       "      <td>0</td>\n",
       "      <td>0</td>\n",
       "      <td>0</td>\n",
       "      <td>0</td>\n",
       "      <td>0</td>\n",
       "      <td>0</td>\n",
       "      <td>...</td>\n",
       "      <td>0</td>\n",
       "      <td>1</td>\n",
       "      <td>0</td>\n",
       "      <td>1</td>\n",
       "      <td>0</td>\n",
       "      <td>0</td>\n",
       "      <td>0</td>\n",
       "      <td>0</td>\n",
       "      <td>0</td>\n",
       "      <td>1.199926</td>\n",
       "    </tr>\n",
       "    <tr>\n",
       "      <td>2</td>\n",
       "      <td>5.7</td>\n",
       "      <td>1</td>\n",
       "      <td>0</td>\n",
       "      <td>0</td>\n",
       "      <td>0</td>\n",
       "      <td>0</td>\n",
       "      <td>1</td>\n",
       "      <td>0</td>\n",
       "      <td>0</td>\n",
       "      <td>0</td>\n",
       "      <td>...</td>\n",
       "      <td>1</td>\n",
       "      <td>0</td>\n",
       "      <td>0</td>\n",
       "      <td>0</td>\n",
       "      <td>1</td>\n",
       "      <td>0</td>\n",
       "      <td>0</td>\n",
       "      <td>0</td>\n",
       "      <td>0</td>\n",
       "      <td>0.863167</td>\n",
       "    </tr>\n",
       "    <tr>\n",
       "      <td>3</td>\n",
       "      <td>7.7</td>\n",
       "      <td>0</td>\n",
       "      <td>0</td>\n",
       "      <td>0</td>\n",
       "      <td>0</td>\n",
       "      <td>0</td>\n",
       "      <td>1</td>\n",
       "      <td>0</td>\n",
       "      <td>0</td>\n",
       "      <td>0</td>\n",
       "      <td>...</td>\n",
       "      <td>0</td>\n",
       "      <td>0</td>\n",
       "      <td>1</td>\n",
       "      <td>0</td>\n",
       "      <td>0</td>\n",
       "      <td>1</td>\n",
       "      <td>0</td>\n",
       "      <td>0</td>\n",
       "      <td>0</td>\n",
       "      <td>1.737223</td>\n",
       "    </tr>\n",
       "    <tr>\n",
       "      <td>4</td>\n",
       "      <td>5.3</td>\n",
       "      <td>0</td>\n",
       "      <td>0</td>\n",
       "      <td>0</td>\n",
       "      <td>0</td>\n",
       "      <td>0</td>\n",
       "      <td>0</td>\n",
       "      <td>0</td>\n",
       "      <td>0</td>\n",
       "      <td>1</td>\n",
       "      <td>...</td>\n",
       "      <td>0</td>\n",
       "      <td>0</td>\n",
       "      <td>0</td>\n",
       "      <td>1</td>\n",
       "      <td>0</td>\n",
       "      <td>0</td>\n",
       "      <td>0</td>\n",
       "      <td>0</td>\n",
       "      <td>0</td>\n",
       "      <td>1.241710</td>\n",
       "    </tr>\n",
       "  </tbody>\n",
       "</table>\n",
       "<p>5 rows × 21 columns</p>\n",
       "</div>"
      ],
      "text/plain": [
       "   fare_amount  passenger_count_2  passenger_count_3  passenger_count_4  \\\n",
       "0          4.5                  0                  0                  0   \n",
       "1         16.9                  0                  0                  0   \n",
       "2          5.7                  1                  0                  0   \n",
       "3          7.7                  0                  0                  0   \n",
       "4          5.3                  0                  0                  0   \n",
       "\n",
       "   passenger_count_5  passenger_count_6  TimeInterval_EarlyMorning  \\\n",
       "0                  0                  0                          0   \n",
       "1                  0                  0                          0   \n",
       "2                  0                  0                          1   \n",
       "3                  0                  0                          1   \n",
       "4                  0                  0                          0   \n",
       "\n",
       "   TimeInterval_Evening  TimeInterval_LateNight  TimeInterval_Morning  ...  \\\n",
       "0                     1                       0                     0  ...   \n",
       "1                     0                       0                     0  ...   \n",
       "2                     0                       0                     0  ...   \n",
       "3                     0                       0                     0  ...   \n",
       "4                     0                       0                     1  ...   \n",
       "\n",
       "   Seasons_Summer  Seasons_Winter  WeekendWeekday_Weekend  year_2010  \\\n",
       "0               1               0                       0          0   \n",
       "1               0               1                       0          1   \n",
       "2               1               0                       0          0   \n",
       "3               0               0                       1          0   \n",
       "4               0               0                       0          1   \n",
       "\n",
       "   year_2011  year_2012  year_2013  year_2014  year_2015  geodesic  \n",
       "0          0          0          0          0          0  0.639764  \n",
       "1          0          0          0          0          0  1.199926  \n",
       "2          1          0          0          0          0  0.863167  \n",
       "3          0          1          0          0          0  1.737223  \n",
       "4          0          0          0          0          0  1.241710  \n",
       "\n",
       "[5 rows x 21 columns]"
      ]
     },
     "execution_count": 116,
     "metadata": {},
     "output_type": "execute_result"
    }
   ],
   "source": [
    "train.head()"
   ]
  },
  {
   "cell_type": "code",
   "execution_count": 117,
   "metadata": {},
   "outputs": [
    {
     "data": {
      "text/html": [
       "<div>\n",
       "<style scoped>\n",
       "    .dataframe tbody tr th:only-of-type {\n",
       "        vertical-align: middle;\n",
       "    }\n",
       "\n",
       "    .dataframe tbody tr th {\n",
       "        vertical-align: top;\n",
       "    }\n",
       "\n",
       "    .dataframe thead th {\n",
       "        text-align: right;\n",
       "    }\n",
       "</style>\n",
       "<table border=\"1\" class=\"dataframe\">\n",
       "  <thead>\n",
       "    <tr style=\"text-align: right;\">\n",
       "      <th></th>\n",
       "      <th>passenger_count_2</th>\n",
       "      <th>passenger_count_3</th>\n",
       "      <th>passenger_count_4</th>\n",
       "      <th>passenger_count_5</th>\n",
       "      <th>passenger_count_6</th>\n",
       "      <th>TimeInterval_EarlyMorning</th>\n",
       "      <th>TimeInterval_Evening</th>\n",
       "      <th>TimeInterval_LateNight</th>\n",
       "      <th>TimeInterval_Morning</th>\n",
       "      <th>Seasons_Spring</th>\n",
       "      <th>Seasons_Summer</th>\n",
       "      <th>Seasons_Winter</th>\n",
       "      <th>WeekendWeekday_Weekend</th>\n",
       "      <th>year_2010</th>\n",
       "      <th>year_2011</th>\n",
       "      <th>year_2012</th>\n",
       "      <th>year_2013</th>\n",
       "      <th>year_2014</th>\n",
       "      <th>year_2015</th>\n",
       "      <th>geodesic</th>\n",
       "    </tr>\n",
       "  </thead>\n",
       "  <tbody>\n",
       "    <tr>\n",
       "      <td>0</td>\n",
       "      <td>0</td>\n",
       "      <td>0</td>\n",
       "      <td>0</td>\n",
       "      <td>0</td>\n",
       "      <td>0</td>\n",
       "      <td>0</td>\n",
       "      <td>0</td>\n",
       "      <td>0</td>\n",
       "      <td>0</td>\n",
       "      <td>0</td>\n",
       "      <td>0</td>\n",
       "      <td>1</td>\n",
       "      <td>0</td>\n",
       "      <td>0</td>\n",
       "      <td>0</td>\n",
       "      <td>0</td>\n",
       "      <td>0</td>\n",
       "      <td>0</td>\n",
       "      <td>1</td>\n",
       "      <td>1.442197</td>\n",
       "    </tr>\n",
       "    <tr>\n",
       "      <td>1</td>\n",
       "      <td>0</td>\n",
       "      <td>0</td>\n",
       "      <td>0</td>\n",
       "      <td>0</td>\n",
       "      <td>0</td>\n",
       "      <td>0</td>\n",
       "      <td>0</td>\n",
       "      <td>0</td>\n",
       "      <td>0</td>\n",
       "      <td>0</td>\n",
       "      <td>0</td>\n",
       "      <td>1</td>\n",
       "      <td>0</td>\n",
       "      <td>0</td>\n",
       "      <td>0</td>\n",
       "      <td>0</td>\n",
       "      <td>0</td>\n",
       "      <td>0</td>\n",
       "      <td>1</td>\n",
       "      <td>1.506080</td>\n",
       "    </tr>\n",
       "    <tr>\n",
       "      <td>2</td>\n",
       "      <td>0</td>\n",
       "      <td>0</td>\n",
       "      <td>0</td>\n",
       "      <td>0</td>\n",
       "      <td>0</td>\n",
       "      <td>0</td>\n",
       "      <td>0</td>\n",
       "      <td>0</td>\n",
       "      <td>1</td>\n",
       "      <td>0</td>\n",
       "      <td>0</td>\n",
       "      <td>0</td>\n",
       "      <td>1</td>\n",
       "      <td>0</td>\n",
       "      <td>1</td>\n",
       "      <td>0</td>\n",
       "      <td>0</td>\n",
       "      <td>0</td>\n",
       "      <td>0</td>\n",
       "      <td>0.384120</td>\n",
       "    </tr>\n",
       "    <tr>\n",
       "      <td>3</td>\n",
       "      <td>0</td>\n",
       "      <td>0</td>\n",
       "      <td>0</td>\n",
       "      <td>0</td>\n",
       "      <td>0</td>\n",
       "      <td>0</td>\n",
       "      <td>0</td>\n",
       "      <td>1</td>\n",
       "      <td>0</td>\n",
       "      <td>0</td>\n",
       "      <td>0</td>\n",
       "      <td>1</td>\n",
       "      <td>1</td>\n",
       "      <td>0</td>\n",
       "      <td>0</td>\n",
       "      <td>1</td>\n",
       "      <td>0</td>\n",
       "      <td>0</td>\n",
       "      <td>0</td>\n",
       "      <td>1.217683</td>\n",
       "    </tr>\n",
       "    <tr>\n",
       "      <td>4</td>\n",
       "      <td>0</td>\n",
       "      <td>0</td>\n",
       "      <td>0</td>\n",
       "      <td>0</td>\n",
       "      <td>0</td>\n",
       "      <td>0</td>\n",
       "      <td>0</td>\n",
       "      <td>1</td>\n",
       "      <td>0</td>\n",
       "      <td>0</td>\n",
       "      <td>0</td>\n",
       "      <td>1</td>\n",
       "      <td>1</td>\n",
       "      <td>0</td>\n",
       "      <td>0</td>\n",
       "      <td>1</td>\n",
       "      <td>0</td>\n",
       "      <td>0</td>\n",
       "      <td>0</td>\n",
       "      <td>3.344737</td>\n",
       "    </tr>\n",
       "  </tbody>\n",
       "</table>\n",
       "</div>"
      ],
      "text/plain": [
       "   passenger_count_2  passenger_count_3  passenger_count_4  passenger_count_5  \\\n",
       "0                  0                  0                  0                  0   \n",
       "1                  0                  0                  0                  0   \n",
       "2                  0                  0                  0                  0   \n",
       "3                  0                  0                  0                  0   \n",
       "4                  0                  0                  0                  0   \n",
       "\n",
       "   passenger_count_6  TimeInterval_EarlyMorning  TimeInterval_Evening  \\\n",
       "0                  0                          0                     0   \n",
       "1                  0                          0                     0   \n",
       "2                  0                          0                     0   \n",
       "3                  0                          0                     0   \n",
       "4                  0                          0                     0   \n",
       "\n",
       "   TimeInterval_LateNight  TimeInterval_Morning  Seasons_Spring  \\\n",
       "0                       0                     0               0   \n",
       "1                       0                     0               0   \n",
       "2                       0                     1               0   \n",
       "3                       1                     0               0   \n",
       "4                       1                     0               0   \n",
       "\n",
       "   Seasons_Summer  Seasons_Winter  WeekendWeekday_Weekend  year_2010  \\\n",
       "0               0               1                       0          0   \n",
       "1               0               1                       0          0   \n",
       "2               0               0                       1          0   \n",
       "3               0               1                       1          0   \n",
       "4               0               1                       1          0   \n",
       "\n",
       "   year_2011  year_2012  year_2013  year_2014  year_2015  geodesic  \n",
       "0          0          0          0          0          1  1.442197  \n",
       "1          0          0          0          0          1  1.506080  \n",
       "2          1          0          0          0          0  0.384120  \n",
       "3          0          1          0          0          0  1.217683  \n",
       "4          0          1          0          0          0  3.344737  "
      ]
     },
     "execution_count": 117,
     "metadata": {},
     "output_type": "execute_result"
    }
   ],
   "source": [
    "test.head()"
   ]
  },
  {
   "cell_type": "code",
   "execution_count": 118,
   "metadata": {},
   "outputs": [],
   "source": [
    "cat_var=['passenger_count_2', 'passenger_count_3',\n",
    "       'passenger_count_4', 'passenger_count_5', 'passenger_count_6',\n",
    "       'TimeInterval_EarlyMorning', 'TimeInterval_Evening',\n",
    "       'TimeInterval_LateNight', 'TimeInterval_Morning', 'Seasons_Spring',\n",
    "       'Seasons_Summer', 'Seasons_Winter', 'WeekendWeekday_Weekend',\n",
    "       'year_2010', 'year_2011', 'year_2012', 'year_2013', 'year_2014',\n",
    "       'year_2015']\n",
    "num_var=['fare_amount','geodesic']\n",
    "train[cat_var]=train[cat_var].apply(lambda x:x.astype('category'))\n",
    "test[cat_var]=test[cat_var].apply(lambda x:x.astype('category'))"
   ]
  },
  {
   "cell_type": "code",
   "execution_count": 119,
   "metadata": {},
   "outputs": [],
   "source": [
    "# Plotting Correlation Matrix in order to Analyze Correlation betweeen fare_amount and geodesic.(Using .corr() method)\n",
    "Correlation_Matrix = train[num_var].corr()"
   ]
  },
  {
   "cell_type": "code",
   "execution_count": 120,
   "metadata": {},
   "outputs": [
    {
     "data": {
      "text/html": [
       "<div>\n",
       "<style scoped>\n",
       "    .dataframe tbody tr th:only-of-type {\n",
       "        vertical-align: middle;\n",
       "    }\n",
       "\n",
       "    .dataframe tbody tr th {\n",
       "        vertical-align: top;\n",
       "    }\n",
       "\n",
       "    .dataframe thead th {\n",
       "        text-align: right;\n",
       "    }\n",
       "</style>\n",
       "<table border=\"1\" class=\"dataframe\">\n",
       "  <thead>\n",
       "    <tr style=\"text-align: right;\">\n",
       "      <th></th>\n",
       "      <th>fare_amount</th>\n",
       "      <th>geodesic</th>\n",
       "    </tr>\n",
       "  </thead>\n",
       "  <tbody>\n",
       "    <tr>\n",
       "      <td>fare_amount</td>\n",
       "      <td>1.000000</td>\n",
       "      <td>0.700095</td>\n",
       "    </tr>\n",
       "    <tr>\n",
       "      <td>geodesic</td>\n",
       "      <td>0.700095</td>\n",
       "      <td>1.000000</td>\n",
       "    </tr>\n",
       "  </tbody>\n",
       "</table>\n",
       "</div>"
      ],
      "text/plain": [
       "             fare_amount  geodesic\n",
       "fare_amount     1.000000  0.700095\n",
       "geodesic        0.700095  1.000000"
      ]
     },
     "execution_count": 120,
     "metadata": {},
     "output_type": "execute_result"
    }
   ],
   "source": [
    "Correlation_Matrix"
   ]
  },
  {
   "cell_type": "markdown",
   "metadata": {},
   "source": [
    "As we can see from above correlation matrix fare_amount and geodesic are highly positively correlated to each other."
   ]
  },
  {
   "cell_type": "markdown",
   "metadata": {},
   "source": [
    "##### 2. Chi-square test of Independence for Categorical Variables/Features"
   ]
  },
  {
   "cell_type": "markdown",
   "metadata": {},
   "source": [
    "Hypothesis testing :\n",
    "    \n",
    "Null Hypothesis: Both variables are independent.\n",
    "Alternate Hypothesis: Both variables are not independent.\n",
    "    \n",
    "If p-value< 0.05 then we are fail to accept the null hypothesis saying that Both variables are dependent.\n",
    "And if p-value> 0.05 then we accept the null hypothesis saying that Both variables are independent.\n",
    "\n",
    "There should be no dependencies between Independent variables."
   ]
  },
  {
   "cell_type": "code",
   "execution_count": 121,
   "metadata": {},
   "outputs": [
    {
     "name": "stdout",
     "output_type": "stream",
     "text": [
      "passenger_count_2 and passenger_count_3 are dependent on each other with 1.7276278057866515e-27 ----Remove\n",
      "passenger_count_2 and passenger_count_4 are dependent on each other with 9.07276794603704e-14 ----Remove\n",
      "passenger_count_2 and passenger_count_5 are dependent on each other with 1.071217323949553e-42 ----Remove\n",
      "passenger_count_2 and passenger_count_6 are dependent on each other with 1.0150722928955688e-12 ----Remove\n",
      "passenger_count_2 and TimeInterval_EarlyMorning are dependent on each other with 0.028158765909041282 ----Remove\n",
      "passenger_count_2 and TimeInterval_Evening are dependent on each other with 0.012219848769842551 ----Remove\n",
      "passenger_count_2 and TimeInterval_LateNight are dependent on each other with 1.799127465806801e-05 ----Remove\n",
      "passenger_count_2 and TimeInterval_Morning are dependent on each other with 1.0029188438007623e-16 ----Remove\n",
      "passenger_count_2 and Seasons_Spring are independent on each other with 0.9609772134719967 ----Keep\n",
      "passenger_count_2 and Seasons_Summer are dependent on each other with 0.00993104011784481 ----Remove\n",
      "passenger_count_2 and Seasons_Winter are independent on each other with 0.3644035057436137 ----Keep\n",
      "passenger_count_2 and WeekendWeekday_Weekend are dependent on each other with 1.7805485819434666e-11 ----Remove\n",
      "passenger_count_2 and year_2010 are independent on each other with 0.7959378512677783 ----Keep\n",
      "passenger_count_2 and year_2011 are dependent on each other with 0.013013989291991782 ----Remove\n",
      "passenger_count_2 and year_2012 are independent on each other with 0.8426391030062323 ----Keep\n",
      "passenger_count_2 and year_2013 are independent on each other with 0.06425106381706566 ----Keep\n",
      "passenger_count_2 and year_2014 are independent on each other with 0.4620511233557202 ----Keep\n",
      "passenger_count_2 and year_2015 are independent on each other with 0.8135760384554388 ----Keep\n",
      "passenger_count_3 and passenger_count_2 are dependent on each other with 1.7276278057866515e-27 ----Remove\n",
      "passenger_count_3 and passenger_count_4 are dependent on each other with 0.0002136772612294307 ----Remove\n",
      "passenger_count_3 and passenger_count_5 are dependent on each other with 4.296351025952804e-12 ----Remove\n",
      "passenger_count_3 and passenger_count_6 are dependent on each other with 0.0004121311933073996 ----Remove\n",
      "passenger_count_3 and TimeInterval_EarlyMorning are dependent on each other with 0.004304641304703229 ----Remove\n",
      "passenger_count_3 and TimeInterval_Evening are independent on each other with 0.5913727916395458 ----Keep\n",
      "passenger_count_3 and TimeInterval_LateNight are dependent on each other with 0.022280701731762855 ----Remove\n",
      "passenger_count_3 and TimeInterval_Morning are dependent on each other with 0.00021651860126725562 ----Remove\n",
      "passenger_count_3 and Seasons_Spring are independent on each other with 0.30466555188667266 ----Keep\n",
      "passenger_count_3 and Seasons_Summer are independent on each other with 0.15814284603469647 ----Keep\n",
      "passenger_count_3 and Seasons_Winter are independent on each other with 0.4490231616567838 ----Keep\n",
      "passenger_count_3 and WeekendWeekday_Weekend are dependent on each other with 4.089079971911094e-06 ----Remove\n",
      "passenger_count_3 and year_2010 are independent on each other with 0.31288450296119064 ----Keep\n",
      "passenger_count_3 and year_2011 are independent on each other with 0.7441071949635656 ----Keep\n",
      "passenger_count_3 and year_2012 are independent on each other with 0.8886242357099144 ----Keep\n",
      "passenger_count_3 and year_2013 are independent on each other with 0.3519448161216088 ----Keep\n",
      "passenger_count_3 and year_2014 are independent on each other with 0.0927061404738047 ----Keep\n",
      "passenger_count_3 and year_2015 are independent on each other with 0.7673566671822608 ----Keep\n",
      "passenger_count_4 and passenger_count_2 are dependent on each other with 9.07276794603704e-14 ----Remove\n",
      "passenger_count_4 and passenger_count_3 are dependent on each other with 0.0002136772612294307 ----Remove\n",
      "passenger_count_4 and passenger_count_5 are dependent on each other with 2.347146754713809e-06 ----Remove\n",
      "passenger_count_4 and passenger_count_6 are dependent on each other with 0.01972346562126729 ----Remove\n",
      "passenger_count_4 and TimeInterval_EarlyMorning are dependent on each other with 0.0013807195666143465 ----Remove\n",
      "passenger_count_4 and TimeInterval_Evening are independent on each other with 0.7695625540872302 ----Keep\n",
      "passenger_count_4 and TimeInterval_LateNight are independent on each other with 0.5511425561899561 ----Keep\n",
      "passenger_count_4 and TimeInterval_Morning are dependent on each other with 5.562240477231426e-05 ----Remove\n",
      "passenger_count_4 and Seasons_Spring are independent on each other with 0.21847067674448095 ----Keep\n",
      "passenger_count_4 and Seasons_Summer are independent on each other with 0.26441887330765945 ----Keep\n",
      "passenger_count_4 and Seasons_Winter are dependent on each other with 0.044707942004588136 ----Remove\n",
      "passenger_count_4 and WeekendWeekday_Weekend are dependent on each other with 3.1541802745366687e-06 ----Remove\n",
      "passenger_count_4 and year_2010 are independent on each other with 0.38146663364386846 ----Keep\n",
      "passenger_count_4 and year_2011 are independent on each other with 0.4281804286979458 ----Keep\n",
      "passenger_count_4 and year_2012 are independent on each other with 0.6997977080699223 ----Keep\n",
      "passenger_count_4 and year_2013 are independent on each other with 0.7424950697099606 ----Keep\n",
      "passenger_count_4 and year_2014 are independent on each other with 0.7550339612170055 ----Keep\n",
      "passenger_count_4 and year_2015 are independent on each other with 0.8513944242409126 ----Keep\n",
      "passenger_count_5 and passenger_count_2 are dependent on each other with 1.071217323949553e-42 ----Remove\n",
      "passenger_count_5 and passenger_count_3 are dependent on each other with 4.296351025952804e-12 ----Remove\n",
      "passenger_count_5 and passenger_count_4 are dependent on each other with 2.347146754713809e-06 ----Remove\n",
      "passenger_count_5 and passenger_count_6 are dependent on each other with 6.495880278838259e-06 ----Remove\n",
      "passenger_count_5 and TimeInterval_EarlyMorning are independent on each other with 0.9043050750981632 ----Keep\n",
      "passenger_count_5 and TimeInterval_Evening are independent on each other with 0.48503848739497724 ----Keep\n",
      "passenger_count_5 and TimeInterval_LateNight are independent on each other with 0.7023565481657994 ----Keep\n",
      "passenger_count_5 and TimeInterval_Morning are independent on each other with 0.6656780397200186 ----Keep\n",
      "passenger_count_5 and Seasons_Spring are dependent on each other with 0.024814676673233328 ----Remove\n",
      "passenger_count_5 and Seasons_Summer are independent on each other with 0.832475625713526 ----Keep\n",
      "passenger_count_5 and Seasons_Winter are independent on each other with 0.2906217258347874 ----Keep\n",
      "passenger_count_5 and WeekendWeekday_Weekend are independent on each other with 0.9960968652325808 ----Keep\n",
      "passenger_count_5 and year_2010 are dependent on each other with 0.00488483805434424 ----Remove\n",
      "passenger_count_5 and year_2011 are independent on each other with 0.20319732051413858 ----Keep\n",
      "passenger_count_5 and year_2012 are independent on each other with 0.21330934841257268 ----Keep\n",
      "passenger_count_5 and year_2013 are dependent on each other with 0.009376721600280026 ----Remove\n",
      "passenger_count_5 and year_2014 are dependent on each other with 0.0006897100878965713 ----Remove\n",
      "passenger_count_5 and year_2015 are dependent on each other with 0.00015271552078938405 ----Remove\n",
      "passenger_count_6 and passenger_count_2 are dependent on each other with 1.0150722928955688e-12 ----Remove\n",
      "passenger_count_6 and passenger_count_3 are dependent on each other with 0.0004121311933073996 ----Remove\n",
      "passenger_count_6 and passenger_count_4 are dependent on each other with 0.01972346562126729 ----Remove\n",
      "passenger_count_6 and passenger_count_5 are dependent on each other with 6.495880278838259e-06 ----Remove\n",
      "passenger_count_6 and TimeInterval_EarlyMorning are independent on each other with 0.9637471194579578 ----Keep\n",
      "passenger_count_6 and TimeInterval_Evening are independent on each other with 0.6319677019718741 ----Keep\n",
      "passenger_count_6 and TimeInterval_LateNight are independent on each other with 0.3734856821028999 ----Keep\n",
      "passenger_count_6 and TimeInterval_Morning are independent on each other with 0.6289982240089068 ----Keep\n"
     ]
    },
    {
     "name": "stdout",
     "output_type": "stream",
     "text": [
      "passenger_count_6 and Seasons_Spring are independent on each other with 0.8376396806695764 ----Keep\n",
      "passenger_count_6 and Seasons_Summer are independent on each other with 0.9000667918476443 ----Keep\n",
      "passenger_count_6 and Seasons_Winter are independent on each other with 0.4100166509005114 ----Keep\n",
      "passenger_count_6 and WeekendWeekday_Weekend are independent on each other with 0.8611342252207013 ----Keep\n",
      "passenger_count_6 and year_2010 are dependent on each other with 1.869169130157414e-09 ----Remove\n",
      "passenger_count_6 and year_2011 are dependent on each other with 9.76938706862353e-06 ----Remove\n",
      "passenger_count_6 and year_2012 are dependent on each other with 0.028117870768973024 ----Remove\n",
      "passenger_count_6 and year_2013 are dependent on each other with 1.179123049353775e-09 ----Remove\n",
      "passenger_count_6 and year_2014 are dependent on each other with 3.167401219853598e-07 ----Remove\n",
      "passenger_count_6 and year_2015 are dependent on each other with 2.8487632799309816e-06 ----Remove\n",
      "TimeInterval_EarlyMorning and passenger_count_2 are dependent on each other with 0.028158765909041282 ----Remove\n",
      "TimeInterval_EarlyMorning and passenger_count_3 are dependent on each other with 0.004304641304703229 ----Remove\n",
      "TimeInterval_EarlyMorning and passenger_count_4 are dependent on each other with 0.0013807195666143465 ----Remove\n",
      "TimeInterval_EarlyMorning and passenger_count_5 are independent on each other with 0.9043050750981632 ----Keep\n",
      "TimeInterval_EarlyMorning and passenger_count_6 are independent on each other with 0.9637471194579578 ----Keep\n",
      "TimeInterval_EarlyMorning and TimeInterval_Evening are dependent on each other with 2.5768476600266788e-143 ----Remove\n",
      "TimeInterval_EarlyMorning and TimeInterval_LateNight are dependent on each other with 6.4308825084858076e-93 ----Remove\n",
      "TimeInterval_EarlyMorning and TimeInterval_Morning are dependent on each other with 8.962571199911359e-160 ----Remove\n",
      "TimeInterval_EarlyMorning and Seasons_Spring are independent on each other with 0.5842366588673538 ----Keep\n",
      "TimeInterval_EarlyMorning and Seasons_Summer are dependent on each other with 0.04044732214110312 ----Remove\n",
      "TimeInterval_EarlyMorning and Seasons_Winter are independent on each other with 0.06157137521630741 ----Keep\n",
      "TimeInterval_EarlyMorning and WeekendWeekday_Weekend are dependent on each other with 7.144045552133982e-130 ----Remove\n",
      "TimeInterval_EarlyMorning and year_2010 are independent on each other with 0.16794394961112363 ----Keep\n",
      "TimeInterval_EarlyMorning and year_2011 are independent on each other with 0.9086733437496002 ----Keep\n",
      "TimeInterval_EarlyMorning and year_2012 are independent on each other with 0.09204964320440015 ----Keep\n",
      "TimeInterval_EarlyMorning and year_2013 are independent on each other with 0.942676694485453 ----Keep\n",
      "TimeInterval_EarlyMorning and year_2014 are independent on each other with 0.7323808406393222 ----Keep\n",
      "TimeInterval_EarlyMorning and year_2015 are independent on each other with 0.34999130252433697 ----Keep\n",
      "TimeInterval_Evening and passenger_count_2 are dependent on each other with 0.012219848769842551 ----Remove\n",
      "TimeInterval_Evening and passenger_count_3 are independent on each other with 0.5913727916395458 ----Keep\n",
      "TimeInterval_Evening and passenger_count_4 are independent on each other with 0.7695625540872302 ----Keep\n",
      "TimeInterval_Evening and passenger_count_5 are independent on each other with 0.48503848739497724 ----Keep\n",
      "TimeInterval_Evening and passenger_count_6 are independent on each other with 0.6319677019718741 ----Keep\n",
      "TimeInterval_Evening and TimeInterval_EarlyMorning are dependent on each other with 2.5768476600266788e-143 ----Remove\n",
      "TimeInterval_Evening and TimeInterval_LateNight are dependent on each other with 1.0828652102675196e-206 ----Remove\n",
      "TimeInterval_Evening and TimeInterval_Morning are dependent on each other with 0.0 ----Remove\n",
      "TimeInterval_Evening and Seasons_Spring are independent on each other with 0.5478898083767014 ----Keep\n",
      "TimeInterval_Evening and Seasons_Summer are independent on each other with 0.3696382968109433 ----Keep\n",
      "TimeInterval_Evening and Seasons_Winter are independent on each other with 0.4121000214719427 ----Keep\n",
      "TimeInterval_Evening and WeekendWeekday_Weekend are dependent on each other with 1.776031749464219e-05 ----Remove\n",
      "TimeInterval_Evening and year_2010 are independent on each other with 0.30572213882203136 ----Keep\n",
      "TimeInterval_Evening and year_2011 are independent on each other with 0.33375175181456146 ----Keep\n",
      "TimeInterval_Evening and year_2012 are independent on each other with 0.841935222463374 ----Keep\n",
      "TimeInterval_Evening and year_2013 are independent on each other with 0.3756089954732882 ----Keep\n",
      "TimeInterval_Evening and year_2014 are independent on each other with 0.9975558930606001 ----Keep\n",
      "TimeInterval_Evening and year_2015 are independent on each other with 0.9964222795647877 ----Keep\n",
      "TimeInterval_LateNight and passenger_count_2 are dependent on each other with 1.799127465806801e-05 ----Remove\n",
      "TimeInterval_LateNight and passenger_count_3 are dependent on each other with 0.022280701731762855 ----Remove\n",
      "TimeInterval_LateNight and passenger_count_4 are independent on each other with 0.5511425561899561 ----Keep\n",
      "TimeInterval_LateNight and passenger_count_5 are independent on each other with 0.7023565481657994 ----Keep\n",
      "TimeInterval_LateNight and passenger_count_6 are independent on each other with 0.3734856821028999 ----Keep\n",
      "TimeInterval_LateNight and TimeInterval_EarlyMorning are dependent on each other with 6.4308825084856245e-93 ----Remove\n",
      "TimeInterval_LateNight and TimeInterval_Evening are dependent on each other with 1.0828652102675196e-206 ----Remove\n",
      "TimeInterval_LateNight and TimeInterval_Morning are dependent on each other with 1.6363068917081785e-230 ----Remove\n",
      "TimeInterval_LateNight and Seasons_Spring are independent on each other with 0.6871099835247241 ----Keep\n",
      "TimeInterval_LateNight and Seasons_Summer are independent on each other with 0.3073164376710973 ----Keep\n",
      "TimeInterval_LateNight and Seasons_Winter are independent on each other with 0.7489819094392809 ----Keep\n",
      "TimeInterval_LateNight and WeekendWeekday_Weekend are independent on each other with 0.08362536700834705 ----Keep\n",
      "TimeInterval_LateNight and year_2010 are independent on each other with 0.5391659290219459 ----Keep\n",
      "TimeInterval_LateNight and year_2011 are independent on each other with 0.8854881159388198 ----Keep\n",
      "TimeInterval_LateNight and year_2012 are independent on each other with 0.8426614369010526 ----Keep\n",
      "TimeInterval_LateNight and year_2013 are independent on each other with 0.12658418979553063 ----Keep\n",
      "TimeInterval_LateNight and year_2014 are independent on each other with 0.9414183648037698 ----Keep\n",
      "TimeInterval_LateNight and year_2015 are independent on each other with 0.9780724705588267 ----Keep\n",
      "TimeInterval_Morning and passenger_count_2 are dependent on each other with 1.0029188438007551e-16 ----Remove\n",
      "TimeInterval_Morning and passenger_count_3 are dependent on each other with 0.00021651860126725562 ----Remove\n",
      "TimeInterval_Morning and passenger_count_4 are dependent on each other with 5.562240477231426e-05 ----Remove\n",
      "TimeInterval_Morning and passenger_count_5 are independent on each other with 0.6656780397200186 ----Keep\n",
      "TimeInterval_Morning and passenger_count_6 are independent on each other with 0.6289982240089068 ----Keep\n",
      "TimeInterval_Morning and TimeInterval_EarlyMorning are dependent on each other with 8.962571199911359e-160 ----Remove\n",
      "TimeInterval_Morning and TimeInterval_Evening are dependent on each other with 0.0 ----Remove\n",
      "TimeInterval_Morning and TimeInterval_LateNight are dependent on each other with 1.6363068917081785e-230 ----Remove\n",
      "TimeInterval_Morning and Seasons_Spring are independent on each other with 0.1031431599938595 ----Keep\n",
      "TimeInterval_Morning and Seasons_Summer are independent on each other with 0.9930714640785588 ----Keep\n",
      "TimeInterval_Morning and Seasons_Winter are independent on each other with 0.9678152321939436 ----Keep\n",
      "TimeInterval_Morning and WeekendWeekday_Weekend are dependent on each other with 2.998295147291481e-41 ----Remove\n",
      "TimeInterval_Morning and year_2010 are independent on each other with 0.12698976897425396 ----Keep\n",
      "TimeInterval_Morning and year_2011 are independent on each other with 0.7516009332061975 ----Keep\n",
      "TimeInterval_Morning and year_2012 are independent on each other with 0.3416520117927532 ----Keep\n"
     ]
    },
    {
     "name": "stdout",
     "output_type": "stream",
     "text": [
      "TimeInterval_Morning and year_2013 are independent on each other with 0.9959440564984748 ----Keep\n",
      "TimeInterval_Morning and year_2014 are independent on each other with 0.7053707224124766 ----Keep\n",
      "TimeInterval_Morning and year_2015 are independent on each other with 0.8144718823809278 ----Keep\n",
      "Seasons_Spring and passenger_count_2 are independent on each other with 0.9609772134719967 ----Keep\n",
      "Seasons_Spring and passenger_count_3 are independent on each other with 0.30466555188667266 ----Keep\n",
      "Seasons_Spring and passenger_count_4 are independent on each other with 0.21847067674448095 ----Keep\n",
      "Seasons_Spring and passenger_count_5 are dependent on each other with 0.024814676673233328 ----Remove\n",
      "Seasons_Spring and passenger_count_6 are independent on each other with 0.8376396806695764 ----Keep\n",
      "Seasons_Spring and TimeInterval_EarlyMorning are independent on each other with 0.5842366588673538 ----Keep\n",
      "Seasons_Spring and TimeInterval_Evening are independent on each other with 0.5478898083767014 ----Keep\n",
      "Seasons_Spring and TimeInterval_LateNight are independent on each other with 0.6871099835247241 ----Keep\n",
      "Seasons_Spring and TimeInterval_Morning are independent on each other with 0.10314315999386006 ----Keep\n",
      "Seasons_Spring and Seasons_Summer are dependent on each other with 0.0 ----Remove\n",
      "Seasons_Spring and Seasons_Winter are dependent on each other with 0.0 ----Remove\n",
      "Seasons_Spring and WeekendWeekday_Weekend are independent on each other with 0.6702923443109586 ----Keep\n",
      "Seasons_Spring and year_2010 are independent on each other with 0.16585936061173373 ----Keep\n",
      "Seasons_Spring and year_2011 are independent on each other with 0.055478062331790486 ----Keep\n",
      "Seasons_Spring and year_2012 are dependent on each other with 0.002012957568700122 ----Remove\n",
      "Seasons_Spring and year_2013 are dependent on each other with 0.043824622667007776 ----Remove\n",
      "Seasons_Spring and year_2014 are independent on each other with 0.06479620800609233 ----Keep\n",
      "Seasons_Spring and year_2015 are dependent on each other with 6.26942851088932e-71 ----Remove\n",
      "Seasons_Summer and passenger_count_2 are dependent on each other with 0.00993104011784481 ----Remove\n",
      "Seasons_Summer and passenger_count_3 are independent on each other with 0.15814284603469647 ----Keep\n",
      "Seasons_Summer and passenger_count_4 are independent on each other with 0.26441887330765945 ----Keep\n",
      "Seasons_Summer and passenger_count_5 are independent on each other with 0.832475625713526 ----Keep\n",
      "Seasons_Summer and passenger_count_6 are independent on each other with 0.9000667918476443 ----Keep\n",
      "Seasons_Summer and TimeInterval_EarlyMorning are dependent on each other with 0.04044732214110312 ----Remove\n",
      "Seasons_Summer and TimeInterval_Evening are independent on each other with 0.3696382968109433 ----Keep\n",
      "Seasons_Summer and TimeInterval_LateNight are independent on each other with 0.3073164376710973 ----Keep\n",
      "Seasons_Summer and TimeInterval_Morning are independent on each other with 0.9930714640785588 ----Keep\n",
      "Seasons_Summer and Seasons_Spring are dependent on each other with 0.0 ----Remove\n",
      "Seasons_Summer and Seasons_Winter are dependent on each other with 0.0 ----Remove\n",
      "Seasons_Summer and WeekendWeekday_Weekend are dependent on each other with 0.00793030895915654 ----Remove\n",
      "Seasons_Summer and year_2010 are independent on each other with 0.4443540139517418 ----Keep\n",
      "Seasons_Summer and year_2011 are independent on each other with 0.5299729594571513 ----Keep\n",
      "Seasons_Summer and year_2012 are dependent on each other with 0.0018852044309081099 ----Remove\n",
      "Seasons_Summer and year_2013 are independent on each other with 0.42243946424831713 ----Keep\n",
      "Seasons_Summer and year_2014 are independent on each other with 0.5291907389132249 ----Keep\n",
      "Seasons_Summer and year_2015 are dependent on each other with 1.363353100495425e-08 ----Remove\n",
      "Seasons_Winter and passenger_count_2 are independent on each other with 0.3644035057436137 ----Keep\n",
      "Seasons_Winter and passenger_count_3 are independent on each other with 0.4490231616567838 ----Keep\n",
      "Seasons_Winter and passenger_count_4 are dependent on each other with 0.044707942004588136 ----Remove\n",
      "Seasons_Winter and passenger_count_5 are independent on each other with 0.2906217258347874 ----Keep\n",
      "Seasons_Winter and passenger_count_6 are independent on each other with 0.4100166509005114 ----Keep\n",
      "Seasons_Winter and TimeInterval_EarlyMorning are independent on each other with 0.06157137521630741 ----Keep\n",
      "Seasons_Winter and TimeInterval_Evening are independent on each other with 0.4121000214719427 ----Keep\n",
      "Seasons_Winter and TimeInterval_LateNight are independent on each other with 0.7489819094392809 ----Keep\n",
      "Seasons_Winter and TimeInterval_Morning are independent on each other with 0.9678152321939436 ----Keep\n",
      "Seasons_Winter and Seasons_Spring are dependent on each other with 0.0 ----Remove\n",
      "Seasons_Winter and Seasons_Summer are dependent on each other with 0.0 ----Remove\n",
      "Seasons_Winter and WeekendWeekday_Weekend are independent on each other with 0.38964712215255726 ----Keep\n",
      "Seasons_Winter and year_2010 are independent on each other with 0.5013876616682678 ----Keep\n",
      "Seasons_Winter and year_2011 are independent on each other with 0.5755072266523256 ----Keep\n",
      "Seasons_Winter and year_2012 are independent on each other with 0.5479664850699308 ----Keep\n",
      "Seasons_Winter and year_2013 are independent on each other with 0.25137229902231173 ----Keep\n",
      "Seasons_Winter and year_2014 are independent on each other with 0.9004838365671711 ----Keep\n",
      "Seasons_Winter and year_2015 are dependent on each other with 2.4884170509139046e-09 ----Remove\n",
      "WeekendWeekday_Weekend and passenger_count_2 are dependent on each other with 1.7805485819434666e-11 ----Remove\n",
      "WeekendWeekday_Weekend and passenger_count_3 are dependent on each other with 4.089079971911094e-06 ----Remove\n",
      "WeekendWeekday_Weekend and passenger_count_4 are dependent on each other with 3.1541802745366687e-06 ----Remove\n",
      "WeekendWeekday_Weekend and passenger_count_5 are independent on each other with 0.9960968652325808 ----Keep\n",
      "WeekendWeekday_Weekend and passenger_count_6 are independent on each other with 0.8611342252207013 ----Keep\n",
      "WeekendWeekday_Weekend and TimeInterval_EarlyMorning are dependent on each other with 7.144045552133982e-130 ----Remove\n",
      "WeekendWeekday_Weekend and TimeInterval_Evening are dependent on each other with 1.776031749464219e-05 ----Remove\n",
      "WeekendWeekday_Weekend and TimeInterval_LateNight are independent on each other with 0.08362536700834701 ----Keep\n",
      "WeekendWeekday_Weekend and TimeInterval_Morning are dependent on each other with 2.998295147291481e-41 ----Remove\n",
      "WeekendWeekday_Weekend and Seasons_Spring are independent on each other with 0.6702923443109586 ----Keep\n",
      "WeekendWeekday_Weekend and Seasons_Summer are dependent on each other with 0.00793030895915654 ----Remove\n",
      "WeekendWeekday_Weekend and Seasons_Winter are independent on each other with 0.38964712215255726 ----Keep\n",
      "WeekendWeekday_Weekend and year_2010 are independent on each other with 0.20148753262117844 ----Keep\n",
      "WeekendWeekday_Weekend and year_2011 are independent on each other with 0.25745439589066543 ----Keep\n",
      "WeekendWeekday_Weekend and year_2012 are dependent on each other with 0.026773752491482183 ----Remove\n",
      "WeekendWeekday_Weekend and year_2013 are independent on each other with 0.9959050273065129 ----Keep\n",
      "WeekendWeekday_Weekend and year_2014 are independent on each other with 0.991405232106864 ----Keep\n",
      "WeekendWeekday_Weekend and year_2015 are dependent on each other with 0.0032642141636239955 ----Remove\n",
      "year_2010 and passenger_count_2 are independent on each other with 0.7959378512677783 ----Keep\n",
      "year_2010 and passenger_count_3 are independent on each other with 0.31288450296119064 ----Keep\n",
      "year_2010 and passenger_count_4 are independent on each other with 0.38146663364386846 ----Keep\n",
      "year_2010 and passenger_count_5 are dependent on each other with 0.00488483805434424 ----Remove\n",
      "year_2010 and passenger_count_6 are dependent on each other with 1.869169130157414e-09 ----Remove\n",
      "year_2010 and TimeInterval_EarlyMorning are independent on each other with 0.16794394961112363 ----Keep\n",
      "year_2010 and TimeInterval_Evening are independent on each other with 0.30572213882203136 ----Keep\n",
      "year_2010 and TimeInterval_LateNight are independent on each other with 0.5391659290219459 ----Keep\n",
      "year_2010 and TimeInterval_Morning are independent on each other with 0.12698976897425396 ----Keep\n"
     ]
    },
    {
     "name": "stdout",
     "output_type": "stream",
     "text": [
      "year_2010 and Seasons_Spring are independent on each other with 0.16585936061173373 ----Keep\n",
      "year_2010 and Seasons_Summer are independent on each other with 0.4443540139517418 ----Keep\n",
      "year_2010 and Seasons_Winter are independent on each other with 0.5013876616682678 ----Keep\n",
      "year_2010 and WeekendWeekday_Weekend are independent on each other with 0.20148753262117844 ----Keep\n",
      "year_2010 and year_2011 are dependent on each other with 9.242277427851834e-121 ----Remove\n",
      "year_2010 and year_2012 are dependent on each other with 3.1270096189596977e-125 ----Remove\n",
      "year_2010 and year_2013 are dependent on each other with 1.3210215088657952e-121 ----Remove\n",
      "year_2010 and year_2014 are dependent on each other with 2.845297351321779e-110 ----Remove\n",
      "year_2010 and year_2015 are dependent on each other with 1.7571433427394962e-51 ----Remove\n",
      "year_2011 and passenger_count_2 are dependent on each other with 0.013013989291991782 ----Remove\n",
      "year_2011 and passenger_count_3 are independent on each other with 0.7441071949635656 ----Keep\n",
      "year_2011 and passenger_count_4 are independent on each other with 0.4281804286979458 ----Keep\n",
      "year_2011 and passenger_count_5 are independent on each other with 0.20319732051413858 ----Keep\n",
      "year_2011 and passenger_count_6 are dependent on each other with 9.76938706862353e-06 ----Remove\n",
      "year_2011 and TimeInterval_EarlyMorning are independent on each other with 0.9086733437496002 ----Keep\n",
      "year_2011 and TimeInterval_Evening are independent on each other with 0.33375175181456146 ----Keep\n",
      "year_2011 and TimeInterval_LateNight are independent on each other with 0.8854881159388198 ----Keep\n",
      "year_2011 and TimeInterval_Morning are independent on each other with 0.7516009332061975 ----Keep\n",
      "year_2011 and Seasons_Spring are independent on each other with 0.055478062331790486 ----Keep\n",
      "year_2011 and Seasons_Summer are independent on each other with 0.5299729594571513 ----Keep\n",
      "year_2011 and Seasons_Winter are independent on each other with 0.5755072266523256 ----Keep\n",
      "year_2011 and WeekendWeekday_Weekend are independent on each other with 0.25745439589066543 ----Keep\n",
      "year_2011 and year_2010 are dependent on each other with 9.242277427851834e-121 ----Remove\n",
      "year_2011 and year_2012 are dependent on each other with 1.2172442953855017e-125 ----Remove\n",
      "year_2011 and year_2013 are dependent on each other with 5.286526110811426e-122 ----Remove\n",
      "year_2011 and year_2014 are dependent on each other with 1.2414519703224439e-110 ----Remove\n",
      "year_2011 and year_2015 are dependent on each other with 1.199964555542386e-51 ----Remove\n",
      "year_2012 and passenger_count_2 are independent on each other with 0.8426391030062323 ----Keep\n",
      "year_2012 and passenger_count_3 are independent on each other with 0.8886242357099144 ----Keep\n",
      "year_2012 and passenger_count_4 are independent on each other with 0.6997977080699223 ----Keep\n",
      "year_2012 and passenger_count_5 are independent on each other with 0.21330934841257268 ----Keep\n",
      "year_2012 and passenger_count_6 are dependent on each other with 0.028117870768973024 ----Remove\n",
      "year_2012 and TimeInterval_EarlyMorning are independent on each other with 0.09204964320440015 ----Keep\n",
      "year_2012 and TimeInterval_Evening are independent on each other with 0.841935222463374 ----Keep\n",
      "year_2012 and TimeInterval_LateNight are independent on each other with 0.8426614369010526 ----Keep\n",
      "year_2012 and TimeInterval_Morning are independent on each other with 0.3416520117927532 ----Keep\n",
      "year_2012 and Seasons_Spring are dependent on each other with 0.002012957568700122 ----Remove\n",
      "year_2012 and Seasons_Summer are dependent on each other with 0.0018852044309081099 ----Remove\n",
      "year_2012 and Seasons_Winter are independent on each other with 0.5479664850699308 ----Keep\n",
      "year_2012 and WeekendWeekday_Weekend are dependent on each other with 0.026773752491482183 ----Remove\n",
      "year_2012 and year_2010 are dependent on each other with 3.1270096189596977e-125 ----Remove\n",
      "year_2012 and year_2011 are dependent on each other with 1.2172442953855017e-125 ----Remove\n",
      "year_2012 and year_2013 are dependent on each other with 1.606647566114451e-126 ----Remove\n",
      "year_2012 and year_2014 are dependent on each other with 1.0070912304309187e-114 ----Remove\n",
      "year_2012 and year_2015 are dependent on each other with 1.5777990773474863e-53 ----Remove\n",
      "year_2013 and passenger_count_2 are independent on each other with 0.06425106381706566 ----Keep\n",
      "year_2013 and passenger_count_3 are independent on each other with 0.3519448161216088 ----Keep\n",
      "year_2013 and passenger_count_4 are independent on each other with 0.7424950697099606 ----Keep\n",
      "year_2013 and passenger_count_5 are dependent on each other with 0.009376721600280026 ----Remove\n",
      "year_2013 and passenger_count_6 are dependent on each other with 1.179123049353775e-09 ----Remove\n",
      "year_2013 and TimeInterval_EarlyMorning are independent on each other with 0.942676694485453 ----Keep\n",
      "year_2013 and TimeInterval_Evening are independent on each other with 0.3756089954732882 ----Keep\n",
      "year_2013 and TimeInterval_LateNight are independent on each other with 0.12658418979553063 ----Keep\n",
      "year_2013 and TimeInterval_Morning are independent on each other with 0.9959440564984748 ----Keep\n",
      "year_2013 and Seasons_Spring are dependent on each other with 0.043824622667007776 ----Remove\n",
      "year_2013 and Seasons_Summer are independent on each other with 0.42243946424831713 ----Keep\n",
      "year_2013 and Seasons_Winter are independent on each other with 0.25137229902231173 ----Keep\n",
      "year_2013 and WeekendWeekday_Weekend are independent on each other with 0.9959050273065129 ----Keep\n",
      "year_2013 and year_2010 are dependent on each other with 1.3210215088657952e-121 ----Remove\n",
      "year_2013 and year_2011 are dependent on each other with 5.286526110811426e-122 ----Remove\n",
      "year_2013 and year_2012 are dependent on each other with 1.606647566114451e-126 ----Remove\n",
      "year_2013 and year_2014 are dependent on each other with 2.0933017701862273e-111 ----Remove\n",
      "year_2013 and year_2015 are dependent on each other with 5.2924841122588294e-52 ----Remove\n",
      "year_2014 and passenger_count_2 are independent on each other with 0.4620511233557202 ----Keep\n",
      "year_2014 and passenger_count_3 are independent on each other with 0.0927061404738047 ----Keep\n",
      "year_2014 and passenger_count_4 are independent on each other with 0.7550339612170054 ----Keep\n",
      "year_2014 and passenger_count_5 are dependent on each other with 0.0006897100878965713 ----Remove\n",
      "year_2014 and passenger_count_6 are dependent on each other with 3.167401219853598e-07 ----Remove\n",
      "year_2014 and TimeInterval_EarlyMorning are independent on each other with 0.7323808406393222 ----Keep\n",
      "year_2014 and TimeInterval_Evening are independent on each other with 0.9975558930606001 ----Keep\n",
      "year_2014 and TimeInterval_LateNight are independent on each other with 0.9414183648037698 ----Keep\n",
      "year_2014 and TimeInterval_Morning are independent on each other with 0.7053707224124766 ----Keep\n",
      "year_2014 and Seasons_Spring are independent on each other with 0.06479620800609233 ----Keep\n",
      "year_2014 and Seasons_Summer are independent on each other with 0.5291907389132249 ----Keep\n",
      "year_2014 and Seasons_Winter are independent on each other with 0.9004838365671711 ----Keep\n",
      "year_2014 and WeekendWeekday_Weekend are independent on each other with 0.991405232106864 ----Keep\n",
      "year_2014 and year_2010 are dependent on each other with 2.845297351321779e-110 ----Remove\n",
      "year_2014 and year_2011 are dependent on each other with 1.2414519703224439e-110 ----Remove\n",
      "year_2014 and year_2012 are dependent on each other with 1.0070912304309187e-114 ----Remove\n",
      "year_2014 and year_2013 are dependent on each other with 2.0933017701862273e-111 ----Remove\n",
      "year_2014 and year_2015 are dependent on each other with 3.1121843165922115e-47 ----Remove\n",
      "year_2015 and passenger_count_2 are independent on each other with 0.8135760384554388 ----Keep\n",
      "year_2015 and passenger_count_3 are independent on each other with 0.7673566671822608 ----Keep\n",
      "year_2015 and passenger_count_4 are independent on each other with 0.8513944242409126 ----Keep\n",
      "year_2015 and passenger_count_5 are dependent on each other with 0.00015271552078938405 ----Remove\n",
      "year_2015 and passenger_count_6 are dependent on each other with 2.8487632799309816e-06 ----Remove\n",
      "year_2015 and TimeInterval_EarlyMorning are independent on each other with 0.34999130252433697 ----Keep\n",
      "year_2015 and TimeInterval_Evening are independent on each other with 0.9964222795647877 ----Keep\n"
     ]
    },
    {
     "name": "stdout",
     "output_type": "stream",
     "text": [
      "year_2015 and TimeInterval_LateNight are independent on each other with 0.9780724705588267 ----Keep\n",
      "year_2015 and TimeInterval_Morning are independent on each other with 0.8144718823809278 ----Keep\n",
      "year_2015 and Seasons_Spring are dependent on each other with 6.26942851088932e-71 ----Remove\n",
      "year_2015 and Seasons_Summer are dependent on each other with 1.363353100495425e-08 ----Remove\n",
      "year_2015 and Seasons_Winter are dependent on each other with 2.4884170509139046e-09 ----Remove\n",
      "year_2015 and WeekendWeekday_Weekend are dependent on each other with 0.0032642141636239955 ----Remove\n",
      "year_2015 and year_2010 are dependent on each other with 1.7571433427394962e-51 ----Remove\n",
      "year_2015 and year_2011 are dependent on each other with 1.199964555542386e-51 ----Remove\n",
      "year_2015 and year_2012 are dependent on each other with 1.5777990773474863e-53 ----Remove\n",
      "year_2015 and year_2013 are dependent on each other with 5.2924841122588294e-52 ----Remove\n",
      "year_2015 and year_2014 are dependent on each other with 3.1121843165922115e-47 ----Remove\n"
     ]
    }
   ],
   "source": [
    "#loop for chi square values\n",
    "for i in cat_var:\n",
    "    for j in cat_var:\n",
    "        if(i != j):\n",
    "            chi2, p, dof, ex = chi2_contingency(pd.crosstab(train[i], train[j]))\n",
    "            if(p < 0.05):\n",
    "                print(i,\"and\",j,\"are dependent on each other with\",p,'----Remove')\n",
    "            else:\n",
    "                print(i,\"and\",j,\"are independent on each other with\",p,'----Keep')"
   ]
  },
  {
   "cell_type": "markdown",
   "metadata": {},
   "source": [
    "##### 3.Analysis of Variance(Anova) Test"
   ]
  },
  {
   "cell_type": "markdown",
   "metadata": {},
   "source": [
    "=> It is carried out to compare between each groups in a categorical variable.\n",
    "\n",
    "=> ANOVA only lets us know the means for different groups are same or not. It doesn’t help us identify which mean is different.\n",
    "\n",
    "=> Hypothesis testing :\n",
    "\n",
    "    Null Hypothesis: mean of all categories in a variable are same.\n",
    "    Alternate Hypothesis: mean of at least one category in a variable is different.\n",
    "=>If p-value< 0.05 then we fail to accept the null hypothesis.\n",
    "\n",
    "=>And if p-value> 0.05 then we accept the null hypothesis."
   ]
  },
  {
   "cell_type": "code",
   "execution_count": 122,
   "metadata": {},
   "outputs": [
    {
     "data": {
      "text/html": [
       "<div>\n",
       "<style scoped>\n",
       "    .dataframe tbody tr th:only-of-type {\n",
       "        vertical-align: middle;\n",
       "    }\n",
       "\n",
       "    .dataframe tbody tr th {\n",
       "        vertical-align: top;\n",
       "    }\n",
       "\n",
       "    .dataframe thead th {\n",
       "        text-align: right;\n",
       "    }\n",
       "</style>\n",
       "<table border=\"1\" class=\"dataframe\">\n",
       "  <thead>\n",
       "    <tr style=\"text-align: right;\">\n",
       "      <th></th>\n",
       "      <th>df</th>\n",
       "      <th>sum_sq</th>\n",
       "      <th>mean_sq</th>\n",
       "      <th>F</th>\n",
       "      <th>PR(&gt;F)</th>\n",
       "    </tr>\n",
       "  </thead>\n",
       "  <tbody>\n",
       "    <tr>\n",
       "      <td>C(passenger_count_2)</td>\n",
       "      <td>1.0</td>\n",
       "      <td>8.346344</td>\n",
       "      <td>8.346344</td>\n",
       "      <td>0.547145</td>\n",
       "      <td>4.594976e-01</td>\n",
       "    </tr>\n",
       "    <tr>\n",
       "      <td>C(passenger_count_3)</td>\n",
       "      <td>1.0</td>\n",
       "      <td>10.606757</td>\n",
       "      <td>10.606757</td>\n",
       "      <td>0.695326</td>\n",
       "      <td>4.043711e-01</td>\n",
       "    </tr>\n",
       "    <tr>\n",
       "      <td>C(passenger_count_4)</td>\n",
       "      <td>1.0</td>\n",
       "      <td>83.366252</td>\n",
       "      <td>83.366252</td>\n",
       "      <td>5.465075</td>\n",
       "      <td>1.941245e-02</td>\n",
       "    </tr>\n",
       "    <tr>\n",
       "      <td>C(passenger_count_5)</td>\n",
       "      <td>1.0</td>\n",
       "      <td>32.290446</td>\n",
       "      <td>32.290446</td>\n",
       "      <td>2.116800</td>\n",
       "      <td>1.457102e-01</td>\n",
       "    </tr>\n",
       "    <tr>\n",
       "      <td>C(passenger_count_6)</td>\n",
       "      <td>1.0</td>\n",
       "      <td>195.173348</td>\n",
       "      <td>195.173348</td>\n",
       "      <td>12.794589</td>\n",
       "      <td>3.486463e-04</td>\n",
       "    </tr>\n",
       "    <tr>\n",
       "      <td>C(TimeInterval_EarlyMorning)</td>\n",
       "      <td>1.0</td>\n",
       "      <td>977.727525</td>\n",
       "      <td>977.727525</td>\n",
       "      <td>64.094929</td>\n",
       "      <td>1.266323e-15</td>\n",
       "    </tr>\n",
       "    <tr>\n",
       "      <td>C(TimeInterval_Evening)</td>\n",
       "      <td>1.0</td>\n",
       "      <td>24.815971</td>\n",
       "      <td>24.815971</td>\n",
       "      <td>1.626811</td>\n",
       "      <td>2.021632e-01</td>\n",
       "    </tr>\n",
       "    <tr>\n",
       "      <td>C(TimeInterval_LateNight)</td>\n",
       "      <td>1.0</td>\n",
       "      <td>255.360275</td>\n",
       "      <td>255.360275</td>\n",
       "      <td>16.740143</td>\n",
       "      <td>4.307380e-05</td>\n",
       "    </tr>\n",
       "    <tr>\n",
       "      <td>C(TimeInterval_Morning)</td>\n",
       "      <td>1.0</td>\n",
       "      <td>78.788397</td>\n",
       "      <td>78.788397</td>\n",
       "      <td>5.164973</td>\n",
       "      <td>2.305998e-02</td>\n",
       "    </tr>\n",
       "    <tr>\n",
       "      <td>C(Seasons_Spring)</td>\n",
       "      <td>1.0</td>\n",
       "      <td>66.230823</td>\n",
       "      <td>66.230823</td>\n",
       "      <td>4.341762</td>\n",
       "      <td>3.720421e-02</td>\n",
       "    </tr>\n",
       "    <tr>\n",
       "      <td>C(Seasons_Summer)</td>\n",
       "      <td>1.0</td>\n",
       "      <td>20.533260</td>\n",
       "      <td>20.533260</td>\n",
       "      <td>1.346058</td>\n",
       "      <td>2.459857e-01</td>\n",
       "    </tr>\n",
       "    <tr>\n",
       "      <td>C(Seasons_Winter)</td>\n",
       "      <td>1.0</td>\n",
       "      <td>213.880378</td>\n",
       "      <td>213.880378</td>\n",
       "      <td>14.020928</td>\n",
       "      <td>1.814189e-04</td>\n",
       "    </tr>\n",
       "    <tr>\n",
       "      <td>C(WeekendWeekday_Weekend)</td>\n",
       "      <td>1.0</td>\n",
       "      <td>2.116058</td>\n",
       "      <td>2.116058</td>\n",
       "      <td>0.138718</td>\n",
       "      <td>7.095636e-01</td>\n",
       "    </tr>\n",
       "    <tr>\n",
       "      <td>C(year_2010)</td>\n",
       "      <td>1.0</td>\n",
       "      <td>893.668167</td>\n",
       "      <td>893.668167</td>\n",
       "      <td>58.584418</td>\n",
       "      <td>2.057955e-14</td>\n",
       "    </tr>\n",
       "    <tr>\n",
       "      <td>C(year_2011)</td>\n",
       "      <td>1.0</td>\n",
       "      <td>769.255188</td>\n",
       "      <td>769.255188</td>\n",
       "      <td>50.428525</td>\n",
       "      <td>1.287691e-12</td>\n",
       "    </tr>\n",
       "    <tr>\n",
       "      <td>C(year_2012)</td>\n",
       "      <td>1.0</td>\n",
       "      <td>308.746707</td>\n",
       "      <td>308.746707</td>\n",
       "      <td>20.239891</td>\n",
       "      <td>6.879311e-06</td>\n",
       "    </tr>\n",
       "    <tr>\n",
       "      <td>C(year_2013)</td>\n",
       "      <td>1.0</td>\n",
       "      <td>298.315342</td>\n",
       "      <td>298.315342</td>\n",
       "      <td>19.556063</td>\n",
       "      <td>9.833236e-06</td>\n",
       "    </tr>\n",
       "    <tr>\n",
       "      <td>C(year_2014)</td>\n",
       "      <td>1.0</td>\n",
       "      <td>938.869952</td>\n",
       "      <td>938.869952</td>\n",
       "      <td>61.547621</td>\n",
       "      <td>4.592403e-15</td>\n",
       "    </tr>\n",
       "    <tr>\n",
       "      <td>C(year_2015)</td>\n",
       "      <td>1.0</td>\n",
       "      <td>1429.280819</td>\n",
       "      <td>1429.280819</td>\n",
       "      <td>93.696506</td>\n",
       "      <td>4.227206e-22</td>\n",
       "    </tr>\n",
       "    <tr>\n",
       "      <td>Residual</td>\n",
       "      <td>16046.0</td>\n",
       "      <td>244771.561489</td>\n",
       "      <td>15.254366</td>\n",
       "      <td>NaN</td>\n",
       "      <td>NaN</td>\n",
       "    </tr>\n",
       "  </tbody>\n",
       "</table>\n",
       "</div>"
      ],
      "text/plain": [
       "                                   df         sum_sq      mean_sq          F  \\\n",
       "C(passenger_count_2)              1.0       8.346344     8.346344   0.547145   \n",
       "C(passenger_count_3)              1.0      10.606757    10.606757   0.695326   \n",
       "C(passenger_count_4)              1.0      83.366252    83.366252   5.465075   \n",
       "C(passenger_count_5)              1.0      32.290446    32.290446   2.116800   \n",
       "C(passenger_count_6)              1.0     195.173348   195.173348  12.794589   \n",
       "C(TimeInterval_EarlyMorning)      1.0     977.727525   977.727525  64.094929   \n",
       "C(TimeInterval_Evening)           1.0      24.815971    24.815971   1.626811   \n",
       "C(TimeInterval_LateNight)         1.0     255.360275   255.360275  16.740143   \n",
       "C(TimeInterval_Morning)           1.0      78.788397    78.788397   5.164973   \n",
       "C(Seasons_Spring)                 1.0      66.230823    66.230823   4.341762   \n",
       "C(Seasons_Summer)                 1.0      20.533260    20.533260   1.346058   \n",
       "C(Seasons_Winter)                 1.0     213.880378   213.880378  14.020928   \n",
       "C(WeekendWeekday_Weekend)         1.0       2.116058     2.116058   0.138718   \n",
       "C(year_2010)                      1.0     893.668167   893.668167  58.584418   \n",
       "C(year_2011)                      1.0     769.255188   769.255188  50.428525   \n",
       "C(year_2012)                      1.0     308.746707   308.746707  20.239891   \n",
       "C(year_2013)                      1.0     298.315342   298.315342  19.556063   \n",
       "C(year_2014)                      1.0     938.869952   938.869952  61.547621   \n",
       "C(year_2015)                      1.0    1429.280819  1429.280819  93.696506   \n",
       "Residual                      16046.0  244771.561489    15.254366        NaN   \n",
       "\n",
       "                                    PR(>F)  \n",
       "C(passenger_count_2)          4.594976e-01  \n",
       "C(passenger_count_3)          4.043711e-01  \n",
       "C(passenger_count_4)          1.941245e-02  \n",
       "C(passenger_count_5)          1.457102e-01  \n",
       "C(passenger_count_6)          3.486463e-04  \n",
       "C(TimeInterval_EarlyMorning)  1.266323e-15  \n",
       "C(TimeInterval_Evening)       2.021632e-01  \n",
       "C(TimeInterval_LateNight)     4.307380e-05  \n",
       "C(TimeInterval_Morning)       2.305998e-02  \n",
       "C(Seasons_Spring)             3.720421e-02  \n",
       "C(Seasons_Summer)             2.459857e-01  \n",
       "C(Seasons_Winter)             1.814189e-04  \n",
       "C(WeekendWeekday_Weekend)     7.095636e-01  \n",
       "C(year_2010)                  2.057955e-14  \n",
       "C(year_2011)                  1.287691e-12  \n",
       "C(year_2012)                  6.879311e-06  \n",
       "C(year_2013)                  9.833236e-06  \n",
       "C(year_2014)                  4.592403e-15  \n",
       "C(year_2015)                  4.227206e-22  \n",
       "Residual                               NaN  "
      ]
     },
     "execution_count": 122,
     "metadata": {},
     "output_type": "execute_result"
    }
   ],
   "source": [
    "model = ols('fare_amount ~ C(passenger_count_2)+C(passenger_count_3)+C(passenger_count_4)+C(passenger_count_5)+C(passenger_count_6)+C(TimeInterval_EarlyMorning)+C(TimeInterval_Evening)+C(TimeInterval_LateNight)+C(TimeInterval_Morning)+C(Seasons_Spring)+C(Seasons_Summer)+C(Seasons_Winter)+C(WeekendWeekday_Weekend)+C(year_2010)+C(year_2011)+C(year_2012)+C(year_2013)+C(year_2014)+C(year_2015)',data=train).fit()\n",
    "                \n",
    "aov_table = sm.stats.anova_lm(model)\n",
    "aov_table"
   ]
  },
  {
   "cell_type": "markdown",
   "metadata": {},
   "source": [
    "As we can observe that p-value for all the variables < 0.05. We are failed to accept the null hypothesis and we accept the Alternate Hypothesis by saying that mean of all categories in variable are not same."
   ]
  },
  {
   "cell_type": "markdown",
   "metadata": {},
   "source": [
    "##### Multicollinearity Test"
   ]
  },
  {
   "cell_type": "markdown",
   "metadata": {},
   "source": [
    "    =>VIF is always greater or equal to 1.\n",
    "    =>if VIF is 1 --- Not correlated to any of the variables.\n",
    "    =>if VIF is between 1-5 --- Moderately correlated.\n",
    "    =>if VIF is above 5 --- Highly correlated.\n",
    "    =>If there are multiple variables with VIF greater than 5, only remove the variable with the highest VIF.\n"
   ]
  },
  {
   "cell_type": "code",
   "execution_count": 123,
   "metadata": {},
   "outputs": [
    {
     "data": {
      "text/html": [
       "<div>\n",
       "<style scoped>\n",
       "    .dataframe tbody tr th:only-of-type {\n",
       "        vertical-align: middle;\n",
       "    }\n",
       "\n",
       "    .dataframe tbody tr th {\n",
       "        vertical-align: top;\n",
       "    }\n",
       "\n",
       "    .dataframe thead th {\n",
       "        text-align: right;\n",
       "    }\n",
       "</style>\n",
       "<table border=\"1\" class=\"dataframe\">\n",
       "  <thead>\n",
       "    <tr style=\"text-align: right;\">\n",
       "      <th></th>\n",
       "      <th>VIF</th>\n",
       "      <th>features</th>\n",
       "    </tr>\n",
       "  </thead>\n",
       "  <tbody>\n",
       "    <tr>\n",
       "      <td>0</td>\n",
       "      <td>15.279042</td>\n",
       "      <td>Intercept</td>\n",
       "    </tr>\n",
       "    <tr>\n",
       "      <td>1</td>\n",
       "      <td>1.040013</td>\n",
       "      <td>passenger_count_2[T.1]</td>\n",
       "    </tr>\n",
       "    <tr>\n",
       "      <td>2</td>\n",
       "      <td>1.019106</td>\n",
       "      <td>passenger_count_3[T.1]</td>\n",
       "    </tr>\n",
       "    <tr>\n",
       "      <td>3</td>\n",
       "      <td>1.011659</td>\n",
       "      <td>passenger_count_4[T.1]</td>\n",
       "    </tr>\n",
       "    <tr>\n",
       "      <td>4</td>\n",
       "      <td>1.024421</td>\n",
       "      <td>passenger_count_5[T.1]</td>\n",
       "    </tr>\n",
       "    <tr>\n",
       "      <td>5</td>\n",
       "      <td>1.017196</td>\n",
       "      <td>passenger_count_6[T.1]</td>\n",
       "    </tr>\n",
       "    <tr>\n",
       "      <td>6</td>\n",
       "      <td>1.643048</td>\n",
       "      <td>Seasons_Spring[T.1]</td>\n",
       "    </tr>\n",
       "    <tr>\n",
       "      <td>7</td>\n",
       "      <td>1.553378</td>\n",
       "      <td>Seasons_Summer[T.1]</td>\n",
       "    </tr>\n",
       "    <tr>\n",
       "      <td>8</td>\n",
       "      <td>1.588540</td>\n",
       "      <td>Seasons_Winter[T.1]</td>\n",
       "    </tr>\n",
       "    <tr>\n",
       "      <td>9</td>\n",
       "      <td>1.050953</td>\n",
       "      <td>WeekendWeekday_Weekend[T.1]</td>\n",
       "    </tr>\n",
       "    <tr>\n",
       "      <td>10</td>\n",
       "      <td>1.530262</td>\n",
       "      <td>TimeInterval_Evening[T.1]</td>\n",
       "    </tr>\n",
       "    <tr>\n",
       "      <td>11</td>\n",
       "      <td>1.563400</td>\n",
       "      <td>TimeInterval_Morning[T.1]</td>\n",
       "    </tr>\n",
       "    <tr>\n",
       "      <td>12</td>\n",
       "      <td>1.366456</td>\n",
       "      <td>TimeInterval_EarlyMorning[T.1]</td>\n",
       "    </tr>\n",
       "    <tr>\n",
       "      <td>13</td>\n",
       "      <td>1.426068</td>\n",
       "      <td>TimeInterval_LateNight[T.1]</td>\n",
       "    </tr>\n",
       "    <tr>\n",
       "      <td>14</td>\n",
       "      <td>1.696844</td>\n",
       "      <td>year_2010[T.1]</td>\n",
       "    </tr>\n",
       "    <tr>\n",
       "      <td>15</td>\n",
       "      <td>1.698962</td>\n",
       "      <td>year_2011[T.1]</td>\n",
       "    </tr>\n",
       "    <tr>\n",
       "      <td>16</td>\n",
       "      <td>1.720523</td>\n",
       "      <td>year_2012[T.1]</td>\n",
       "    </tr>\n",
       "    <tr>\n",
       "      <td>17</td>\n",
       "      <td>1.711068</td>\n",
       "      <td>year_2013[T.1]</td>\n",
       "    </tr>\n",
       "    <tr>\n",
       "      <td>18</td>\n",
       "      <td>1.665074</td>\n",
       "      <td>year_2014[T.1]</td>\n",
       "    </tr>\n",
       "    <tr>\n",
       "      <td>19</td>\n",
       "      <td>1.406584</td>\n",
       "      <td>year_2015[T.1]</td>\n",
       "    </tr>\n",
       "    <tr>\n",
       "      <td>20</td>\n",
       "      <td>1.013738</td>\n",
       "      <td>geodesic</td>\n",
       "    </tr>\n",
       "  </tbody>\n",
       "</table>\n",
       "</div>"
      ],
      "text/plain": [
       "          VIF                        features\n",
       "0   15.279042                       Intercept\n",
       "1    1.040013          passenger_count_2[T.1]\n",
       "2    1.019106          passenger_count_3[T.1]\n",
       "3    1.011659          passenger_count_4[T.1]\n",
       "4    1.024421          passenger_count_5[T.1]\n",
       "5    1.017196          passenger_count_6[T.1]\n",
       "6    1.643048             Seasons_Spring[T.1]\n",
       "7    1.553378             Seasons_Summer[T.1]\n",
       "8    1.588540             Seasons_Winter[T.1]\n",
       "9    1.050953     WeekendWeekday_Weekend[T.1]\n",
       "10   1.530262       TimeInterval_Evening[T.1]\n",
       "11   1.563400       TimeInterval_Morning[T.1]\n",
       "12   1.366456  TimeInterval_EarlyMorning[T.1]\n",
       "13   1.426068     TimeInterval_LateNight[T.1]\n",
       "14   1.696844                  year_2010[T.1]\n",
       "15   1.698962                  year_2011[T.1]\n",
       "16   1.720523                  year_2012[T.1]\n",
       "17   1.711068                  year_2013[T.1]\n",
       "18   1.665074                  year_2014[T.1]\n",
       "19   1.406584                  year_2015[T.1]\n",
       "20   1.013738                        geodesic"
      ]
     },
     "execution_count": 123,
     "metadata": {},
     "output_type": "execute_result"
    }
   ],
   "source": [
    "outcome, predictors = dmatrices('fare_amount ~ geodesic+passenger_count_2+passenger_count_3+passenger_count_4+passenger_count_5+passenger_count_6+Seasons_Spring+Seasons_Summer+Seasons_Winter+WeekendWeekday_Weekend+TimeInterval_Evening+TimeInterval_Morning+TimeInterval_EarlyMorning+TimeInterval_LateNight+year_2010+year_2011+year_2012+year_2013+year_2014+year_2015',train, return_type='dataframe')\n",
    "vif = pd.DataFrame()\n",
    "vif[\"VIF\"] = [variance_inflation_factor(predictors.values, i) for i in range(predictors.shape[1])]\n",
    "vif[\"features\"] = predictors.columns\n",
    "vif"
   ]
  },
  {
   "cell_type": "markdown",
   "metadata": {},
   "source": [
    "As VIF of all the variables are between 1 to 1.5 so we can say that there is no or very low multicollinearity"
   ]
  },
  {
   "cell_type": "markdown",
   "metadata": {},
   "source": [
    "#### Feature Scaling"
   ]
  },
  {
   "cell_type": "markdown",
   "metadata": {},
   "source": [
    "As this is Regression problem so we will be going to use Regression based Algorithms for that Let's standardize the data"
   ]
  },
  {
   "cell_type": "code",
   "execution_count": 124,
   "metadata": {},
   "outputs": [],
   "source": [
    "# Seperating dependent and independent variables from training dataset\n",
    "X=train.drop('fare_amount',axis=1).values # Independent Variable\n",
    "Y=train['fare_amount'].values # Dependent Variable"
   ]
  },
  {
   "cell_type": "code",
   "execution_count": 125,
   "metadata": {},
   "outputs": [],
   "source": [
    "#Splitting 80% of Training set and 20% of test set(for testing the accuracy of model),from train dataset\n",
    "X_train,X_test,Y_train,Y_test=train_test_split(X,Y,test_size=0.20,random_state=42)"
   ]
  },
  {
   "cell_type": "code",
   "execution_count": 126,
   "metadata": {},
   "outputs": [
    {
     "name": "stdout",
     "output_type": "stream",
     "text": [
      "(16066, 21) (12852, 20) (3214, 20) (12852,) (3214,)\n"
     ]
    }
   ],
   "source": [
    "print(train.shape,X_train.shape,X_test.shape,Y_train.shape,Y_test.shape)"
   ]
  },
  {
   "cell_type": "code",
   "execution_count": 127,
   "metadata": {},
   "outputs": [],
   "source": [
    "# Let's Standartize the variables.\n",
    "sc=StandardScaler()\n",
    "X_train = sc.fit_transform(X_train)\n",
    "X_test=sc.transform(X_test)"
   ]
  },
  {
   "cell_type": "markdown",
   "metadata": {},
   "source": [
    "### Model Development"
   ]
  },
  {
   "cell_type": "markdown",
   "metadata": {},
   "source": [
    "#### 1. Multiple Regression"
   ]
  },
  {
   "cell_type": "code",
   "execution_count": 128,
   "metadata": {},
   "outputs": [
    {
     "name": "stdout",
     "output_type": "stream",
     "text": [
      "Tuned Decision reg Parameters: {'copy_X': True, 'fit_intercept': True}\n",
      "Best score is 0.5070409739150635\n"
     ]
    }
   ],
   "source": [
    "# Set up the parameters\n",
    "params={'copy_X':[True,False],'fit_intercept':[True,False]}\n",
    "\n",
    "#Formulating reg object of LinearRegression() class\n",
    "reg=LinearRegression()\n",
    "\n",
    "#Declaring rer_cv with GridSearchCV for Hyperparameter Tuning.\n",
    "reg_cv= GridSearchCV(reg,params,cv=5,scoring='r2')\n",
    "\n",
    "# Fit to dataset(Dependent and Independent Variable)\n",
    "reg_cv.fit(X,Y)\n",
    "\n",
    "# Printing the tuned parameters and score\n",
    "print(\"Tuned Decision reg Parameters: {}\".format(reg_cv.best_params_))\n",
    "print(\"Best score is {}\".format(reg_cv.best_score_))"
   ]
  },
  {
   "cell_type": "code",
   "execution_count": 129,
   "metadata": {},
   "outputs": [],
   "source": [
    "#Function  for Root mean square logarithmic error\n",
    "def rmsle(y,y_hat):\n",
    "    calc = metrics.mean_squared_log_error(y,y_hat)\n",
    "    return np.sqrt(calc)\n",
    "\n",
    "#Function for R^2, Adj R^2, MAPE, MSE, RMSE\n",
    "def scores(y, y_hat):\n",
    "    print('r square :{}', metrics.r2_score(y, y_hat))\n",
    "    print('Adjusted r square:{}'.format(1 - (1-metrics.r2_score(y, y_hat))*(len(y)-1)/(len(y)-X_train.shape[1]-1)))\n",
    "    print('MAPE:{}'.format(np.mean(np.abs((y - y_hat) / y))*100))\n",
    "    print('MSE:', metrics.mean_squared_error(y, y_hat))\n",
    "    print('RMSE:', np.sqrt(metrics.mean_squared_error(y, y_hat))) \n",
    "    \n",
    "#Function to predict Error rate of model by providing test data as input\n",
    "def test_scores(model):\n",
    "    print('<<<------------------- Training Data Score --------------------->')\n",
    "    print()\n",
    "    #Predicting result on Training data\n",
    "    Y_pred = model.predict(X_train)\n",
    "    scores(Y_train,Y_pred)\n",
    "    print('RMSLE:',rmsle(Y_train,Y_pred))\n",
    "    print()\n",
    "    print('<<<------------------- Test Data Score --------------------->')\n",
    "    print()\n",
    "    # Evaluating on Test Set\n",
    "    Y_pred = model.predict(X_test)\n",
    "    scores(Y_test,Y_pred)\n",
    "    print('RMSLE:',rmsle(Y_test,Y_pred))"
   ]
  },
  {
   "cell_type": "code",
   "execution_count": 131,
   "metadata": {},
   "outputs": [
    {
     "name": "stdout",
     "output_type": "stream",
     "text": [
      "R^2: 0.46223579038628354\n",
      "Root Mean Squared Error: 2.8842542763602617\n",
      "<<<------------------- Training Data Score --------------------->\n",
      "\n",
      "r square :{} 0.5197146849974894\n",
      "Adjusted r square:0.5189660522876421\n",
      "MAPE:22.233058991740187\n",
      "MSE: 7.536048003500907\n",
      "RMSE: 2.7451863331112714\n",
      "RMSLE: 0.25569178176478835\n",
      "\n",
      "<<<------------------- Test Data Score --------------------->\n",
      "\n",
      "r square :{} 0.4622357903862835\n",
      "Adjusted r square:0.4588673957128496\n",
      "MAPE:22.806807724377723\n",
      "MSE: 8.318922730702456\n",
      "RMSE: 2.8842542763602617\n",
      "RMSLE: 0.26739630532904346\n",
      "[ 1.73838795e-02  1.80280975e-02  2.94409535e-02  2.26119146e-02\n",
      "  4.20912742e-02 -4.80060395e-02 -7.38288876e-02 -1.38332005e-01\n",
      " -1.46425420e-01 -1.27303696e-01 -1.63133692e-01 -1.49684646e-01\n",
      " -8.18465541e-02 -3.82046325e-02  2.60267542e-03  1.03321218e-01\n",
      "  3.65912505e-01  3.79877800e-01  3.55687588e-01  2.79571174e+00]\n"
     ]
    },
    {
     "data": {
      "image/png": "[encoded data removed]",
      "text/plain": [
       "<Figure size 1080x360 with 1 Axes>"
      ]
     },
     "metadata": {
      "needs_background": "light"
     },
     "output_type": "display_data"
    }
   ],
   "source": [
    "# Create the regressor: reg_all\n",
    "reg_all = LinearRegression(copy_X= True, fit_intercept=True)\n",
    "\n",
    "# Fit the regressor to the training data\n",
    "reg_all.fit(X_train,Y_train)\n",
    "\n",
    "# Predict on the test data: y_pred\n",
    "Y_pred = reg_all.predict(X_test)\n",
    "\n",
    "# Compute and print R^2 and RMSE\n",
    "print(\"R^2: {}\".format(reg_all.score(X_test, Y_test)))\n",
    "rmse = np.sqrt(mean_squared_error(Y_test,Y_pred))\n",
    "print(\"Root Mean Squared Error: {}\".format(rmse))\n",
    "test_scores(reg_all)\n",
    "\n",
    "# Compute and print the coefficients\n",
    "reg_coef = reg_all.coef_\n",
    "print(reg_coef)\n",
    "\n",
    "# Plot the coefficients\n",
    "plt.figure(figsize=(15,5))\n",
    "plt.plot(range(len(test.columns)), reg_coef)\n",
    "plt.xticks(range(len(test.columns)), test.columns.values, rotation=60)\n",
    "plt.margins(0.02)\n",
    "plt.show()"
   ]
  },
  {
   "cell_type": "code",
   "execution_count": 133,
   "metadata": {},
   "outputs": [
    {
     "name": "stdout",
     "output_type": "stream",
     "text": [
      "[-7.40342794 -7.47453096 -7.33752025 -8.1306949  -8.18576482]\n",
      "Average 5-Fold CV Score: -7.706387774138254\n"
     ]
    }
   ],
   "source": [
    "# Applying Cross validation \n",
    "\n",
    "# Create a linear regression object: reg\n",
    "reg = LinearRegression()\n",
    "\n",
    "# Compute 5-fold cross-validation scores: cv_scores\n",
    "cv_scores = cross_val_score(reg,X,Y,cv=5,scoring='neg_mean_squared_error')\n",
    "\n",
    "# Print the 5-fold cross-validation scores\n",
    "print(cv_scores)\n",
    "\n",
    "print(\"Average 5-Fold CV Score: {}\".format(np.mean(cv_scores)))"
   ]
  },
  {
   "cell_type": "markdown",
   "metadata": {},
   "source": [
    "##### 2.Ridge Regression"
   ]
  },
  {
   "cell_type": "code",
   "execution_count": 139,
   "metadata": {},
   "outputs": [
    {
     "name": "stdout",
     "output_type": "stream",
     "text": [
      "Tuned Decision ridge Parameters: {'alpha': 1.0, 'max_iter': 500, 'normalize': False}\n",
      "Best score is 0.5070426407281174\n"
     ]
    }
   ],
   "source": [
    "# Setup the parameters and distributions to sample from: param_dist\n",
    "param_dist = {'alpha':np.logspace(-4,0,50),'normalize':[True,False],'max_iter':range(500,5000,500)}\n",
    "\n",
    "# Assign a ridge classifier: ridge\n",
    "ridge = Ridge()\n",
    "\n",
    "# Assign the gridSearchCV object: ridge_reg\n",
    "ridge_reg= GridSearchCV(ridge, param_dist, cv=5,scoring='r2')\n",
    "\n",
    "# Fit it to the data\n",
    "ridge_reg.fit(X, Y)\n",
    "\n",
    "# Print the tuned parameters and score\n",
    "print(\"Tuned Decision ridge Parameters: {}\".format(ridge_reg.best_params_))\n",
    "print(\"Best score is {}\".format(ridge_reg.best_score_))"
   ]
  },
  {
   "cell_type": "code",
   "execution_count": 142,
   "metadata": {},
   "outputs": [
    {
     "name": "stdout",
     "output_type": "stream",
     "text": [
      "[ 1.73826188e-02  1.80267990e-02  2.94407235e-02  2.26035383e-02\n",
      "  4.20957847e-02 -4.79641807e-02 -7.37927413e-02 -1.38284148e-01\n",
      " -1.46388271e-01 -1.27256597e-01 -1.63092730e-01 -1.49643681e-01\n",
      " -8.18333918e-02 -3.82726925e-02  2.53293362e-03  1.03243115e-01\n",
      "  3.65821297e-01  3.79788693e-01  3.55602957e-01  2.79549114e+00]\n"
     ]
    },
    {
     "data": {
      "image/png": "[encoded data removed]",
      "text/plain": [
       "<Figure size 1080x360 with 1 Axes>"
      ]
     },
     "metadata": {
      "needs_background": "light"
     },
     "output_type": "display_data"
    },
    {
     "name": "stdout",
     "output_type": "stream",
     "text": [
      "<<<------------------- Training Data Score --------------------->\n",
      "\n",
      "r square :{} 0.5197146812471293\n",
      "Adjusted r square:0.5189660485314362\n",
      "MAPE:22.23379965610682\n",
      "MSE: 7.536048062346957\n",
      "RMSE: 2.7451863438293143\n",
      "RMSLE: 0.2556931429860997\n",
      "\n",
      "<<<------------------- Test Data Score --------------------->\n",
      "\n",
      "r square :{} 0.4622416922671747\n",
      "Adjusted r square:0.45887333456136314\n",
      "MAPE:22.80752256792504\n",
      "MSE: 8.318831431783297\n",
      "RMSE: 2.8842384491895423\n",
      "RMSLE: 0.2673965786798506\n"
     ]
    }
   ],
   "source": [
    "# Initialize a ridge regressor with best tuned params: ridge\n",
    "ridge = Ridge(alpha=1.0, normalize=False, max_iter = 500)\n",
    "\n",
    "# Fit the regressor to the data\n",
    "ridge.fit(X_train,Y_train)\n",
    "\n",
    "# Compute and print the coefficients\n",
    "ridge_coef = ridge.coef_\n",
    "print(ridge_coef)\n",
    "\n",
    "# Plot the coefficients\n",
    "plt.figure(figsize=(15,5))\n",
    "plt.plot(range(len(test.columns)), ridge_coef)\n",
    "plt.xticks(range(len(test.columns)), test.columns.values, rotation=60)\n",
    "plt.margins(0.02)\n",
    "plt.show()\n",
    "test_scores(ridge)"
   ]
  },
  {
   "cell_type": "markdown",
   "metadata": {},
   "source": [
    "##### 3. Lasso Regression"
   ]
  },
  {
   "cell_type": "code",
   "execution_count": 143,
   "metadata": {},
   "outputs": [
    {
     "name": "stdout",
     "output_type": "stream",
     "text": [
      "Tuned Decision lasso Parameters: {'alpha': 0.0004498432668969444, 'max_iter': 500, 'normalize': False}\n",
      "Best score is 0.5070593646184973\n"
     ]
    }
   ],
   "source": [
    "# Setup the parameters and distributions to sample from: param_dist\n",
    "param_dist = {'alpha':np.logspace(-4, 0, 50),\n",
    "          'normalize':[True,False],\n",
    "             'max_iter':range(500,5000,500)}\n",
    "# Initialize a lasso classifier: lasso\n",
    "lasso = Lasso()\n",
    "\n",
    "# Initialize the gridSearchCV object: lasso_reg\n",
    "lasso_reg = GridSearchCV(lasso, param_dist, cv=5,scoring='r2')\n",
    "\n",
    "# Fit it to the data\n",
    "lasso_reg.fit(X, Y)\n",
    "\n",
    "# Print the tuned parameters and score\n",
    "print(\"Tuned Decision lasso Parameters: {}\".format(lasso_reg.best_params_))\n",
    "print(\"Best score is {}\".format(lasso_reg.best_score_))"
   ]
  },
  {
   "cell_type": "code",
   "execution_count": 144,
   "metadata": {},
   "outputs": [
    {
     "name": "stdout",
     "output_type": "stream",
     "text": [
      "[ 1.67286575e-02  1.74237077e-02  2.88958034e-02  2.19358506e-02\n",
      "  4.17059282e-02 -4.66220441e-02 -7.21814596e-02 -1.36740492e-01\n",
      " -1.44809191e-01 -1.25698435e-01 -1.61632849e-01 -1.48110294e-01\n",
      " -8.12548795e-02 -3.93402843e-02  7.47258893e-04  1.01396754e-01\n",
      "  3.64057884e-01  3.78057086e-01  3.53935434e-01  2.79517614e+00]\n"
     ]
    },
    {
     "data": {
      "image/png": "[encoded data removed]",
      "text/plain": [
       "<Figure size 1080x360 with 1 Axes>"
      ]
     },
     "metadata": {
      "needs_background": "light"
     },
     "output_type": "display_data"
    },
    {
     "name": "stdout",
     "output_type": "stream",
     "text": [
      "<<<------------------- Training Data Score --------------------->\n",
      "\n",
      "r square :{} 0.5197140231631076\n",
      "Adjusted r square:0.5189653894216426\n",
      "MAPE:22.234800115752122\n",
      "MSE: 7.536058388194163\n",
      "RMSE: 2.745188224547483\n",
      "RMSLE: 0.2556897583393822\n",
      "\n",
      "<<<------------------- Test Data Score --------------------->\n",
      "\n",
      "r square :{} 0.46227737990568774\n",
      "Adjusted r square:0.4589092457366034\n",
      "MAPE:22.80896430394694\n",
      "MSE: 8.31827936323369\n",
      "RMSE: 2.88414274321395\n",
      "RMSLE: 0.26738176347202347\n"
     ]
    }
   ],
   "source": [
    "# Initialize a lasso regressor with best tuned params: lasso\n",
    "lasso = Lasso(alpha=0.0004498432668969444, normalize=False, max_iter = 500)\n",
    "\n",
    "# Fit the regressor to the data\n",
    "lasso.fit(X_train,Y_train)\n",
    "\n",
    "# Compute and print the coefficients\n",
    "lasso_coef = lasso.coef_\n",
    "print(lasso_coef)\n",
    "\n",
    "# Plot the coefficients\n",
    "plt.figure(figsize=(15,5))\n",
    "plt.plot(range(len(test.columns)), lasso_coef)\n",
    "plt.xticks(range(len(test.columns)), test.columns.values, rotation=60)\n",
    "plt.margins(0.02)\n",
    "# plt.savefig('ridge coefficients')\n",
    "plt.show()\n",
    "test_scores(lasso)"
   ]
  },
  {
   "cell_type": "markdown",
   "metadata": {},
   "source": [
    "##### 4. Decision Tree Regression"
   ]
  },
  {
   "cell_type": "code",
   "execution_count": 148,
   "metadata": {},
   "outputs": [
    {
     "name": "stdout",
     "output_type": "stream",
     "text": [
      "Tuned Decision Tree Parameters: {'max_depth': 6, 'min_samples_split': 12}\n",
      "Best score is 0.5585217838169321\n"
     ]
    }
   ],
   "source": [
    "# Setup the parameters and distributions to sample from: param_dist\n",
    "param_dist = {'max_depth': range(2,16,2),\n",
    "              'min_samples_split': range(2,16,2)}\n",
    "\n",
    "# Initialize a Decision Tree classifier: D_tree\n",
    "D_tree = DecisionTreeRegressor()\n",
    "\n",
    "# Instantiate the gridSearchCV object: tree_cv\n",
    "tree_reg = GridSearchCV(D_tree, param_dist, cv=5)\n",
    "\n",
    "# Fit it to the data\n",
    "tree_reg.fit(X, Y)\n",
    "\n",
    "# Print the tuned parameters and score\n",
    "print(\"Tuned Decision Tree Parameters: {}\".format(tree_reg.best_params_))\n",
    "print(\"Best score is {}\".format(tree_reg.best_score_))"
   ]
  },
  {
   "cell_type": "code",
   "execution_count": 150,
   "metadata": {},
   "outputs": [
    {
     "name": "stdout",
     "output_type": "stream",
     "text": [
      "[0.00000000e+00 0.00000000e+00 6.14277970e-04 2.52590595e-04\n",
      " 5.99015884e-04 3.86093883e-03 9.29305538e-04 2.89151356e-04\n",
      " 2.50813862e-04 6.08323436e-04 0.00000000e+00 3.21512870e-04\n",
      " 0.00000000e+00 0.00000000e+00 0.00000000e+00 0.00000000e+00\n",
      " 1.29713213e-02 1.54532749e-02 1.27337620e-02 9.51115711e-01]\n"
     ]
    },
    {
     "data": {
      "image/png": "[encoded data removed]",
      "text/plain": [
       "<Figure size 1440x720 with 1 Axes>"
      ]
     },
     "metadata": {
      "needs_background": "light"
     },
     "output_type": "display_data"
    },
    {
     "name": "stdout",
     "output_type": "stream",
     "text": [
      "<<<------------------- Training Data Score --------------------->\n",
      "\n",
      "r square :{} 0.5856433612259532\n",
      "Adjusted r square:0.5849974931895194\n",
      "MAPE:20.834477529447312\n",
      "MSE: 6.501576089941827\n",
      "RMSE: 2.5498188347296025\n",
      "RMSLE: 0.23277827800294\n",
      "\n",
      "<<<------------------- Test Data Score --------------------->\n",
      "\n",
      "r square :{} 0.5287820660109791\n",
      "Adjusted r square:0.5258304973671393\n",
      "MAPE:21.848151073799688\n",
      "MSE: 7.28948768269968\n",
      "RMSE: 2.699905124758957\n",
      "RMSLE: 0.24668134270818431\n"
     ]
    }
   ],
   "source": [
    "# Initialize a tree regressor: tree\n",
    "D_tree = DecisionTreeRegressor(max_depth= 6, min_samples_split=12)\n",
    "\n",
    "# Fit the regressor to the data\n",
    "D_tree.fit(X_train,Y_train)\n",
    "\n",
    "# Compute and print the coefficients\n",
    "D_tree_features = D_tree.feature_importances_\n",
    "print(D_tree_features)\n",
    "\n",
    "# Sort test importances in descending order\n",
    "indices = np.argsort(D_tree_features)[::1]\n",
    "\n",
    "# Rearrange test names so they match the sorted test importances\n",
    "names = [test.columns[i] for i in indices]\n",
    "\n",
    "# Creating plot\n",
    "fig = plt.figure(figsize=(20,10))\n",
    "plt.title(\"test Importance\")\n",
    "\n",
    "# Add horizontal bars\n",
    "plt.barh(range(pd.DataFrame(X_train).shape[1]),D_tree_features[indices],align = 'center')\n",
    "plt.yticks(range(pd.DataFrame(X_train).shape[1]), names)\n",
    "plt.show()\n",
    "\n",
    "# Make predictions and cal error\n",
    "test_scores(D_tree)"
   ]
  },
  {
   "cell_type": "markdown",
   "metadata": {},
   "source": [
    "##### 5. Random Forest Regressor"
   ]
  },
  {
   "cell_type": "code",
   "execution_count": 155,
   "metadata": {},
   "outputs": [
    {
     "name": "stdout",
     "output_type": "stream",
     "text": [
      "Tuned Random Forest Parameters: {'n_estimators': 200, 'min_samples_split': 2, 'min_samples_leaf': 3, 'max_features': 'log2', 'max_depth': 16, 'bootstrap': True}\n",
      "Best score is 0.557878668176511\n"
     ]
    }
   ],
   "source": [
    "# Create the random grid\n",
    "random_grid = {'n_estimators': range(100,500,100),'max_depth': range(5,20,1),'min_samples_leaf':range(2,5,1),'max_features':['auto','sqrt','log2'],'bootstrap': [True, False],'min_samples_split': range(2,5,1)}\n",
    "\n",
    "# Initialize a Decision Forest classifier: Forest\n",
    "Forest = RandomForestRegressor()\n",
    "\n",
    "# Instantiate the gridSearchCV object: Forest_cv\n",
    "Forest_reg = RandomizedSearchCV(Forest, random_grid, cv=5)\n",
    "\n",
    "# Fit it to the data\n",
    "Forest_reg.fit(X,Y)\n",
    "\n",
    "# Print the tuned parameters and score\n",
    "print(\"Tuned Random Forest Parameters: {}\".format(Forest_reg.best_params_))\n",
    "print(\"Best score is {}\".format(Forest_reg.best_score_))"
   ]
  },
  {
   "cell_type": "code",
   "execution_count": 156,
   "metadata": {},
   "outputs": [
    {
     "name": "stdout",
     "output_type": "stream",
     "text": [
      "[0.00650205 0.00355618 0.00276709 0.00436663 0.00228353 0.00725465\n",
      " 0.00716437 0.00707765 0.00648958 0.00834616 0.00750227 0.00758881\n",
      " 0.0106612  0.00676466 0.00501395 0.00469631 0.01028809 0.01223553\n",
      " 0.00852622 0.87091506]\n"
     ]
    },
    {
     "data": {
      "image/png": "[encoded data removed]",
      "text/plain": [
       "<Figure size 1440x720 with 1 Axes>"
      ]
     },
     "metadata": {
      "needs_background": "light"
     },
     "output_type": "display_data"
    },
    {
     "name": "stdout",
     "output_type": "stream",
     "text": [
      "<<<------------------- Training Data Score --------------------->\n",
      "\n",
      "r square :{} 0.6596721696928558\n",
      "Adjusted r square:0.6591416922081591\n",
      "MAPE:19.431207246723627\n",
      "MSE: 5.340006837620139\n",
      "RMSE: 2.3108454811216044\n",
      "RMSLE: 0.21322938272667089\n",
      "\n",
      "<<<------------------- Test Data Score --------------------->\n",
      "\n",
      "r square :{} 0.5307619205008856\n",
      "Adjusted r square:0.5278227530752726\n",
      "MAPE:22.640701938873963\n",
      "MSE: 7.258860399914541\n",
      "RMSE: 2.6942272361318267\n",
      "RMSLE: 0.24964786477329926\n"
     ]
    }
   ],
   "source": [
    "# Initialize a Forest regressor: Forest\n",
    "Forest = RandomForestRegressor(n_estimators=200, min_samples_split= 2, min_samples_leaf=3, max_features='log2', max_depth=16, bootstrap=True)\n",
    "\n",
    "# Fit the regressor to the data\n",
    "Forest.fit(X_train,Y_train)\n",
    "\n",
    "# Compute and print the coefficients\n",
    "Forest_features = Forest.feature_importances_\n",
    "print(Forest_features)\n",
    "\n",
    "# Sort feature importances in descending order\n",
    "indices = np.argsort(Forest_features)[::1]\n",
    "\n",
    "# Rearrange feature names so they match the sorted feature importances\n",
    "names = [test.columns[i] for i in indices]\n",
    "\n",
    "# Creating plot\n",
    "fig = plt.figure(figsize=(20,10))\n",
    "plt.title(\"Feature Importance\")\n",
    "\n",
    "# Add horizontal bars\n",
    "plt.barh(range(pd.DataFrame(X_train).shape[1]),Forest_features[indices],align = 'center')\n",
    "plt.yticks(range(pd.DataFrame(X_train).shape[1]), names)\n",
    "plt.savefig('Random forest feature importance')\n",
    "plt.show()\n",
    "test_scores(Forest)\n"
   ]
  },
  {
   "cell_type": "code",
   "execution_count": 157,
   "metadata": {},
   "outputs": [
    {
     "name": "stdout",
     "output_type": "stream",
     "text": [
      "[-6.67732762 -6.46167564 -6.55038413 -6.9730539  -6.972281  ]\n",
      "Average 5-Fold CV Score: -6.7269444575011\n"
     ]
    }
   ],
   "source": [
    "# Create a random forest regression object: Forest\n",
    "Forest = RandomForestRegressor(n_estimators=400, min_samples_split= 2, min_samples_leaf=4, max_features='auto', max_depth=12, bootstrap=True)\n",
    "\n",
    "# Compute 5-fold cross-validation scores: cv_scores\n",
    "cv_scores = cross_val_score(Forest,X,Y,cv=5,scoring='neg_mean_squared_error')\n",
    "\n",
    "# Print the 5-fold cross-validation scores\n",
    "print(cv_scores)\n",
    "\n",
    "print(\"Average 5-Fold CV Score: {}\".format(np.mean(cv_scores)))"
   ]
  },
  {
   "cell_type": "markdown",
   "metadata": {},
   "source": [
    "##### 6. Boosting Method: XGBoost to improve accuracy"
   ]
  },
  {
   "cell_type": "code",
   "execution_count": 161,
   "metadata": {},
   "outputs": [],
   "source": [
    "data_dmatrix = xgb.DMatrix(data=X,label=Y)\n",
    "dtrain = xgb.DMatrix(X_train, label=Y_train)\n",
    "dtest = xgb.DMatrix(X_test)"
   ]
  },
  {
   "cell_type": "code",
   "execution_count": 162,
   "metadata": {},
   "outputs": [
    {
     "data": {
      "text/plain": [
       "(<xgboost.core.DMatrix at 0x1fa6b211188>,\n",
       " <xgboost.core.DMatrix at 0x1fa6ab3e888>,\n",
       " <xgboost.core.DMatrix at 0x1fa6ab3eb48>)"
      ]
     },
     "execution_count": 162,
     "metadata": {},
     "output_type": "execute_result"
    }
   ],
   "source": [
    "dtrain,dtest,data_dmatrix"
   ]
  },
  {
   "cell_type": "code",
   "execution_count": 163,
   "metadata": {},
   "outputs": [
    {
     "name": "stdout",
     "output_type": "stream",
     "text": [
      "[17:57:05] WARNING: C:/Jenkins/workspace/xgboost-win64_release_0.90/src/objective/regression_obj.cu:152: reg:linear is now deprecated in favor of reg:squarederror.\n",
      "[17:57:05] WARNING: C:/Jenkins/workspace/xgboost-win64_release_0.90/src/objective/regression_obj.cu:152: reg:linear is now deprecated in favor of reg:squarederror.\n",
      "[17:57:05] WARNING: C:/Jenkins/workspace/xgboost-win64_release_0.90/src/objective/regression_obj.cu:152: reg:linear is now deprecated in favor of reg:squarederror.\n",
      "[17:57:05] WARNING: C:/Jenkins/workspace/xgboost-win64_release_0.90/src/objective/regression_obj.cu:152: reg:linear is now deprecated in favor of reg:squarederror.\n",
      "[17:57:05] WARNING: C:/Jenkins/workspace/xgboost-win64_release_0.90/src/objective/regression_obj.cu:152: reg:linear is now deprecated in favor of reg:squarederror.\n"
     ]
    },
    {
     "data": {
      "text/html": [
       "<div>\n",
       "<style scoped>\n",
       "    .dataframe tbody tr th:only-of-type {\n",
       "        vertical-align: middle;\n",
       "    }\n",
       "\n",
       "    .dataframe tbody tr th {\n",
       "        vertical-align: top;\n",
       "    }\n",
       "\n",
       "    .dataframe thead th {\n",
       "        text-align: right;\n",
       "    }\n",
       "</style>\n",
       "<table border=\"1\" class=\"dataframe\">\n",
       "  <thead>\n",
       "    <tr style=\"text-align: right;\">\n",
       "      <th></th>\n",
       "      <th>train-rmse-mean</th>\n",
       "      <th>train-rmse-std</th>\n",
       "      <th>test-rmse-mean</th>\n",
       "      <th>test-rmse-std</th>\n",
       "    </tr>\n",
       "  </thead>\n",
       "  <tbody>\n",
       "    <tr>\n",
       "      <td>0</td>\n",
       "      <td>8.376319</td>\n",
       "      <td>0.017950</td>\n",
       "      <td>8.377211</td>\n",
       "      <td>0.075751</td>\n",
       "    </tr>\n",
       "    <tr>\n",
       "      <td>1</td>\n",
       "      <td>7.662802</td>\n",
       "      <td>0.028099</td>\n",
       "      <td>7.664917</td>\n",
       "      <td>0.112267</td>\n",
       "    </tr>\n",
       "    <tr>\n",
       "      <td>2</td>\n",
       "      <td>7.061115</td>\n",
       "      <td>0.052137</td>\n",
       "      <td>7.063428</td>\n",
       "      <td>0.129072</td>\n",
       "    </tr>\n",
       "    <tr>\n",
       "      <td>3</td>\n",
       "      <td>6.509344</td>\n",
       "      <td>0.056577</td>\n",
       "      <td>6.511895</td>\n",
       "      <td>0.133271</td>\n",
       "    </tr>\n",
       "    <tr>\n",
       "      <td>4</td>\n",
       "      <td>6.057272</td>\n",
       "      <td>0.062751</td>\n",
       "      <td>6.059791</td>\n",
       "      <td>0.138374</td>\n",
       "    </tr>\n",
       "  </tbody>\n",
       "</table>\n",
       "</div>"
      ],
      "text/plain": [
       "   train-rmse-mean  train-rmse-std  test-rmse-mean  test-rmse-std\n",
       "0         8.376319        0.017950        8.377211       0.075751\n",
       "1         7.662802        0.028099        7.664917       0.112267\n",
       "2         7.061115        0.052137        7.063428       0.129072\n",
       "3         6.509344        0.056577        6.511895       0.133271\n",
       "4         6.057272        0.062751        6.059791       0.138374"
      ]
     },
     "execution_count": 163,
     "metadata": {},
     "output_type": "execute_result"
    }
   ],
   "source": [
    "params = {\"objective\":\"reg:linear\",'colsample_bytree': 0.3,'learning_rate': 0.1,'max_depth': 5, 'alpha': 10}\n",
    "\n",
    "cv_results = xgb.cv(dtrain=data_dmatrix, params=params, nfold=5,num_boost_round=50,early_stopping_rounds=10, metrics=\"rmse\", as_pandas=True, seed=123)\n",
    "cv_results.head()"
   ]
  },
  {
   "cell_type": "code",
   "execution_count": 164,
   "metadata": {},
   "outputs": [
    {
     "name": "stdout",
     "output_type": "stream",
     "text": [
      "49    2.703599\n",
      "Name: test-rmse-mean, dtype: float64\n"
     ]
    }
   ],
   "source": [
    "# final boosting round metric\n",
    "print((cv_results[\"test-rmse-mean\"]).tail(1))"
   ]
  },
  {
   "cell_type": "code",
   "execution_count": 165,
   "metadata": {},
   "outputs": [
    {
     "name": "stdout",
     "output_type": "stream",
     "text": [
      "[17:59:30] WARNING: C:/Jenkins/workspace/xgboost-win64_release_0.90/src/objective/regression_obj.cu:152: reg:linear is now deprecated in favor of reg:squarederror.\n",
      "<<<------------------- Training Data Score --------------------->\n",
      "\n",
      "r square :{} 0.5964564722821161\n",
      "Adjusted r square:0.5958274589118131\n",
      "MAPE:20.2756004334339\n",
      "MSE: 6.33191001554602\n",
      "RMSE: 2.516328677964391\n",
      "RMSLE: 0.22845139677243748\n",
      "\n",
      "<<<------------------- Test Data Score --------------------->\n",
      "\n",
      "r square :{} 0.5384893307345364\n",
      "Adjusted r square:0.5355985655026827\n",
      "MAPE:21.227599718606278\n",
      "MSE: 7.139321524896516\n",
      "RMSE: 2.671950883698373\n",
      "RMSLE: 0.24328134544428948\n"
     ]
    }
   ],
   "source": [
    "Xgb = XGBRegressor()\n",
    "Xgb.fit(X_train,Y_train)\n",
    "test_scores(Xgb)"
   ]
  },
  {
   "cell_type": "code",
   "execution_count": 166,
   "metadata": {},
   "outputs": [
    {
     "name": "stdout",
     "output_type": "stream",
     "text": [
      "[18:02:12] WARNING: C:/Jenkins/workspace/xgboost-win64_release_0.90/src/objective/regression_obj.cu:152: reg:linear is now deprecated in favor of reg:squarederror.\n",
      "[18:02:19] WARNING: C:/Jenkins/workspace/xgboost-win64_release_0.90/src/objective/regression_obj.cu:152: reg:linear is now deprecated in favor of reg:squarederror.\n",
      "[18:02:27] WARNING: C:/Jenkins/workspace/xgboost-win64_release_0.90/src/objective/regression_obj.cu:152: reg:linear is now deprecated in favor of reg:squarederror.\n",
      "[18:02:34] WARNING: C:/Jenkins/workspace/xgboost-win64_release_0.90/src/objective/regression_obj.cu:152: reg:linear is now deprecated in favor of reg:squarederror.\n",
      "[18:02:42] WARNING: C:/Jenkins/workspace/xgboost-win64_release_0.90/src/objective/regression_obj.cu:152: reg:linear is now deprecated in favor of reg:squarederror.\n",
      "[18:02:49] WARNING: C:/Jenkins/workspace/xgboost-win64_release_0.90/src/objective/regression_obj.cu:152: reg:linear is now deprecated in favor of reg:squarederror.\n",
      "[18:02:56] WARNING: C:/Jenkins/workspace/xgboost-win64_release_0.90/src/objective/regression_obj.cu:152: reg:linear is now deprecated in favor of reg:squarederror.\n",
      "[18:03:02] WARNING: C:/Jenkins/workspace/xgboost-win64_release_0.90/src/objective/regression_obj.cu:152: reg:linear is now deprecated in favor of reg:squarederror.\n",
      "[18:03:09] WARNING: C:/Jenkins/workspace/xgboost-win64_release_0.90/src/objective/regression_obj.cu:152: reg:linear is now deprecated in favor of reg:squarederror.\n",
      "[18:03:15] WARNING: C:/Jenkins/workspace/xgboost-win64_release_0.90/src/objective/regression_obj.cu:152: reg:linear is now deprecated in favor of reg:squarederror.\n",
      "[18:03:22] WARNING: C:/Jenkins/workspace/xgboost-win64_release_0.90/src/objective/regression_obj.cu:152: reg:linear is now deprecated in favor of reg:squarederror.\n",
      "[18:03:32] WARNING: C:/Jenkins/workspace/xgboost-win64_release_0.90/src/objective/regression_obj.cu:152: reg:linear is now deprecated in favor of reg:squarederror.\n",
      "[18:03:42] WARNING: C:/Jenkins/workspace/xgboost-win64_release_0.90/src/objective/regression_obj.cu:152: reg:linear is now deprecated in favor of reg:squarederror.\n",
      "[18:03:52] WARNING: C:/Jenkins/workspace/xgboost-win64_release_0.90/src/objective/regression_obj.cu:152: reg:linear is now deprecated in favor of reg:squarederror.\n",
      "[18:04:02] WARNING: C:/Jenkins/workspace/xgboost-win64_release_0.90/src/objective/regression_obj.cu:152: reg:linear is now deprecated in favor of reg:squarederror.\n",
      "[18:04:11] WARNING: C:/Jenkins/workspace/xgboost-win64_release_0.90/src/objective/regression_obj.cu:152: reg:linear is now deprecated in favor of reg:squarederror.\n",
      "[18:04:14] WARNING: C:/Jenkins/workspace/xgboost-win64_release_0.90/src/objective/regression_obj.cu:152: reg:linear is now deprecated in favor of reg:squarederror.\n",
      "[18:04:16] WARNING: C:/Jenkins/workspace/xgboost-win64_release_0.90/src/objective/regression_obj.cu:152: reg:linear is now deprecated in favor of reg:squarederror.\n",
      "[18:04:19] WARNING: C:/Jenkins/workspace/xgboost-win64_release_0.90/src/objective/regression_obj.cu:152: reg:linear is now deprecated in favor of reg:squarederror.\n",
      "[18:04:21] WARNING: C:/Jenkins/workspace/xgboost-win64_release_0.90/src/objective/regression_obj.cu:152: reg:linear is now deprecated in favor of reg:squarederror.\n",
      "[18:04:24] WARNING: C:/Jenkins/workspace/xgboost-win64_release_0.90/src/objective/regression_obj.cu:152: reg:linear is now deprecated in favor of reg:squarederror.\n",
      "[18:04:25] WARNING: C:/Jenkins/workspace/xgboost-win64_release_0.90/src/objective/regression_obj.cu:152: reg:linear is now deprecated in favor of reg:squarederror.\n",
      "[18:04:27] WARNING: C:/Jenkins/workspace/xgboost-win64_release_0.90/src/objective/regression_obj.cu:152: reg:linear is now deprecated in favor of reg:squarederror.\n",
      "[18:04:29] WARNING: C:/Jenkins/workspace/xgboost-win64_release_0.90/src/objective/regression_obj.cu:152: reg:linear is now deprecated in favor of reg:squarederror.\n",
      "[18:04:30] WARNING: C:/Jenkins/workspace/xgboost-win64_release_0.90/src/objective/regression_obj.cu:152: reg:linear is now deprecated in favor of reg:squarederror.\n",
      "[18:04:32] WARNING: C:/Jenkins/workspace/xgboost-win64_release_0.90/src/objective/regression_obj.cu:152: reg:linear is now deprecated in favor of reg:squarederror.\n",
      "[18:04:38] WARNING: C:/Jenkins/workspace/xgboost-win64_release_0.90/src/objective/regression_obj.cu:152: reg:linear is now deprecated in favor of reg:squarederror.\n",
      "[18:04:45] WARNING: C:/Jenkins/workspace/xgboost-win64_release_0.90/src/objective/regression_obj.cu:152: reg:linear is now deprecated in favor of reg:squarederror.\n",
      "[18:04:52] WARNING: C:/Jenkins/workspace/xgboost-win64_release_0.90/src/objective/regression_obj.cu:152: reg:linear is now deprecated in favor of reg:squarederror.\n",
      "[18:04:58] WARNING: C:/Jenkins/workspace/xgboost-win64_release_0.90/src/objective/regression_obj.cu:152: reg:linear is now deprecated in favor of reg:squarederror.\n",
      "[18:05:05] WARNING: C:/Jenkins/workspace/xgboost-win64_release_0.90/src/objective/regression_obj.cu:152: reg:linear is now deprecated in favor of reg:squarederror.\n",
      "[18:05:10] WARNING: C:/Jenkins/workspace/xgboost-win64_release_0.90/src/objective/regression_obj.cu:152: reg:linear is now deprecated in favor of reg:squarederror.\n",
      "[18:05:15] WARNING: C:/Jenkins/workspace/xgboost-win64_release_0.90/src/objective/regression_obj.cu:152: reg:linear is now deprecated in favor of reg:squarederror.\n",
      "[18:05:20] WARNING: C:/Jenkins/workspace/xgboost-win64_release_0.90/src/objective/regression_obj.cu:152: reg:linear is now deprecated in favor of reg:squarederror.\n",
      "[18:05:25] WARNING: C:/Jenkins/workspace/xgboost-win64_release_0.90/src/objective/regression_obj.cu:152: reg:linear is now deprecated in favor of reg:squarederror.\n",
      "[18:05:30] WARNING: C:/Jenkins/workspace/xgboost-win64_release_0.90/src/objective/regression_obj.cu:152: reg:linear is now deprecated in favor of reg:squarederror.\n",
      "[18:05:34] WARNING: C:/Jenkins/workspace/xgboost-win64_release_0.90/src/objective/regression_obj.cu:152: reg:linear is now deprecated in favor of reg:squarederror.\n",
      "[18:05:37] WARNING: C:/Jenkins/workspace/xgboost-win64_release_0.90/src/objective/regression_obj.cu:152: reg:linear is now deprecated in favor of reg:squarederror.\n",
      "[18:05:41] WARNING: C:/Jenkins/workspace/xgboost-win64_release_0.90/src/objective/regression_obj.cu:152: reg:linear is now deprecated in favor of reg:squarederror.\n",
      "[18:05:45] WARNING: C:/Jenkins/workspace/xgboost-win64_release_0.90/src/objective/regression_obj.cu:152: reg:linear is now deprecated in favor of reg:squarederror.\n",
      "[18:05:49] WARNING: C:/Jenkins/workspace/xgboost-win64_release_0.90/src/objective/regression_obj.cu:152: reg:linear is now deprecated in favor of reg:squarederror.\n",
      "[18:05:52] WARNING: C:/Jenkins/workspace/xgboost-win64_release_0.90/src/objective/regression_obj.cu:152: reg:linear is now deprecated in favor of reg:squarederror.\n",
      "[18:05:55] WARNING: C:/Jenkins/workspace/xgboost-win64_release_0.90/src/objective/regression_obj.cu:152: reg:linear is now deprecated in favor of reg:squarederror.\n",
      "[18:05:59] WARNING: C:/Jenkins/workspace/xgboost-win64_release_0.90/src/objective/regression_obj.cu:152: reg:linear is now deprecated in favor of reg:squarederror.\n",
      "[18:06:02] WARNING: C:/Jenkins/workspace/xgboost-win64_release_0.90/src/objective/regression_obj.cu:152: reg:linear is now deprecated in favor of reg:squarederror.\n",
      "[18:06:05] WARNING: C:/Jenkins/workspace/xgboost-win64_release_0.90/src/objective/regression_obj.cu:152: reg:linear is now deprecated in favor of reg:squarederror.\n",
      "[18:06:08] WARNING: C:/Jenkins/workspace/xgboost-win64_release_0.90/src/objective/regression_obj.cu:152: reg:linear is now deprecated in favor of reg:squarederror.\n",
      "[18:06:12] WARNING: C:/Jenkins/workspace/xgboost-win64_release_0.90/src/objective/regression_obj.cu:152: reg:linear is now deprecated in favor of reg:squarederror.\n",
      "[18:06:15] WARNING: C:/Jenkins/workspace/xgboost-win64_release_0.90/src/objective/regression_obj.cu:152: reg:linear is now deprecated in favor of reg:squarederror.\n",
      "[18:06:18] WARNING: C:/Jenkins/workspace/xgboost-win64_release_0.90/src/objective/regression_obj.cu:152: reg:linear is now deprecated in favor of reg:squarederror.\n"
     ]
    },
    {
     "name": "stdout",
     "output_type": "stream",
     "text": [
      "[18:06:21] WARNING: C:/Jenkins/workspace/xgboost-win64_release_0.90/src/objective/regression_obj.cu:152: reg:linear is now deprecated in favor of reg:squarederror.\n",
      "Tuned Xgboost Parameters: {'subsample': 0.7000000000000001, 'reg_alpha': 0.0005428675439323859, 'n_estimators': 400, 'max_depth': 7, 'learning_rate': 0.1, 'colsample_bytree': 0.1, 'colsample_bynode': 0.9000000000000001, 'colsample_bylevel': 0.9000000000000001}\n",
      "Best score is 0.5591264635574758\n"
     ]
    }
   ],
   "source": [
    "# Create the random grid\n",
    "para = {'n_estimators': range(100,500,100),'max_depth': range(3,10,1),'reg_alpha':np.logspace(-4, 0, 50),'subsample': np.arange(0.1,1,0.2),'colsample_bytree': np.arange(0.1,1,0.2),'colsample_bylevel': np.arange(0.1,1,0.2),'colsample_bynode': np.arange(0.1,1,0.2),'learning_rate': np.arange(.05, 1, .05)}\n",
    "\n",
    "# Initialize a Xgboost classifier: Xgb\n",
    "Xgb = XGBRegressor()\n",
    "\n",
    "# Initialize the RandomSearchCV object: Xgb_cv\n",
    "xgb_cv = RandomizedSearchCV(Xgb, para, cv=5)\n",
    "\n",
    "# Fit it to the data\n",
    "xgb_cv.fit(X, Y)\n",
    "  \n",
    "# Print the tuned parameters and score\n",
    "print(\"Tuned Xgboost Parameters: {}\".format(xgb_cv.best_params_))\n",
    "print(\"Best score is {}\".format(xgb_cv.best_score_))"
   ]
  },
  {
   "cell_type": "code",
   "execution_count": 172,
   "metadata": {},
   "outputs": [
    {
     "name": "stdout",
     "output_type": "stream",
     "text": [
      "[18:15:31] WARNING: C:/Jenkins/workspace/xgboost-win64_release_0.90/src/objective/regression_obj.cu:152: reg:linear is now deprecated in favor of reg:squarederror.\n",
      "[0.00593016 0.00547296 0.01191489 0.00407901 0.01238559 0.03521245\n",
      " 0.00588531 0.02130579 0.0186008  0.00722397 0.01041762 0.00919815\n",
      " 0.00798316 0.05105332 0.03521894 0.00862056 0.05665969 0.07658456\n",
      " 0.07151289 0.5447401 ]\n"
     ]
    },
    {
     "data": {
      "image/png": "[encoded data removed]",
      "text/plain": [
       "<Figure size 1440x720 with 1 Axes>"
      ]
     },
     "metadata": {
      "needs_background": "light"
     },
     "output_type": "display_data"
    },
    {
     "name": "stdout",
     "output_type": "stream",
     "text": [
      "<<<------------------- Training Data Score --------------------->\n",
      "\n",
      "r square :{} 0.5881613416016214\n",
      "Adjusted r square:0.5875193984040554\n",
      "MAPE:20.829941017122948\n",
      "MSE: 6.46206703065941\n",
      "RMSE: 2.5420596040729277\n",
      "RMSLE: 0.23079178068732548\n",
      "\n",
      "<<<------------------- Test Data Score --------------------->\n",
      "\n",
      "r square :{} 0.5294992395697691\n",
      "Adjusted r square:0.5265521630872747\n",
      "MAPE:22.031167472955893\n",
      "MSE: 7.278393393951156\n",
      "RMSE: 2.697849772309636\n",
      "RMSLE: 0.24707268264067805\n"
     ]
    }
   ],
   "source": [
    "# Initialize a xgb regressor: xgb\n",
    "Xgb = XGBRegressor(subsample= 0.7000000000000001, reg_alpha= 0.0005428675439323859, n_estimators= 400, max_depth= 7, learning_rate= 0.1, colsample_bytree= 0.1, colsample_bynode= 0.9000000000000001, colsample_bylevel= 0.9000000000000001)\n",
    "\n",
    "# Fit the regressor to the data\n",
    "Xgb.fit(X_train,Y_train)\n",
    "\n",
    "# Compute and print the coefficients\n",
    "xgb_features = Xgb.feature_importances_\n",
    "print(xgb_features)\n",
    "\n",
    "# Sort feature importances in descending order\n",
    "indices = np.argsort(xgb_features)[::1]\n",
    "\n",
    "# Rearrange feature names so they match the sorted feature importances\n",
    "names = [test.columns[i] for i in indices]\n",
    "\n",
    "# Creating plot\n",
    "fig = plt.figure(figsize=(20,10))\n",
    "plt.title(\"Feature Importance\")\n",
    "\n",
    "# Add horizontal bars\n",
    "plt.barh(range(pd.DataFrame(X_train).shape[1]),xgb_features[indices],align = 'center')\n",
    "plt.yticks(range(pd.DataFrame(X_train).shape[1]), names)\n",
    "plt.show()# Make predictions\n",
    "test_scores(Xgb)"
   ]
  },
  {
   "cell_type": "markdown",
   "metadata": {},
   "source": [
    "### Finalized Model"
   ]
  },
  {
   "cell_type": "markdown",
   "metadata": {},
   "source": [
    "Creating Standalone Model for entire dataset"
   ]
  },
  {
   "cell_type": "code",
   "execution_count": 173,
   "metadata": {},
   "outputs": [
    {
     "data": {
      "text/plain": [
       "Index(['passenger_count_2', 'passenger_count_3', 'passenger_count_4',\n",
       "       'passenger_count_5', 'passenger_count_6', 'TimeInterval_EarlyMorning',\n",
       "       'TimeInterval_Evening', 'TimeInterval_LateNight',\n",
       "       'TimeInterval_Morning', 'Seasons_Spring', 'Seasons_Summer',\n",
       "       'Seasons_Winter', 'WeekendWeekday_Weekend', 'year_2010', 'year_2011',\n",
       "       'year_2012', 'year_2013', 'year_2014', 'year_2015', 'geodesic'],\n",
       "      dtype='object')"
      ]
     },
     "execution_count": 173,
     "metadata": {},
     "output_type": "execute_result"
    }
   ],
   "source": [
    "test.columns"
   ]
  },
  {
   "cell_type": "code",
   "execution_count": 174,
   "metadata": {},
   "outputs": [
    {
     "data": {
      "text/plain": [
       "Index(['fare_amount', 'passenger_count_2', 'passenger_count_3',\n",
       "       'passenger_count_4', 'passenger_count_5', 'passenger_count_6',\n",
       "       'TimeInterval_EarlyMorning', 'TimeInterval_Evening',\n",
       "       'TimeInterval_LateNight', 'TimeInterval_Morning', 'Seasons_Spring',\n",
       "       'Seasons_Summer', 'Seasons_Winter', 'WeekendWeekday_Weekend',\n",
       "       'year_2010', 'year_2011', 'year_2012', 'year_2013', 'year_2014',\n",
       "       'year_2015', 'geodesic'],\n",
       "      dtype='object')"
      ]
     },
     "execution_count": 174,
     "metadata": {},
     "output_type": "execute_result"
    }
   ],
   "source": [
    "train.columns"
   ]
  },
  {
   "cell_type": "code",
   "execution_count": 175,
   "metadata": {},
   "outputs": [
    {
     "data": {
      "text/plain": [
       "((9914, 20), (16066, 21))"
      ]
     },
     "execution_count": 175,
     "metadata": {},
     "output_type": "execute_result"
    }
   ],
   "source": [
    "test.shape,train.shape"
   ]
  },
  {
   "cell_type": "code",
   "execution_count": 176,
   "metadata": {},
   "outputs": [],
   "source": [
    "test_predicted=pd.read_csv('test.csv')"
   ]
  },
  {
   "cell_type": "code",
   "execution_count": 177,
   "metadata": {},
   "outputs": [
    {
     "data": {
      "text/html": [
       "<div>\n",
       "<style scoped>\n",
       "    .dataframe tbody tr th:only-of-type {\n",
       "        vertical-align: middle;\n",
       "    }\n",
       "\n",
       "    .dataframe tbody tr th {\n",
       "        vertical-align: top;\n",
       "    }\n",
       "\n",
       "    .dataframe thead th {\n",
       "        text-align: right;\n",
       "    }\n",
       "</style>\n",
       "<table border=\"1\" class=\"dataframe\">\n",
       "  <thead>\n",
       "    <tr style=\"text-align: right;\">\n",
       "      <th></th>\n",
       "      <th>pickup_datetime</th>\n",
       "      <th>pickup_longitude</th>\n",
       "      <th>pickup_latitude</th>\n",
       "      <th>dropoff_longitude</th>\n",
       "      <th>dropoff_latitude</th>\n",
       "      <th>passenger_count</th>\n",
       "    </tr>\n",
       "  </thead>\n",
       "  <tbody>\n",
       "    <tr>\n",
       "      <td>0</td>\n",
       "      <td>2015-01-27 13:08:24 UTC</td>\n",
       "      <td>-73.973320</td>\n",
       "      <td>40.763805</td>\n",
       "      <td>-73.981430</td>\n",
       "      <td>40.743835</td>\n",
       "      <td>1</td>\n",
       "    </tr>\n",
       "    <tr>\n",
       "      <td>1</td>\n",
       "      <td>2015-01-27 13:08:24 UTC</td>\n",
       "      <td>-73.986862</td>\n",
       "      <td>40.719383</td>\n",
       "      <td>-73.998886</td>\n",
       "      <td>40.739201</td>\n",
       "      <td>1</td>\n",
       "    </tr>\n",
       "    <tr>\n",
       "      <td>2</td>\n",
       "      <td>2011-10-08 11:53:44 UTC</td>\n",
       "      <td>-73.982524</td>\n",
       "      <td>40.751260</td>\n",
       "      <td>-73.979654</td>\n",
       "      <td>40.746139</td>\n",
       "      <td>1</td>\n",
       "    </tr>\n",
       "    <tr>\n",
       "      <td>3</td>\n",
       "      <td>2012-12-01 21:12:12 UTC</td>\n",
       "      <td>-73.981160</td>\n",
       "      <td>40.767807</td>\n",
       "      <td>-73.990448</td>\n",
       "      <td>40.751635</td>\n",
       "      <td>1</td>\n",
       "    </tr>\n",
       "    <tr>\n",
       "      <td>4</td>\n",
       "      <td>2012-12-01 21:12:12 UTC</td>\n",
       "      <td>-73.966046</td>\n",
       "      <td>40.789775</td>\n",
       "      <td>-73.988565</td>\n",
       "      <td>40.744427</td>\n",
       "      <td>1</td>\n",
       "    </tr>\n",
       "  </tbody>\n",
       "</table>\n",
       "</div>"
      ],
      "text/plain": [
       "           pickup_datetime  pickup_longitude  pickup_latitude  \\\n",
       "0  2015-01-27 13:08:24 UTC        -73.973320        40.763805   \n",
       "1  2015-01-27 13:08:24 UTC        -73.986862        40.719383   \n",
       "2  2011-10-08 11:53:44 UTC        -73.982524        40.751260   \n",
       "3  2012-12-01 21:12:12 UTC        -73.981160        40.767807   \n",
       "4  2012-12-01 21:12:12 UTC        -73.966046        40.789775   \n",
       "\n",
       "   dropoff_longitude  dropoff_latitude  passenger_count  \n",
       "0         -73.981430         40.743835                1  \n",
       "1         -73.998886         40.739201                1  \n",
       "2         -73.979654         40.746139                1  \n",
       "3         -73.990448         40.751635                1  \n",
       "4         -73.988565         40.744427                1  "
      ]
     },
     "execution_count": 177,
     "metadata": {},
     "output_type": "execute_result"
    }
   ],
   "source": [
    "test_predicted.head()"
   ]
  },
  {
   "cell_type": "code",
   "execution_count": 178,
   "metadata": {},
   "outputs": [],
   "source": [
    "test_pickup_datetime=test_predicted['pickup_datetime']"
   ]
  },
  {
   "cell_type": "code",
   "execution_count": 184,
   "metadata": {},
   "outputs": [],
   "source": [
    "#Function for R^2, Adj R^2, MAPE, MSE, RMSE\n",
    "def score(y, y_hat):\n",
    "    print('r square :{}', metrics.r2_score(y, y_hat))\n",
    "    print('Adjusted r square:{}'.format(1 - (1-metrics.r2_score(y, y_hat))*(len(y)-1)/(len(y)-X_train.shape[1]-1)))\n",
    "    print('MAPE:{}'.format(np.mean(np.abs((y - y_hat) / y))*100))\n",
    "    print('MSE:', metrics.mean_squared_error(y, y_hat))\n",
    "    print('RMSE:', np.sqrt(metrics.mean_squared_error(y, y_hat)))\n",
    "\n",
    "\n",
    "# Function to define Scores\n",
    "def scores(model):\n",
    "    print('<<<------------------- Training Data Score --------------------->')\n",
    "    print()\n",
    "    #Predicting result on Training data\n",
    "    Y_pred = model.predict(X)\n",
    "    score(Y,Y_pred)\n",
    "    print('RMSLE:',rmsle(Y,Y_pred))"
   ]
  },
  {
   "cell_type": "code",
   "execution_count": 185,
   "metadata": {},
   "outputs": [
    {
     "name": "stdout",
     "output_type": "stream",
     "text": [
      "[18:44:30] WARNING: C:/Jenkins/workspace/xgboost-win64_release_0.90/src/objective/regression_obj.cu:152: reg:linear is now deprecated in favor of reg:squarederror.\n",
      "[0.00155935 0.00185349 0.00250581 0.00251283 0.00473179 0.02087765\n",
      " 0.00135975 0.00503138 0.01620605 0.00278392 0.0041573  0.0050326\n",
      " 0.00436757 0.02208201 0.00714614 0.00363936 0.02874118 0.03757793\n",
      " 0.02296776 0.80486614]\n"
     ]
    },
    {
     "data": {
      "image/png": "[encoded data removed]",
      "text/plain": [
       "<Figure size 1440x720 with 1 Axes>"
      ]
     },
     "metadata": {
      "needs_background": "light"
     },
     "output_type": "display_data"
    },
    {
     "name": "stdout",
     "output_type": "stream",
     "text": [
      "<<<------------------- Training Data Score --------------------->\n",
      "\n",
      "r square :{} 0.5544717216937789\n",
      "Adjusted r square:0.5539163732633567\n",
      "MAPE:22.338955482263938\n",
      "MSE: 6.971021003568455\n",
      "RMSE: 2.6402691157471914\n",
      "RMSLE: 0.24305065499034056\n"
     ]
    }
   ],
   "source": [
    "# Instantiate a xgb regressor: xgb\n",
    "Xgb = XGBRegressor(subsample= 0.7000000000000001, reg_alpha= 0.0005428675439323859, n_estimators= 400, max_depth= 7, learning_rate= 0.1, colsample_bytree= 0.1, colsample_bynode= 0.9000000000000001, colsample_bylevel= 0.9000000000000001)\n",
    "\n",
    "# Fit the regressor to the data\n",
    "Xgb.fit(X,Y)\n",
    "\n",
    "# Compute and print the coefficients\n",
    "xgb_features = Xgb.feature_importances_\n",
    "print(xgb_features)\n",
    "\n",
    "# Sort feature importances in descending order\n",
    "indices = np.argsort(xgb_features)[::1]\n",
    "\n",
    "# Rearrange feature names so they match the sorted feature importances\n",
    "names = [test.columns[i] for i in indices]\n",
    "\n",
    "# Creating plot\n",
    "fig = plt.figure(figsize=(20,10))\n",
    "plt.title(\"Feature Importance\")\n",
    "\n",
    "# Add horizontal bars\n",
    "plt.barh(range(pd.DataFrame(X_train).shape[1]),xgb_features[indices],align = 'center')\n",
    "plt.yticks(range(pd.DataFrame(X_train).shape[1]), names)\n",
    "plt.show()\n",
    "scores(Xgb)\n",
    "\n",
    "# Predictions\n",
    "pred = Xgb.predict(test.values)\n",
    "pred_results_wrt_date = pd.DataFrame({\"pickup_datetime\":test_pickup_datetime,\"fare_amount\" : pred})\n",
    "pred_results_wrt_date.to_csv(\"predictions_xgboost.csv\",index=False)"
   ]
  },
  {
   "cell_type": "code",
   "execution_count": 186,
   "metadata": {},
   "outputs": [
    {
     "data": {
      "text/html": [
       "<div>\n",
       "<style scoped>\n",
       "    .dataframe tbody tr th:only-of-type {\n",
       "        vertical-align: middle;\n",
       "    }\n",
       "\n",
       "    .dataframe tbody tr th {\n",
       "        vertical-align: top;\n",
       "    }\n",
       "\n",
       "    .dataframe thead th {\n",
       "        text-align: right;\n",
       "    }\n",
       "</style>\n",
       "<table border=\"1\" class=\"dataframe\">\n",
       "  <thead>\n",
       "    <tr style=\"text-align: right;\">\n",
       "      <th></th>\n",
       "      <th>pickup_datetime</th>\n",
       "      <th>fare_amount</th>\n",
       "    </tr>\n",
       "  </thead>\n",
       "  <tbody>\n",
       "    <tr>\n",
       "      <td>0</td>\n",
       "      <td>2015-01-27 13:08:24 UTC</td>\n",
       "      <td>9.635707</td>\n",
       "    </tr>\n",
       "    <tr>\n",
       "      <td>1</td>\n",
       "      <td>2015-01-27 13:08:24 UTC</td>\n",
       "      <td>9.696162</td>\n",
       "    </tr>\n",
       "    <tr>\n",
       "      <td>2</td>\n",
       "      <td>2011-10-08 11:53:44 UTC</td>\n",
       "      <td>5.315485</td>\n",
       "    </tr>\n",
       "    <tr>\n",
       "      <td>3</td>\n",
       "      <td>2012-12-01 21:12:12 UTC</td>\n",
       "      <td>8.445663</td>\n",
       "    </tr>\n",
       "    <tr>\n",
       "      <td>4</td>\n",
       "      <td>2012-12-01 21:12:12 UTC</td>\n",
       "      <td>13.188313</td>\n",
       "    </tr>\n",
       "    <tr>\n",
       "      <td>...</td>\n",
       "      <td>...</td>\n",
       "      <td>...</td>\n",
       "    </tr>\n",
       "    <tr>\n",
       "      <td>9909</td>\n",
       "      <td>2015-05-10 12:37:51 UTC</td>\n",
       "      <td>10.040934</td>\n",
       "    </tr>\n",
       "    <tr>\n",
       "      <td>9910</td>\n",
       "      <td>2015-01-12 17:05:51 UTC</td>\n",
       "      <td>11.626698</td>\n",
       "    </tr>\n",
       "    <tr>\n",
       "      <td>9911</td>\n",
       "      <td>2015-04-19 20:44:15 UTC</td>\n",
       "      <td>14.967863</td>\n",
       "    </tr>\n",
       "    <tr>\n",
       "      <td>9912</td>\n",
       "      <td>2015-01-31 01:05:19 UTC</td>\n",
       "      <td>14.815756</td>\n",
       "    </tr>\n",
       "    <tr>\n",
       "      <td>9913</td>\n",
       "      <td>2015-01-18 14:06:23 UTC</td>\n",
       "      <td>7.266593</td>\n",
       "    </tr>\n",
       "  </tbody>\n",
       "</table>\n",
       "<p>9914 rows × 2 columns</p>\n",
       "</div>"
      ],
      "text/plain": [
       "              pickup_datetime  fare_amount\n",
       "0     2015-01-27 13:08:24 UTC     9.635707\n",
       "1     2015-01-27 13:08:24 UTC     9.696162\n",
       "2     2011-10-08 11:53:44 UTC     5.315485\n",
       "3     2012-12-01 21:12:12 UTC     8.445663\n",
       "4     2012-12-01 21:12:12 UTC    13.188313\n",
       "...                       ...          ...\n",
       "9909  2015-05-10 12:37:51 UTC    10.040934\n",
       "9910  2015-01-12 17:05:51 UTC    11.626698\n",
       "9911  2015-04-19 20:44:15 UTC    14.967863\n",
       "9912  2015-01-31 01:05:19 UTC    14.815756\n",
       "9913  2015-01-18 14:06:23 UTC     7.266593\n",
       "\n",
       "[9914 rows x 2 columns]"
      ]
     },
     "execution_count": 186,
     "metadata": {},
     "output_type": "execute_result"
    }
   ],
   "source": [
    "pred_results_wrt_date"
   ]
  }
 ],
 "metadata": {
  "kernelspec": {
   "display_name": "Python 3",
   "language": "python",
   "name": "python3"
  },
  "language_info": {
   "codemirror_mode": {
    "name": "ipython",
    "version": 3
   },
   "file_extension": ".py",
   "mimetype": "text/x-python",
   "name": "python",
   "nbconvert_exporter": "python",
   "pygments_lexer": "ipython3",
   "version": "3.7.4"
  }
 },
 "nbformat": 4,
 "nbformat_minor": 2
}
